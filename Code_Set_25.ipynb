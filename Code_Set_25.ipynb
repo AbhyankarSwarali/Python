{
 "cells": [
  {
   "cell_type": "code",
   "execution_count": 2,
   "id": "00841b35-ca22-4e73-bccd-aebe19f4e243",
   "metadata": {},
   "outputs": [
    {
     "name": "stdin",
     "output_type": "stream",
     "text": [
      "Enter a phrase: the quick brown fox jumps over the lazy dog\n"
     ]
    },
    {
     "name": "stdout",
     "output_type": "stream",
     "text": [
      "True\n"
     ]
    }
   ],
   "source": [
    "# 111. Pangram phrase \n",
    "def pangram(phrase): \n",
    "    letter = {'a', 'b', 'c', 'd', 'e', 'f', 'g', 'h', 'i', 'j', 'k', 'l', 'm', \n",
    "              'n', 'o', 'p', 'q', 'r', 's', 't', 'u','v', 'w', 'x', 'y', 'z'}\n",
    "\n",
    "    phr = set(phrase)\n",
    "    if len(phr) >= len(letter): \n",
    "        return True\n",
    "    else: \n",
    "        return False\n",
    "\n",
    "p = input(\"Enter a phrase:\")\n",
    "P = pangram(p)\n",
    "print(P)"
   ]
  },
  {
   "cell_type": "code",
   "execution_count": 3,
   "id": "c07efa45-38e0-42c6-8d76-bcd34ef9795f",
   "metadata": {},
   "outputs": [
    {
     "name": "stdin",
     "output_type": "stream",
     "text": [
      "Enter a phrase Hello ThEre hoW Are YOu\n"
     ]
    },
    {
     "name": "stdout",
     "output_type": "stream",
     "text": [
      "(12, 7)\n"
     ]
    }
   ],
   "source": [
    "# 112. Case counting \n",
    "def count(phrase): \n",
    "    lower = 0\n",
    "    upper = 0\n",
    "\n",
    "    for x in phrase: \n",
    "        if x.islower(): \n",
    "            lower += 1\n",
    "        elif x.isupper(): \n",
    "            upper += 1\n",
    "\n",
    "    return lower, upper\n",
    "\n",
    "L = input(\"Enter a phrase\")\n",
    "print(count(L))"
   ]
  },
  {
   "cell_type": "code",
   "execution_count": 4,
   "id": "2f488cc7-40a3-453c-9f0d-517abe799026",
   "metadata": {},
   "outputs": [
    {
     "name": "stdout",
     "output_type": "stream",
     "text": [
      "1\n"
     ]
    }
   ],
   "source": [
    "# 113. Minimun variable number\n",
    "def minimum(*val, low_limit = None): \n",
    "    if low_limit is None: \n",
    "        return min(val)\n",
    "    else: \n",
    "        L = [x for x in val if x >= low_limit]\n",
    "        return min(L)\n",
    "\n",
    "print(minimum(1, -3, 2, -4, 6, low_limit=0))"
   ]
  }
 ],
 "metadata": {
  "kernelspec": {
   "display_name": "Python [conda env:base] *",
   "language": "python",
   "name": "conda-base-py"
  },
  "language_info": {
   "codemirror_mode": {
    "name": "ipython",
    "version": 3
   },
   "file_extension": ".py",
   "mimetype": "text/x-python",
   "name": "python",
   "nbconvert_exporter": "python",
   "pygments_lexer": "ipython3",
   "version": "3.12.7"
  }
 },
 "nbformat": 4,
 "nbformat_minor": 5
}
