{
 "cells": [
  {
   "cell_type": "code",
   "execution_count": 1,
   "id": "593ab3b5-fc2f-4c11-82c0-acaf96ab16fa",
   "metadata": {},
   "outputs": [],
   "source": [
    "# 137. Compress \n",
    "import zipfile\n",
    "f = zipfile.ZipFile('Cat_Images', 'w', zipfile.ZIP_DEFLATED)\n",
    "f.write('Cat1.jpg')\n",
    "f.write(\"Cat2.jpg\")\n",
    "f.write(\"Cat3.jpg\")\n",
    "f.close()"
   ]
  },
  {
   "cell_type": "code",
   "execution_count": 3,
   "id": "c719d086-255d-41da-a116-f6988c258788",
   "metadata": {},
   "outputs": [],
   "source": [
    "# 138. Decompress \n",
    "from zipfile import * \n",
    "f = ZipFile('Cat_Images', 'r')\n",
    "f.extractall()\n",
    "f.close()"
   ]
  },
  {
   "cell_type": "code",
   "execution_count": 5,
   "id": "ab513646-1cc6-47ad-b3a4-86de8b8ff0d3",
   "metadata": {},
   "outputs": [
    {
     "name": "stdout",
     "output_type": "stream",
     "text": [
      "Length: 7 \tBreadth: 5 \tHeight: 2\n",
      "Volume: 70\n"
     ]
    }
   ],
   "source": [
    "# 139. Inheritance \n",
    "class Rectangle: \n",
    "    def __init__(self, l, b): \n",
    "        self.length = l \n",
    "        self.breadth = b\n",
    "\n",
    "class Cuboid(Rectangle): \n",
    "    def __init__(self, l,b,h):\n",
    "        self.height = h\n",
    "        super().__init__(l,b)\n",
    "\n",
    "    def volume(self): \n",
    "        return self.length * self.breadth * self.height\n",
    "\n",
    "c = Cuboid(7,5,2)\n",
    "print('Length:', c.length, '\\tBreadth:', c.breadth, '\\tHeight:', c.height)\n",
    "print(\"Volume:\", c.volume())"
   ]
  }
 ],
 "metadata": {
  "kernelspec": {
   "display_name": "Python [conda env:base] *",
   "language": "python",
   "name": "conda-base-py"
  },
  "language_info": {
   "codemirror_mode": {
    "name": "ipython",
    "version": 3
   },
   "file_extension": ".py",
   "mimetype": "text/x-python",
   "name": "python",
   "nbconvert_exporter": "python",
   "pygments_lexer": "ipython3",
   "version": "3.12.7"
  }
 },
 "nbformat": 4,
 "nbformat_minor": 5
}
