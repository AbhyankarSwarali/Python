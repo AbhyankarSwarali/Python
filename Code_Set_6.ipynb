{
 "cells": [
  {
   "cell_type": "code",
   "execution_count": 1,
   "id": "c6c15fcd-dead-439b-8006-ea4365988877",
   "metadata": {},
   "outputs": [
    {
     "name": "stdin",
     "output_type": "stream",
     "text": [
      "Enter a number: 5\n"
     ]
    },
    {
     "name": "stdout",
     "output_type": "stream",
     "text": [
      "5 X 1 = 5\n",
      "5 X 2 = 10\n",
      "5 X 3 = 15\n",
      "5 X 4 = 20\n",
      "5 X 5 = 25\n",
      "5 X 6 = 30\n",
      "5 X 7 = 35\n",
      "5 X 8 = 40\n",
      "5 X 9 = 45\n",
      "5 X 10 = 50\n"
     ]
    }
   ],
   "source": [
    "# 26. Multiplication Table \n",
    "n = int(input(\"Enter a number:\"))\n",
    "count = 1\n",
    "while count <= 10: \n",
    "    print(n, 'X', count, '=', n*count)\n",
    "    count += 1 "
   ]
  },
  {
   "cell_type": "code",
   "execution_count": 4,
   "id": "17350158-e020-464f-bc9b-c220278f810e",
   "metadata": {},
   "outputs": [
    {
     "name": "stdin",
     "output_type": "stream",
     "text": [
      "Enter a number: 225316\n"
     ]
    },
    {
     "name": "stdout",
     "output_type": "stream",
     "text": [
      "Total digits: 6\n"
     ]
    }
   ],
   "source": [
    "# 27. Counting digits \n",
    "number = int(input(\"Enter a number:\"))\n",
    "counter = 0\n",
    "while number>0: \n",
    "    number = number // 10\n",
    "    counter += 1 \n",
    "print(\"Total digits:\", counter)"
   ]
  },
  {
   "cell_type": "code",
   "execution_count": 5,
   "id": "1c5209a7-9ebe-4359-be1a-936ac9c5be11",
   "metadata": {},
   "outputs": [
    {
     "name": "stdin",
     "output_type": "stream",
     "text": [
      "Enter a number: 124536\n"
     ]
    },
    {
     "name": "stdout",
     "output_type": "stream",
     "text": [
      "Sum: 21\n"
     ]
    }
   ],
   "source": [
    "# 28. Sum of digits\n",
    "digit = int(input(\"Enter a number:\"))\n",
    "Sum=0\n",
    "while digit>0: \n",
    "    r = digit % 10\n",
    "    digit = digit // 10\n",
    "    Sum += r \n",
    "print(\"Sum:\", Sum)"
   ]
  },
  {
   "cell_type": "code",
   "execution_count": 6,
   "id": "f8c91baf-4469-487f-92f6-e1f88b985b17",
   "metadata": {},
   "outputs": [
    {
     "name": "stdin",
     "output_type": "stream",
     "text": [
      "Enter a number: 84523\n"
     ]
    },
    {
     "name": "stdout",
     "output_type": "stream",
     "text": [
      "New number: 32548\n"
     ]
    }
   ],
   "source": [
    "# 29. Reverse a number\n",
    "Num = int(input(\"Enter a number:\"))\n",
    "rev = 0\n",
    "while Num > 0: \n",
    "    r = Num % 10\n",
    "    Num = Num // 10\n",
    "    rev = rev*10 + r\n",
    "print(\"New number:\", rev)"
   ]
  },
  {
   "cell_type": "code",
   "execution_count": 7,
   "id": "192e1230-1751-413f-bb15-21a7e4ff5b59",
   "metadata": {},
   "outputs": [
    {
     "name": "stdin",
     "output_type": "stream",
     "text": [
      "Enter a number: 235532\n"
     ]
    },
    {
     "name": "stdout",
     "output_type": "stream",
     "text": [
      "Palindrome\n"
     ]
    }
   ],
   "source": [
    "# 30. Number Palindrome \n",
    "dig = int(input(\"Enter a number:\"))\n",
    "m = dig \n",
    "rev = 0\n",
    "while dig > 0: \n",
    "    r = dig % 10\n",
    "    dig = dig // 10\n",
    "    rev = rev*10 + r\n",
    "if m==rev: \n",
    "    print(\"Palindrome\")\n",
    "else: \n",
    "    print(\"Not a palindrome\")"
   ]
  }
 ],
 "metadata": {
  "kernelspec": {
   "display_name": "Python 3 (ipykernel)",
   "language": "python",
   "name": "python3"
  },
  "language_info": {
   "codemirror_mode": {
    "name": "ipython",
    "version": 3
   },
   "file_extension": ".py",
   "mimetype": "text/x-python",
   "name": "python",
   "nbconvert_exporter": "python",
   "pygments_lexer": "ipython3",
   "version": "3.12.7"
  }
 },
 "nbformat": 4,
 "nbformat_minor": 5
}
