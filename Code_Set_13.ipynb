{
 "cells": [
  {
   "cell_type": "code",
   "execution_count": 8,
   "id": "98644557-4dd7-4fc4-b6a9-c919e3c72a8f",
   "metadata": {},
   "outputs": [
    {
     "name": "stdin",
     "output_type": "stream",
     "text": [
      "Enter aadhar card number: 595254763490\n"
     ]
    },
    {
     "name": "stdout",
     "output_type": "stream",
     "text": [
      "**** **** 3490\n"
     ]
    }
   ],
   "source": [
    "# 61. Aadhar Card details \n",
    "cardno = input(\"Enter aadhar card number:\")\n",
    "last4 = cardno[8:]\n",
    "star = '*' * 4 + ' '\n",
    "aadhar = star * 2 + last4\n",
    "print(aadhar)"
   ]
  },
  {
   "cell_type": "code",
   "execution_count": 6,
   "id": "cc60de85-95b1-4cc0-8fcc-323ae3bfe514",
   "metadata": {},
   "outputs": [
    {
     "name": "stdin",
     "output_type": "stream",
     "text": [
      "Enter your email: abcd123@gmail.com\n"
     ]
    },
    {
     "name": "stdout",
     "output_type": "stream",
     "text": [
      "Domain: gmail.com\n",
      "Username: abcd123\n"
     ]
    }
   ],
   "source": [
    "# 62. Domain from email\n",
    "email = input(\"Enter your email:\")\n",
    "domain = email.split('@')\n",
    "print('Domain:', domain[1])\n",
    "print(\"Username:\", domain[0])"
   ]
  },
  {
   "cell_type": "code",
   "execution_count": 12,
   "id": "b445bb23-cbee-4ed9-9851-80a33c9e6842",
   "metadata": {},
   "outputs": [
    {
     "name": "stdin",
     "output_type": "stream",
     "text": [
      "Enter a string: Nitin\n"
     ]
    },
    {
     "name": "stdout",
     "output_type": "stream",
     "text": [
      "Palindrome\n"
     ]
    }
   ],
   "source": [
    "# 63. Palindrome\n",
    "s = input(\"Enter a string:\")\n",
    "pali = s[::-1]\n",
    "if s.lower() == pali.lower(): \n",
    "    print(\"Palindrome\")\n",
    "else: \n",
    "    print(\"Not a palindrome\")"
   ]
  },
  {
   "cell_type": "code",
   "execution_count": 15,
   "id": "17fb7668-ba44-449f-8739-9b2600f5f8fa",
   "metadata": {},
   "outputs": [
    {
     "name": "stdin",
     "output_type": "stream",
     "text": [
      "Enter date: 01/03/2003\n"
     ]
    },
    {
     "name": "stdout",
     "output_type": "stream",
     "text": [
      "Day: 01\n",
      "Month: 03\n",
      "Year: 2003\n"
     ]
    }
   ],
   "source": [
    "# 65. Date, Month, Year\n",
    "date = input(\"Enter date:\")\n",
    "sl1 = date.find('/')\n",
    "sl2 = date.rfind('/')\n",
    "dd = date[:sl1]\n",
    "mm = date[sl1+1:sl2]\n",
    "year = date[sl2+1:]\n",
    "print('Day:', dd)\n",
    "print(\"Month:\", mm)\n",
    "print(\"Year:\", year)"
   ]
  }
 ],
 "metadata": {
  "kernelspec": {
   "display_name": "Python 3 (ipykernel)",
   "language": "python",
   "name": "python3"
  },
  "language_info": {
   "codemirror_mode": {
    "name": "ipython",
    "version": 3
   },
   "file_extension": ".py",
   "mimetype": "text/x-python",
   "name": "python",
   "nbconvert_exporter": "python",
   "pygments_lexer": "ipython3",
   "version": "3.12.7"
  }
 },
 "nbformat": 4,
 "nbformat_minor": 5
}
