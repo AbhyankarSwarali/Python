{
 "cells": [
  {
   "cell_type": "code",
   "execution_count": 4,
   "id": "39dab4ab-ec27-4638-a6eb-a1604075dde0",
   "metadata": {},
   "outputs": [
    {
     "name": "stdout",
     "output_type": "stream",
     "text": [
      "Basic 30000 \tAllowance: 5000 \tDeduction: 1500\n",
      "Salary: 33500\n"
     ]
    }
   ],
   "source": [
    "# 91. Positional Argument\n",
    "def net_sal(basic, allowance, deduction):\n",
    "    print(\"Basic\", basic, \"\\tAllowance:\", allowance, '\\tDeduction:', deduction)\n",
    "    net = basic + allowance - deduction\n",
    "    return net\n",
    "salary = net_sal(30000, 5000, 1500)\n",
    "print(\"Salary:\", salary)"
   ]
  },
  {
   "cell_type": "code",
   "execution_count": 5,
   "id": "83ce506e-869e-4fb6-9bee-7adeb2c8e47e",
   "metadata": {},
   "outputs": [
    {
     "name": "stdout",
     "output_type": "stream",
     "text": [
      "Basic 45000 \tAllowance: 2000 \tDeduction: 750\n",
      "Salary: 46250\n"
     ]
    }
   ],
   "source": [
    "# 92. Keyword Argument\n",
    "def net_sal(basic, allowance, deduction):\n",
    "    print(\"Basic\", basic, \"\\tAllowance:\", allowance, '\\tDeduction:', deduction)\n",
    "    net = basic + allowance - deduction\n",
    "    return net\n",
    "Salary = net_sal(basic=45000, allowance=2000, deduction=750)\n",
    "print(\"Salary:\", Salary)"
   ]
  },
  {
   "cell_type": "code",
   "execution_count": 6,
   "id": "505d41ad-3217-4b32-b60f-54c612ad8b93",
   "metadata": {},
   "outputs": [
    {
     "name": "stdout",
     "output_type": "stream",
     "text": [
      "36\n",
      "33\n",
      "18\n",
      "132\n"
     ]
    }
   ],
   "source": [
    "# 93. Default Argument\n",
    "def addn(a, b=5, c=3): \n",
    "    return a+b+c\n",
    "print(addn(11,12,13))   # a=11, b=12, c=13\n",
    "print(addn(10,20))   # a=10, b=20, c=3 \n",
    "print(addn(10))   # a=10, b=5, c=3\n",
    "print(addn(a=33, b=44, c=55))"
   ]
  },
  {
   "cell_type": "code",
   "execution_count": 9,
   "id": "1770d58c-4a24-4225-8eeb-997ffc326e2d",
   "metadata": {},
   "outputs": [
    {
     "data": {
      "text/plain": [
       "[1, 2, 3, 4, 5]"
      ]
     },
     "execution_count": 9,
     "metadata": {},
     "output_type": "execute_result"
    }
   ],
   "source": [
    "# 94. Function to add item to list \n",
    "def additem(item, L=[]): \n",
    "    L.append(item)\n",
    "    return L\n",
    "L1 = [1,2,3,4]\n",
    "additem(5, L1)"
   ]
  },
  {
   "cell_type": "code",
   "execution_count": 12,
   "id": "7f0c5e0e-da10-481c-a064-df36965999b7",
   "metadata": {},
   "outputs": [
    {
     "name": "stdout",
     "output_type": "stream",
     "text": [
      "2 5 4 8 3 9\n",
      "31\n"
     ]
    }
   ],
   "source": [
    "# 95. Mixed Arguments \n",
    "def add(a,b,/,c,d,e,f): \n",
    "    print(a,b,c,d,e,f) \n",
    "    return a+b+c+d+e+f\n",
    "print(add(d=2, e=5, b=7, c=3, f=4, a=8))\n ",
    "print(add(2, 5, e=8, f=3, c=9, d=4))\n "
   ]
  }
 ],
 "metadata": {
  "kernelspec": {
   "display_name": "Python [conda env:base] *",
   "language": "python",
   "name": "conda-base-py"
  },
  "language_info": {
   "codemirror_mode": {
    "name": "ipython",
    "version": 3
   },
   "file_extension": ".py",
   "mimetype": "text/x-python",
   "name": "python",
   "nbconvert_exporter": "python",
   "pygments_lexer": "ipython3",
   "version": "3.12.7"
  }
 },
 "nbformat": 4,
 "nbformat_minor": 5
}
