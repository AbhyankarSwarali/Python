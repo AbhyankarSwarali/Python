{
 "cells": [
  {
   "cell_type": "code",
   "execution_count": null,
   "id": "3e0914e5-a416-4881-978d-cee1bd9a2d51",
   "metadata": {},
   "outputs": [],
   "source": [
    "# 36. Infinite loop \n",
    "while True: \n",
    "    n = int(input(\"Entera number:\"))\n",
    "    if n >0: \n",
    "        print(\"Positive\")\n",
    "    else:\n",
    "        print(\"Negative\")"
   ]
  },
  {
   "cell_type": "code",
   "execution_count": 3,
   "id": "530baae4-a45e-4bbd-8669-4b64ef9a1355",
   "metadata": {},
   "outputs": [
    {
     "name": "stdout",
     "output_type": "stream",
     "text": [
      "1, 2, 3, 4, "
     ]
    }
   ],
   "source": [
    "# 37. Break While\n",
    "count = 1\n",
    "while count <= 10: \n",
    "    print(count, end = ', ')\n",
    "    count += 1\n",
    "    if count == 5: \n",
    "        break"
   ]
  },
  {
   "cell_type": "code",
   "execution_count": null,
   "id": "608fe934-be90-4025-a8b4-e736b2949ff6",
   "metadata": {},
   "outputs": [
    {
     "name": "stdout",
     "output_type": "stream",
     "text": [
      "1 2 3 4 "
     ]
    }
   ],
   "source": [
    "# 38. Continue While \n",
    "counter = 1\n",
    "while counter < 8:\n",
    "    if counter % 5 == 0:\n",
    "        continue\n",
    "    print(counter, end=' ') \n",
    "    counter += 1"
   ]
  },
  {
   "cell_type": "code",
   "execution_count": 2,
   "id": "5de75188-f374-4768-b2db-c08df7717b89",
   "metadata": {},
   "outputs": [
    {
     "name": "stdout",
     "output_type": "stream",
     "text": [
      "1 2 4 5 7 8 10 11 13 14 "
     ]
    }
   ],
   "source": [
    "# 39. Pass While\n",
    "counter = 1\n",
    "while counter < 16:\n",
    "    if counter % 3 == 0:\n",
    "        pass\n",
    "    else:\n",
    "        print(counter, end=' ') \n",
    "    counter += 1"
   ]
  },
  {
   "cell_type": "code",
   "execution_count": 5,
   "id": "b5dfb07e-f5fb-410a-8399-502ef540b0c3",
   "metadata": {},
   "outputs": [
    {
     "name": "stdout",
     "output_type": "stream",
     "text": [
      "0 1 2 3 4 \n",
      "Printed all numbers\n",
      "End of program\n"
     ]
    }
   ],
   "source": [
    "# 40. While - else \n",
    "x = 0\n",
    "while x < 5: \n",
    "    print(x, end=' ')\n",
    "    x += 1 \n",
    "else: \n",
    "    print(\"\\nPrinted all numbers\")\n",
    "print(\"End of program\")"
   ]
  }
 ],
 "metadata": {
  "kernelspec": {
   "display_name": "Python 3 (ipykernel)",
   "language": "python",
   "name": "python3"
  },
  "language_info": {
   "codemirror_mode": {
    "name": "ipython",
    "version": 3
   },
   "file_extension": ".py",
   "mimetype": "text/x-python",
   "name": "python",
   "nbconvert_exporter": "python",
   "pygments_lexer": "ipython3",
   "version": "3.12.7"
  }
 },
 "nbformat": 4,
 "nbformat_minor": 5
}
