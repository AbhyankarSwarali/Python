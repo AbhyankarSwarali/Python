{
 "cells": [
  {
   "cell_type": "code",
   "execution_count": 3,
   "id": "08098d4d-f5e3-4654-a1cd-09d1bb0919e3",
   "metadata": {},
   "outputs": [
    {
     "name": "stdin",
     "output_type": "stream",
     "text": [
      "Enter age: -3\n"
     ]
    },
    {
     "name": "stdout",
     "output_type": "stream",
     "text": [
      "You entered negative age\n"
     ]
    }
   ],
   "source": [
    "# 131. Negative Age exception \n",
    "class NegativeAgeError(Exception): \n",
    "    def __init__(self): \n",
    "        self.msg = 'You entered negative age'\n",
    "\n",
    "    def __str__(self): \n",
    "        return self.msg\n",
    "\n",
    "def stage(age): \n",
    "    if 0 < age < 13: \n",
    "        print('Kid')\n",
    "    elif 13 <= age <= 19: \n",
    "        print(\"Teen\")\n",
    "    elif 19 < age <= 50: \n",
    "        print(\"Adult\")\n",
    "    elif age > 50: \n",
    "        print('Old')\n",
    "    else: \n",
    "        raise NegativeAgeError\n",
    "\n",
    "age = int(input(\"Enter age:\"))\n",
    "\n",
    "try: \n",
    "    stage(age)\n",
    "except NegativeAgeError as n: \n",
    "    print(n)"
   ]
  },
  {
   "cell_type": "code",
   "execution_count": 7,
   "id": "ee0341a1-d297-4cad-9f84-f4404eec3e2b",
   "metadata": {},
   "outputs": [
    {
     "name": "stdin",
     "output_type": "stream",
     "text": [
      "Enter withdrawal amount: 9501\n"
     ]
    },
    {
     "name": "stdout",
     "output_type": "stream",
     "text": [
      "Minimum balance should remain Rs.500\n"
     ]
    }
   ],
   "source": [
    "# 132. Account Balannce Exception \n",
    "class MinimumBalanceError(Exception): \n",
    "    pass \n",
    "\n",
    "balance = 10000\n",
    "\n",
    "def withdraw(amt): \n",
    "    global balance\n",
    "\n",
    "    if balance - amt < 500: \n",
    "        raise MinimumBalanceError(\"Minimum balance should remain Rs.500\")\n",
    "    else: \n",
    "        balance -= amt\n",
    "        print(\"Remaining balance:\", balance)\n",
    "\n",
    "amt = int(input(\"Enter withdrawal amount:\"))\n",
    "\n",
    "try: \n",
    "    withdraw(amt)\n",
    "except MinimumBalanceError as m: \n",
    "    print(m)"
   ]
  },
  {
   "cell_type": "code",
   "execution_count": 11,
   "id": "84bb056a-2af2-480d-b617-c5c11e463c9b",
   "metadata": {},
   "outputs": [
    {
     "name": "stdout",
     "output_type": "stream",
     "text": [
      "Valid formula format: a (operand) b\n"
     ]
    },
    {
     "name": "stdin",
     "output_type": "stream",
     "text": [
      "Enter formula: 5 - 6\n"
     ]
    },
    {
     "name": "stdout",
     "output_type": "stream",
     "text": [
      "-1\n"
     ]
    }
   ],
   "source": [
    "# 133. Simple Calculator \n",
    "class InvalidFormulaError(Exception): \n",
    "    pass\n",
    "\n",
    "print(\"Valid formula format: a (operand) b\")\n",
    "\n",
    "def evaluate(formula): \n",
    "    f = formula.split()\n",
    "\n",
    "    if len(f) < 3: \n",
    "        raise InvalidFormulaError('Formula should have SPACES')\n",
    "\n",
    "    if f[1] == '+' or f[1] == '-' or f[1] == '*' or f[1] == '/': \n",
    "        op1 = f[0]\n",
    "        op2 = f[2]\n",
    "\n",
    "        if f[1] == '+': \n",
    "            res = op1 + op2\n",
    "        elif f[1] == '-': \n",
    "            res = op1 - op2\n",
    "        elif f[1] == '*': \n",
    "            res = op1 * op2\n",
    "        else: \n",
    "            res = op1 / op2\n",
    "\n",
    "            return res\n",
    "\n",
    "    else: \n",
    "        raise InvalidFormulaError('Invalid Formula Format')\n",
    "\n",
    "try: \n",
    "    formula = input(\"Enter formula:\")\n",
    "    f = eval(formula)\n",
    "    print(f)\n",
    "except InvalidFormulaError as i: \n",
    "    print(i)"
   ]
  }
 ],
 "metadata": {
  "kernelspec": {
   "display_name": "Python [conda env:base] *",
   "language": "python",
   "name": "conda-base-py"
  },
  "language_info": {
   "codemirror_mode": {
    "name": "ipython",
    "version": 3
   },
   "file_extension": ".py",
   "mimetype": "text/x-python",
   "name": "python",
   "nbconvert_exporter": "python",
   "pygments_lexer": "ipython3",
   "version": "3.12.7"
  }
 },
 "nbformat": 4,
 "nbformat_minor": 5
}
