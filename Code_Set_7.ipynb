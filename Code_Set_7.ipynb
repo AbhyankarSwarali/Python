{
 "cells": [
  {
   "cell_type": "code",
   "execution_count": 1,
   "id": "beb48f6b-81f0-48de-a423-5a31ee587ba5",
   "metadata": {},
   "outputs": [
    {
     "name": "stdin",
     "output_type": "stream",
     "text": [
      "Enter number of numbers: 3\n",
      "Enter a number: 2\n",
      "Enter a number: 3\n",
      "Enter a number: -1\n"
     ]
    },
    {
     "name": "stdout",
     "output_type": "stream",
     "text": [
      "Sum: 4\n"
     ]
    }
   ],
   "source": [
    "# 31. Sum of inputs\n",
    "num_of_nums = int(input(\"Enter number of numbers:\"))\n",
    "counter = 0\n",
    "Sum = 0\n",
    "while counter < num_of_nums: \n",
    "    n = int(input(\"Enter a number:\"))\n",
    "    Sum += n\n",
    "    counter += 1\n",
    "print(\"Sum:\", Sum)"
   ]
  },
  {
   "cell_type": "code",
   "execution_count": 4,
   "id": "5973298b-4af3-4448-88cb-e99f5f5995cc",
   "metadata": {},
   "outputs": [
    {
     "name": "stdin",
     "output_type": "stream",
     "text": [
      "Enter number of numbers: 4\n",
      "Enter a number: 2\n",
      "Enter a number: 6\n",
      "Enter a number: -4\n",
      "Enter a number: 1\n"
     ]
    },
    {
     "name": "stdout",
     "output_type": "stream",
     "text": [
      "Sum of positive numbers: 9\n",
      "Sum of negative numbers: -4\n",
      "Sum 5\n"
     ]
    }
   ],
   "source": [
    "# 32. Positive Negative numbers \n",
    "num_of_nums = int(input(\"Enter number of numbers:\"))\n",
    "count = 0\n",
    "pos_sum = 0\n",
    "neg_sum = 0\n",
    "while count < num_of_nums: \n",
    "    n = int(input(\"Enter a number:\"))\n",
    "    if n > 0: \n",
    "        pos_sum += n\n",
    "    else: \n",
    "        neg_sum += n\n",
    "    count += 1\n",
    "print(\"Sum of positive numbers:\", pos_sum)\n",
    "print(\"Sum of negative numbers:\", neg_sum)\n",
    "print(\"Sum\", pos_sum + neg_sum)"
   ]
  },
  {
   "cell_type": "code",
   "execution_count": 7,
   "id": "38603e47-96e3-4c11-9881-685273af37a8",
   "metadata": {},
   "outputs": [
    {
     "name": "stdin",
     "output_type": "stream",
     "text": [
      "Enter number of numbers: 3\n",
      "Enter a number 23\n",
      "Enter a number 16\n",
      "Enter a number 45\n"
     ]
    },
    {
     "name": "stdout",
     "output_type": "stream",
     "text": [
      "Maximum number: 45\n"
     ]
    }
   ],
   "source": [
    "# 33. Max number\n",
    "no_of_nos = int(input(\"Enter number of numbers:\"))\n",
    "maxi = 0\n",
    "count = 0\n",
    "while count < no_of_nos: \n",
    "    n = int(input(\"Enter a number\"))\n",
    "    if n>maxi:\n",
    "        maxi = n \n",
    "    count += 1\n",
    "print(\"Maximum number:\", maxi)"
   ]
  },
  {
   "cell_type": "code",
   "execution_count": 9,
   "id": "7efa97ed-f9d3-4279-833f-a398c9ff7709",
   "metadata": {},
   "outputs": [
    {
     "name": "stdin",
     "output_type": "stream",
     "text": [
      "Enter a number: 20\n"
     ]
    },
    {
     "name": "stdout",
     "output_type": "stream",
     "text": [
      "10100\n"
     ]
    }
   ],
   "source": [
    "# 34. Decimal to Binary\n",
    "n = int(input(\"Enter a number:\"))\n",
    "bina = ''\n",
    "while n>0: \n",
    "    r = n % 2\n",
    "    n = n//2 \n",
    "    bina = str(r) + bina\n",
    "print(bina)"
   ]
  },
  {
   "cell_type": "code",
   "execution_count": 1,
   "id": "49cb2de2-8bab-423d-bbac-75322901f04a",
   "metadata": {},
   "outputs": [
    {
     "name": "stdin",
     "output_type": "stream",
     "text": [
      "Enter your guess:  1\n"
     ]
    },
    {
     "name": "stdout",
     "output_type": "stream",
     "text": [
      "Your guess is smaller\n"
     ]
    },
    {
     "name": "stdin",
     "output_type": "stream",
     "text": [
      "Enter your guess:  1\n"
     ]
    },
    {
     "name": "stdout",
     "output_type": "stream",
     "text": [
      "Your guess is smaller\n"
     ]
    },
    {
     "name": "stdin",
     "output_type": "stream",
     "text": [
      "Enter your guess:  1\n"
     ]
    },
    {
     "name": "stdout",
     "output_type": "stream",
     "text": [
      "Your guess is smaller\n",
      "You used all your attempts!\n",
      "The correct number was: 5\n",
      "Thank you\n"
     ]
    }
   ],
   "source": [
    "import random\n",
    "\n",
    "n = random.randint(1, 10)\n",
    "count = 0\n",
    "\n",
    "while count < 3:\n",
    "    guess = int(input(\"Enter your guess: \"))\n",
    "    if guess > n:\n",
    "        print(\"Your guess is bigger\")\n",
    "    elif guess < n:\n",
    "        print(\"Your guess is smaller\")\n",
    "    else:\n",
    "        print(\"Correct guess!\")\n",
    "        break\n",
    "    count += 1\n",
    "\n",
    "if count == 3 and guess != n:\n",
    "    print(\"You used all your attempts!\")\n",
    "    print(\"The correct number was:\", n)\n",
    "    print(\"Thank you\")"
   ]
  },
  {
   "cell_type": "code",
   "execution_count": null,
   "id": "1ce59a91-d0b2-4a73-b870-fcaa759070e3",
   "metadata": {},
   "outputs": [],
   "source": []
  }
 ],
 "metadata": {
  "kernelspec": {
   "display_name": "Python 3 (ipykernel)",
   "language": "python",
   "name": "python3"
  },
  "language_info": {
   "codemirror_mode": {
    "name": "ipython",
    "version": 3
   },
   "file_extension": ".py",
   "mimetype": "text/x-python",
   "name": "python",
   "nbconvert_exporter": "python",
   "pygments_lexer": "ipython3",
   "version": "3.12.7"
  }
 },
 "nbformat": 4,
 "nbformat_minor": 5
}
