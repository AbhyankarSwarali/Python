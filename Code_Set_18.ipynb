{
 "cells": [
  {
   "cell_type": "code",
   "execution_count": 2,
   "id": "72aacb99-229c-43f2-97d6-51661d70d8a6",
   "metadata": {},
   "outputs": [
    {
     "name": "stdin",
     "output_type": "stream",
     "text": [
      "Enter a country name: India\n",
      "Enter a country name: Russia\n",
      "Enter a country name: Japan\n",
      "Enter a country name: Australia\n",
      "Enter a country name: America\n"
     ]
    },
    {
     "name": "stdout",
     "output_type": "stream",
     "text": [
      "{'I': ['India'], 'R': ['Russia'], 'J': ['Japan'], 'A': ['Australia', 'America']}\n"
     ]
    }
   ],
   "source": [
    "# 86. Country names\n",
    "country = {}\n",
    "for i in range(5):\n",
    "    name = input(\"Enter a country name:\")\n",
    "    if name[0].upper() not in country:\n",
    "        country[name[0].upper()] = [name]\n",
    "    else:\n",
    "        country[name[0].upper()].append(name)\n",
    "print(country)"
   ]
  },
  {
   "cell_type": "code",
   "execution_count": 6,
   "id": "54adb73a-eca6-4083-b122-aa81f0db692d",
   "metadata": {},
   "outputs": [
    {
     "name": "stdin",
     "output_type": "stream",
     "text": [
      "Enter roman number in upper case: MCXVI\n"
     ]
    },
    {
     "name": "stdout",
     "output_type": "stream",
     "text": [
      "1116\n"
     ]
    }
   ],
   "source": [
    "# 87. Roman to Integer\n",
    "roman = {'I':1, 'V':5, 'X':10, 'L':50, 'C':100, 'D':500, 'M':1000}\n",
    "integer = input(\"Enter roman number in upper case:\")\n",
    "result = 0\n",
    "i = 0\n",
    "while i < len(integer):\n",
    "    if i+1 < len(integer) and roman[integer[i]] < roman[integer[i+1]]:\n",
    "        result += roman[integer[i+1]] - roman[integer[i]]\n",
    "        i += 2\n",
    "    else:\n",
    "        result += roman[integer[i]]\n",
    "        i += 1\n",
    "print(result)"
   ]
  },
  {
   "cell_type": "code",
   "execution_count": 8,
   "id": "5f383fd0-f341-4a89-8445-52de7532a431",
   "metadata": {},
   "outputs": [
    {
     "name": "stdin",
     "output_type": "stream",
     "text": [
      "Enter name: John\n",
      "Enter roll no.: 1102\n",
      "Enter department: Mechanical\n",
      "Enter name: Alex\n",
      "Enter roll no.: 1254\n",
      "Enter department: History\n",
      "Enter name: Blake\n",
      "Enter roll no.: 1336\n",
      "Enter department: Geology\n"
     ]
    },
    {
     "name": "stdout",
     "output_type": "stream",
     "text": [
      "{'John': {'Name': 'John', 'Roll no': 1102, 'Department': 'Mechanical'}, 'Alex': {'Name': 'Alex', 'Roll no': 1254, 'Department': 'History'}, 'Blake': {'Name': 'Blake', 'Roll no': 1336, 'Department': 'Geology'}}\n"
     ]
    }
   ],
   "source": [
    "# 88. Student details\n",
    "students = {}\n",
    "for i in range(3):\n",
    "    name = input(\"Enter name:\")\n",
    "    rollno = int(input(\"Enter roll no.:\"))\n",
    "    dept = input(\"Enter department:\")\n",
    "    students[name] = {'Name':name, 'Roll no':rollno, 'Department':dept}\n",
    "print(students)"
   ]
  },
  {
   "cell_type": "code",
   "execution_count": 9,
   "id": "a2cc8aea-bc79-418b-9297-2c40c6b8c53c",
   "metadata": {},
   "outputs": [
    {
     "name": "stdout",
     "output_type": "stream",
     "text": [
      "6\n"
     ]
    }
   ],
   "source": [
    "# 89. Functions\n",
    "def add(a,b,c):\n",
    "    r = a+b+c\n",
    "    return r\n",
    "print(add(1,2,3))"
   ]
  },
  {
   "cell_type": "code",
   "execution_count": 11,
   "id": "ff2a3160-f33e-4294-b47d-1c08f3e168a8",
   "metadata": {},
   "outputs": [
    {
     "name": "stdout",
     "output_type": "stream",
     "text": [
      "Outside function: 140725225597656 140725225597976 140725225598296\n",
      "Inside function: 140725225597656 140725225597976 140725225598296\n",
      "None\n"
     ]
    }
   ],
   "source": [
    "# 90. Function IDs\n",
    "def add(a,b,c):\n",
    "    print(\"Inside function:\", id(a), id(b), id(c))\n",
    "x, y, z = 10, 20, 30\n",
    "print(\"Outside function:\", id(x), id(y), id(z))\n",
    "print(add(x,y,z))"
   ]
  }
 ],
 "metadata": {
  "kernelspec": {
   "display_name": "Python [conda env:base] *",
   "language": "python",
   "name": "conda-base-py"
  },
  "language_info": {
   "codemirror_mode": {
    "name": "ipython",
    "version": 3
   },
   "file_extension": ".py",
   "mimetype": "text/x-python",
   "name": "python",
   "nbconvert_exporter": "python",
   "pygments_lexer": "ipython3",
   "version": "3.12.7"
  }
 },
 "nbformat": 4,
 "nbformat_minor": 5
}
