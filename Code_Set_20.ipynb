{
 "cells": [
  {
   "cell_type": "code",
   "execution_count": 2,
   "id": "ef38ec3f-e4bd-4063-a983-771b7704d818",
   "metadata": {},
   "outputs": [
    {
     "name": "stdout",
     "output_type": "stream",
     "text": [
      "2 5 4 8 3 9\n",
      "31\n"
     ]
    }
   ],
   "source": [
    "# 96. Mixed Arguments 2 \n",
    "def add(a,b,/,c,d,*,e,f): \n",
    "    print(a,b,c,d,e,f)\n",
    "    return a+b+c+d+e+f\n",
    "r = add(2,5,d=8,c=4,f=9,e=3)\n",
    "print(r)"
   ]
  },
  {
   "cell_type": "code",
   "execution_count": 3,
   "id": "31282292-7c04-4f8c-8357-790ab86694c5",
   "metadata": {},
   "outputs": [
    {
     "name": "stdout",
     "output_type": "stream",
     "text": [
      "<class 'tuple'> ()\n",
      "<class 'tuple'> (10, 20, 30)\n",
      "<class 'tuple'> (20, 25, 30, 35, 40, 45, 50, 55, 60, 65, 70)\n",
      "<class 'tuple'> ('Hii', 22, 2.34, True, (4+5j))\n"
     ]
    }
   ],
   "source": [
    "# 97. Variable Length Argument\n",
    "def var_len(*args): \n",
    "    print(type(args), args)\n",
    "var_len()\n",
    "var_len(10,20,30)\n",
    "var_len(20,25,30,35,40,45,50,55,60,65,70)\n",
    "var_len('Hii', 22,2.34,True,(4+5j))"
   ]
  },
  {
   "cell_type": "code",
   "execution_count": 5,
   "id": "4ef6b591-e1be-414b-aa2a-ebaca99a847a",
   "metadata": {},
   "outputs": [
    {
     "name": "stdout",
     "output_type": "stream",
     "text": [
      "11 22 33\n",
      "10 20 30\n",
      "I N D\n",
      "1 2 3\n"
     ]
    }
   ],
   "source": [
    "# 98. Unpacking Arguments \n",
    "def unpack(a,b,c): \n",
    "    print(a,b,c)\n",
    "    \n",
    "L = [11,22,33]\n",
    "T = (10,20,30)\n",
    "St = 'IND'\n",
    "S = {1,2,3}\n",
    "\n",
    "unpack(L[0], L[1], L[2])\n",
    "unpack(*T)\n",
    "unpack(*St)\n",
    "unpack(*S)"
   ]
  }
 ],
 "metadata": {
  "kernelspec": {
   "display_name": "Python [conda env:base] *",
   "language": "python",
   "name": "conda-base-py"
  },
  "language_info": {
   "codemirror_mode": {
    "name": "ipython",
    "version": 3
   },
   "file_extension": ".py",
   "mimetype": "text/x-python",
   "name": "python",
   "nbconvert_exporter": "python",
   "pygments_lexer": "ipython3",
   "version": "3.12.7"
  }
 },
 "nbformat": 4,
 "nbformat_minor": 5
}
