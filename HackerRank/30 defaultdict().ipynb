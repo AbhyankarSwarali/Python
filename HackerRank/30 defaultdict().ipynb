{
 "cells": [
  {
   "cell_type": "code",
   "execution_count": 16,
   "id": "d491884a-72be-4f6f-b637-7d974269e164",
   "metadata": {},
   "outputs": [
    {
     "name": "stdin",
     "output_type": "stream",
     "text": [
      " 5 2\n",
      " a\n",
      " a\n",
      " b\n",
      " a\n",
      " b\n",
      " a\n",
      " b\n"
     ]
    },
    {
     "name": "stdout",
     "output_type": "stream",
     "text": [
      "1 2 4\n",
      "3 5\n"
     ]
    }
   ],
   "source": [
    "from collections import defaultdict\n",
    "n, m = list(map(int, input().split()))\n",
    "A = []\n",
    "B = []\n",
    "\n",
    "for a in range(n):\n",
    "    A.append(input())\n",
    "for b in range(m):\n",
    "    B.append(input())\n",
    "\n",
    "final = defaultdict()\n",
    "\n",
    "for b in B:\n",
    "    if b in A:\n",
    "        final[b] = [i+1 for i,x in enumerate(A) if x==b]\n",
    "        print(' '.join(map(str,final[b])))\n",
    "    else: \n",
    "        print(-1)"
   ]
  }
 ],
 "metadata": {
  "kernelspec": {
   "display_name": "Python [conda env:base] *",
   "language": "python",
   "name": "conda-base-py"
  },
  "language_info": {
   "codemirror_mode": {
    "name": "ipython",
    "version": 3
   },
   "file_extension": ".py",
   "mimetype": "text/x-python",
   "name": "python",
   "nbconvert_exporter": "python",
   "pygments_lexer": "ipython3",
   "version": "3.12.7"
  }
 },
 "nbformat": 4,
 "nbformat_minor": 5
}
