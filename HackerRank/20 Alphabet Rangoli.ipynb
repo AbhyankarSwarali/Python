{
 "cells": [
  {
   "cell_type": "code",
   "execution_count": 16,
   "id": "0fd37924-add8-4b35-a53a-77745df27027",
   "metadata": {},
   "outputs": [
    {
     "name": "stdin",
     "output_type": "stream",
     "text": [
      " 5\n"
     ]
    },
    {
     "name": "stdout",
     "output_type": "stream",
     "text": [
      "--------e--------\n",
      "------e-d-e------\n",
      "----e-d-c-d-e----\n",
      "--e-d-c-b-c-d-e--\n",
      "e-d-c-b-a-b-c-d-e\n",
      "--e-d-c-b-c-d-e--\n",
      "----e-d-c-d-e----\n",
      "------e-d-e------\n",
      "--------e--------\n"
     ]
    }
   ],
   "source": [
    "def print_rangoli(size):\n",
    "    alphabet = [chr(i) for i in range(97,123)]\n",
    "    alphabet = alphabet[:size]\n",
    "    idx = list(range(size))\n",
    "    idx = idx[:-1] + idx[::-1]\n",
    "    for i in idx: \n",
    "        start = i + 1\n",
    "        original = alphabet[-start:]\n",
    "        reverse = original[::-1]\n",
    "        row = reverse + original[1:]\n",
    "        row = '-'.join(row)\n",
    "        width = size*4 - 3\n",
    "        row = row.center(width,'-')\n",
    "        print(row)\n",
    "\n",
    "if __name__ == '__main__':\n",
    "    n = int(input())\n",
    "    print_rangoli(n)"
   ]
  }
 ],
 "metadata": {
  "kernelspec": {
   "display_name": "Python [conda env:base] *",
   "language": "python",
   "name": "conda-base-py"
  },
  "language_info": {
   "codemirror_mode": {
    "name": "ipython",
    "version": 3
   },
   "file_extension": ".py",
   "mimetype": "text/x-python",
   "name": "python",
   "nbconvert_exporter": "python",
   "pygments_lexer": "ipython3",
   "version": "3.12.7"
  }
 },
 "nbformat": 4,
 "nbformat_minor": 5
}
