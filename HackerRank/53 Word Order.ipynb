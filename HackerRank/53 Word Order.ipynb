{
 "cells": [
  {
   "cell_type": "code",
   "execution_count": 2,
   "id": "2b2eefb2-db5e-46af-b0f1-2a773410da79",
   "metadata": {},
   "outputs": [
    {
     "name": "stdin",
     "output_type": "stream",
     "text": [
      " 4\n",
      " bcdef\n",
      " abcdefg\n",
      " bcde\n",
      " bcdef\n"
     ]
    },
    {
     "name": "stdout",
     "output_type": "stream",
     "text": [
      "3\n",
      "2 1 1\n"
     ]
    }
   ],
   "source": [
    "n = int(input())\n",
    "word_count = {}\n",
    "appearance = []\n",
    "\n",
    "for _ in range(n): \n",
    "    word = input()\n",
    "    if word in word_count: \n",
    "        word_count[word] += 1\n",
    "    else: \n",
    "        word_count[word] = 1\n",
    "        appearance.append(word)\n",
    "\n",
    "print(len(appearance))\n",
    "print(' '.join(str(word_count[word]) for word in appearance))"
   ]
  }
 ],
 "metadata": {
  "kernelspec": {
   "display_name": "Python [conda env:base] *",
   "language": "python",
   "name": "conda-base-py"
  },
  "language_info": {
   "codemirror_mode": {
    "name": "ipython",
    "version": 3
   },
   "file_extension": ".py",
   "mimetype": "text/x-python",
   "name": "python",
   "nbconvert_exporter": "python",
   "pygments_lexer": "ipython3",
   "version": "3.12.7"
  }
 },
 "nbformat": 4,
 "nbformat_minor": 5
}
