{
 "cells": [
  {
   "cell_type": "code",
   "execution_count": 16,
   "id": "99cabbb3-551f-4299-8bc6-733f039e52ef",
   "metadata": {},
   "outputs": [
    {
     "name": "stdin",
     "output_type": "stream",
     "text": [
      " 16\n",
      " 1 2 3 4 5 6 7 8 9 10 11 12 13 14 24 52\n",
      " 4\n",
      " intersection_update 10\n",
      " 2 3 5 6 8 9 1 4 7 11\n",
      " update 2\n",
      " 55 66\n",
      " symmetric_difference_update 5\n",
      " 22 7 35 62 58\n",
      " difference_update 7\n",
      " 11 22 35 55 58 62 66\n"
     ]
    },
    {
     "name": "stdout",
     "output_type": "stream",
     "text": [
      "38\n"
     ]
    }
   ],
   "source": [
    "len_a = int(input())\n",
    "a = set(map(int, input().split()))\n",
    "n = int(input())\n",
    "for _ in range(n): \n",
    "    operation = input().split()[0]\n",
    "    other_set = set(map(int, input().split()))\n",
    "\n",
    "    if operation == 'update': \n",
    "        a.update(other_set)\n",
    "    elif operation == 'intersection_update': \n",
    "        a.intersection_update(other_set)\n",
    "    elif operation == 'difference_update': \n",
    "        a.difference_update(other_set)\n",
    "    elif operation == 'symmetric_difference_update': \n",
    "        a.symmetric_difference_update(other_set)\n",
    "\n",
    "print(sum(a))"
   ]
  }
 ],
 "metadata": {
  "kernelspec": {
   "display_name": "Python [conda env:base] *",
   "language": "python",
   "name": "conda-base-py"
  },
  "language_info": {
   "codemirror_mode": {
    "name": "ipython",
    "version": 3
   },
   "file_extension": ".py",
   "mimetype": "text/x-python",
   "name": "python",
   "nbconvert_exporter": "python",
   "pygments_lexer": "ipython3",
   "version": "3.12.7"
  }
 },
 "nbformat": 4,
 "nbformat_minor": 5
}
