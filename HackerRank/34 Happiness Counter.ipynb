{
 "cells": [
  {
   "cell_type": "code",
   "execution_count": 2,
   "id": "210887f2-c81c-44df-bb8a-355f7bc8acb8",
   "metadata": {},
   "outputs": [
    {
     "name": "stdin",
     "output_type": "stream",
     "text": [
      " 3 2\n",
      " 1 5 3\n",
      " 3 1\n",
      " 5 7\n"
     ]
    },
    {
     "name": "stdout",
     "output_type": "stream",
     "text": [
      "1\n"
     ]
    }
   ],
   "source": [
    "n, m = list(map(int, input().split()))\n",
    "l = list(map(int, input().split()))\n",
    "A = set(map(int, input().split()))\n",
    "B = set(map(int, input().split()))\n",
    "happy = 0\n",
    "\n",
    "for i in l: \n",
    "    if i in A:\n",
    "        happy += 1\n",
    "    elif i in B:\n",
    "        happy -= 1\n",
    "        \n",
    "print(happy)"
   ]
  }
 ],
 "metadata": {
  "kernelspec": {
   "display_name": "Python [conda env:base] *",
   "language": "python",
   "name": "conda-base-py"
  },
  "language_info": {
   "codemirror_mode": {
    "name": "ipython",
    "version": 3
   },
   "file_extension": ".py",
   "mimetype": "text/x-python",
   "name": "python",
   "nbconvert_exporter": "python",
   "pygments_lexer": "ipython3",
   "version": "3.12.7"
  }
 },
 "nbformat": 4,
 "nbformat_minor": 5
}
