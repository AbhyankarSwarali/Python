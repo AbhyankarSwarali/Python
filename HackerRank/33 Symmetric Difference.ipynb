{
 "cells": [
  {
   "cell_type": "code",
   "execution_count": 8,
   "id": "95052129-adf4-4151-9ac6-fd274051a33b",
   "metadata": {},
   "outputs": [
    {
     "name": "stdout",
     "output_type": "stream",
     "text": [
      "-12\n",
      "-3\n",
      "1\n",
      "11\n"
     ]
    }
   ],
   "source": [
    "a = set([4,-3,2,1])\n",
    "b = set([2,4,11,-12])\n",
    "c = a.symmetric_difference(b)\n",
    "for i in sorted(list(c)): \n",
    "    print(i)"
   ]
  }
 ],
 "metadata": {
  "kernelspec": {
   "display_name": "Python [conda env:base] *",
   "language": "python",
   "name": "conda-base-py"
  },
  "language_info": {
   "codemirror_mode": {
    "name": "ipython",
    "version": 3
   },
   "file_extension": ".py",
   "mimetype": "text/x-python",
   "name": "python",
   "nbconvert_exporter": "python",
   "pygments_lexer": "ipython3",
   "version": "3.12.7"
  }
 },
 "nbformat": 4,
 "nbformat_minor": 5
}
