{
 "cells": [
  {
   "cell_type": "code",
   "execution_count": 34,
   "id": "d8eab65b-b282-4805-8b9e-c9e27500f02e",
   "metadata": {},
   "outputs": [
    {
     "name": "stdin",
     "output_type": "stream",
     "text": [
      " 4\n",
      " insert 0 3\n",
      " append 4\n",
      " remove 3\n",
      " insert 2 7\n"
     ]
    },
    {
     "name": "stdout",
     "output_type": "stream",
     "text": [
      "[4, 7]\n"
     ]
    }
   ],
   "source": [
    "if __name__ == '__main__':\n",
    "    N = int(input())\n",
    "    l = []\n",
    "    for i in range(N): \n",
    "        user = input().split()\n",
    "        if user[0] == 'insert':\n",
    "            l.insert(int(user[1]), int(user[2]))\n",
    "        elif user[0] == 'print':\n",
    "            print(l)\n",
    "        elif user[0] == 'remove':\n",
    "            l.remove(int(user[1]))\n",
    "        elif user[0] == 'append':\n",
    "            l.append(int(user[1]))\n",
    "        elif user[0] == 'sort':\n",
    "            l.sort()\n",
    "        elif user[0] == 'print': \n",
    "            print(l)\n",
    "        elif user[0] == 'pop':\n",
    "            l.pop(-1)\n",
    "        else:\n",
    "            l.reverse()\n",
    "print(l)"
   ]
  }
 ],
 "metadata": {
  "kernelspec": {
   "display_name": "Python [conda env:base] *",
   "language": "python",
   "name": "conda-base-py"
  },
  "language_info": {
   "codemirror_mode": {
    "name": "ipython",
    "version": 3
   },
   "file_extension": ".py",
   "mimetype": "text/x-python",
   "name": "python",
   "nbconvert_exporter": "python",
   "pygments_lexer": "ipython3",
   "version": "3.12.7"
  }
 },
 "nbformat": 4,
 "nbformat_minor": 5
}
