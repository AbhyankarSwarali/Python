{
 "cells": [
  {
   "cell_type": "code",
   "execution_count": 12,
   "id": "104963d4-e96f-4479-889c-f5bc369d54f2",
   "metadata": {},
   "outputs": [
    {
     "name": "stdin",
     "output_type": "stream",
     "text": [
      " aabbbccde\n"
     ]
    },
    {
     "name": "stdout",
     "output_type": "stream",
     "text": [
      "b 3\n",
      "a 2\n",
      "c 2\n"
     ]
    }
   ],
   "source": [
    "import math\n",
    "import os\n",
    "import random\n",
    "import re\n",
    "import sys\n",
    "\n",
    "if __name__ == '__main__':\n",
    "    s = input()\n",
    "    s = sorted(s)\n",
    "    \n",
    "    frequnecy = {}\n",
    "    \n",
    "    for x in s:\n",
    "        if x in frequnecy: \n",
    "            frequnecy[x] += 1\n",
    "        else: \n",
    "            frequnecy[x] = 1    \n",
    "    freq_sorted = sorted(frequnecy.items(), key=(lambda x:(-x[1],x[0])))\n",
    "    \n",
    "    for k,v in freq_sorted[:3]: \n",
    "        print(k,v)"
   ]
  }
 ],
 "metadata": {
  "kernelspec": {
   "display_name": "Python [conda env:base] *",
   "language": "python",
   "name": "conda-base-py"
  },
  "language_info": {
   "codemirror_mode": {
    "name": "ipython",
    "version": 3
   },
   "file_extension": ".py",
   "mimetype": "text/x-python",
   "name": "python",
   "nbconvert_exporter": "python",
   "pygments_lexer": "ipython3",
   "version": "3.12.7"
  }
 },
 "nbformat": 4,
 "nbformat_minor": 5
}
