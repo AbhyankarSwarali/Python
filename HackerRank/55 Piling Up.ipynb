{
 "cells": [
  {
   "cell_type": "code",
   "execution_count": 6,
   "id": "ffe8daee-a9f7-4dd3-9cb4-50018ee4832e",
   "metadata": {},
   "outputs": [
    {
     "name": "stdin",
     "output_type": "stream",
     "text": [
      " 2\n",
      " 6\n",
      " 4 3 2 1 3 4\n"
     ]
    },
    {
     "name": "stdout",
     "output_type": "stream",
     "text": [
      "Yes\n"
     ]
    },
    {
     "name": "stdin",
     "output_type": "stream",
     "text": [
      " 3\n",
      " 1 3 2\n"
     ]
    },
    {
     "name": "stdout",
     "output_type": "stream",
     "text": [
      "No\n"
     ]
    }
   ],
   "source": [
    "from collections import deque\n",
    "\n",
    "def check_cubes(cubes):\n",
    "    cubes = deque(cubes)\n",
    "    current_top = float('inf')\n",
    "\n",
    "    while cubes:\n",
    "        if cubes[0] >= cubes[-1]:\n",
    "            chosen = cubes.popleft()\n",
    "        else:\n",
    "            chosen = cubes.pop()\n",
    "\n",
    "        if chosen > current_top:\n",
    "            return \"No\"\n",
    "        current_top = chosen\n",
    "\n",
    "    return \"Yes\"\n",
    "\n",
    "\n",
    "t = int(input())\n",
    "for _ in range(t):\n",
    "    n = int(input())\n",
    "    cubes = list(map(int, input().split()))\n",
    "    print(check_cubes(cubes))\n"
   ]
  }
 ],
 "metadata": {
  "kernelspec": {
   "display_name": "Python [conda env:base] *",
   "language": "python",
   "name": "conda-base-py"
  },
  "language_info": {
   "codemirror_mode": {
    "name": "ipython",
    "version": 3
   },
   "file_extension": ".py",
   "mimetype": "text/x-python",
   "name": "python",
   "nbconvert_exporter": "python",
   "pygments_lexer": "ipython3",
   "version": "3.12.7"
  }
 },
 "nbformat": 4,
 "nbformat_minor": 5
}
