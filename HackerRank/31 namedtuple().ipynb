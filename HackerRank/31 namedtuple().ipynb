{
 "cells": [
  {
   "cell_type": "code",
   "execution_count": 12,
   "id": "836cd1ef-b324-476e-8c1f-b5a21ed9bff2",
   "metadata": {},
   "outputs": [
    {
     "name": "stdin",
     "output_type": "stream",
     "text": [
      " 5\n",
      " ID MARKS NAME CLASS\n",
      " 1          97         Raymond    7 \n",
      " 2          50         Steven     4 \n",
      " 3          91         Adrian     9 \n",
      " 4          72         Stewart    5 \n",
      " 5          80         Peter      6  \n"
     ]
    },
    {
     "name": "stdout",
     "output_type": "stream",
     "text": [
      "78.00\n"
     ]
    }
   ],
   "source": [
    "from collections import namedtuple\n",
    "n = int(input())\n",
    "fields = input().split()\n",
    "\n",
    "total_mks = 0\n",
    "\n",
    "for s in range(n): \n",
    "    student = namedtuple('s', fields)\n",
    "    MARKS, CLASS, NAME, ID = input().split()\n",
    "    s = student(MARKS, CLASS, NAME, ID)\n",
    "    total_mks += int(s.MARKS)\n",
    "\n",
    "print('{:.2f}'.format(total_mks / n))"
   ]
  }
 ],
 "metadata": {
  "kernelspec": {
   "display_name": "Python [conda env:base] *",
   "language": "python",
   "name": "conda-base-py"
  },
  "language_info": {
   "codemirror_mode": {
    "name": "ipython",
    "version": 3
   },
   "file_extension": ".py",
   "mimetype": "text/x-python",
   "name": "python",
   "nbconvert_exporter": "python",
   "pygments_lexer": "ipython3",
   "version": "3.12.7"
  }
 },
 "nbformat": 4,
 "nbformat_minor": 5
}
