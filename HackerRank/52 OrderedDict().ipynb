{
 "cells": [
  {
   "cell_type": "code",
   "execution_count": 4,
   "id": "fe806f57-b491-4070-badf-a0850b8c0328",
   "metadata": {},
   "outputs": [
    {
     "name": "stdin",
     "output_type": "stream",
     "text": [
      " 9\n",
      " BANANA FRIES 12\n",
      " POTATO CHIPS 30\n",
      " APPLE JUICE 10\n",
      " CANDY 5\n",
      " APPLE JUICE 10\n",
      " CANDY 5\n",
      " CANDY 5\n",
      " CANDY 5\n",
      " POTATO CHIPS 30\n"
     ]
    },
    {
     "name": "stdout",
     "output_type": "stream",
     "text": [
      "BANANA FRIES 12\n",
      "POTATO CHIPS 60\n",
      "APPLE JUICE 20\n",
      "CANDY 20\n"
     ]
    }
   ],
   "source": [
    "from collections import OrderedDict\n",
    "\n",
    "n = int(input())\n",
    "item_ordered = OrderedDict()\n",
    "\n",
    "for i in range(n): \n",
    "    item, price = input().strip().rsplit(' ',1)\n",
    "    price = int(price)\n",
    "\n",
    "    if item in item_ordered: \n",
    "        item_ordered[item] += price\n",
    "    else: \n",
    "        item_ordered[item] = price\n",
    "\n",
    "for item,price in item_ordered.items(): \n",
    "    print(item,int(price))"
   ]
  }
 ],
 "metadata": {
  "kernelspec": {
   "display_name": "Python [conda env:base] *",
   "language": "python",
   "name": "conda-base-py"
  },
  "language_info": {
   "codemirror_mode": {
    "name": "ipython",
    "version": 3
   },
   "file_extension": ".py",
   "mimetype": "text/x-python",
   "name": "python",
   "nbconvert_exporter": "python",
   "pygments_lexer": "ipython3",
   "version": "3.12.7"
  }
 },
 "nbformat": 4,
 "nbformat_minor": 5
}
