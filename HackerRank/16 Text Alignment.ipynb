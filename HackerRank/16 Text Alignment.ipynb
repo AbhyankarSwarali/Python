{
 "cells": [
  {
   "cell_type": "code",
   "execution_count": 189,
   "id": "cbe07785-8c56-4b22-b371-0e113544206a",
   "metadata": {},
   "outputs": [
    {
     "name": "stdin",
     "output_type": "stream",
     "text": [
      " 5\n"
     ]
    }
   ],
   "source": [
    "thick = int(input())\n",
    "ch = 'H'"
   ]
  },
  {
   "cell_type": "code",
   "execution_count": 190,
   "id": "a844aa47-2f3e-4ed6-b2ec-8b90088760c2",
   "metadata": {},
   "outputs": [
    {
     "name": "stdout",
     "output_type": "stream",
     "text": [
      "    H    \n",
      "   HHH   \n",
      "  HHHHH  \n",
      " HHHHHHH \n",
      "HHHHHHHHH\n",
      "  HHHHH               HHHHH             \n",
      "  HHHHH               HHHHH             \n",
      "  HHHHH               HHHHH             \n",
      "  HHHHH               HHHHH             \n",
      "  HHHHH               HHHHH             \n",
      "  HHHHH               HHHHH             \n",
      "  HHHHHHHHHHHHHHHHHHHHHHHHH   \n",
      "  HHHHHHHHHHHHHHHHHHHHHHHHH   \n",
      "  HHHHHHHHHHHHHHHHHHHHHHHHH   \n",
      "  HHHHH               HHHHH             \n",
      "  HHHHH               HHHHH             \n",
      "  HHHHH               HHHHH             \n",
      "  HHHHH               HHHHH             \n",
      "  HHHHH               HHHHH             \n",
      "  HHHHH               HHHHH             \n",
      "                    HHHHHHHHH \n",
      "                     HHHHHHH  \n",
      "                      HHHHH   \n",
      "                       HHH    \n",
      "                        H     \n"
     ]
    }
   ],
   "source": [
    "for i in range(thick): \n",
    "    print((ch*i).rjust(thick-1) + ch + (ch*i).ljust(thick-1))\n",
    "for i in range(thick+1): \n",
    "    print((ch*thick).center(thick*2) + (ch*thick).center(thick*6))\n",
    "for i in range((thick+1) // 2): \n",
    "    print((ch*(thick)*5).center(thick*6))\n",
    "for i in range(thick+1): \n",
    "    print((ch*thick).center(thick*2) + (ch*thick).center(thick*6))\n",
    "for i in range(thick): \n",
    "    print(((ch*(thick-i-1)).rjust(thick) + ch + (ch*(thick-i-1)).ljust(thick)).rjust(thick*6))"
   ]
  },
  {
   "cell_type": "code",
   "execution_count": null,
   "id": "1c3524e7-ff41-4a71-b608-a786c9c4c90f",
   "metadata": {},
   "outputs": [],
   "source": []
  }
 ],
 "metadata": {
  "kernelspec": {
   "display_name": "Python [conda env:base] *",
   "language": "python",
   "name": "conda-base-py"
  },
  "language_info": {
   "codemirror_mode": {
    "name": "ipython",
    "version": 3
   },
   "file_extension": ".py",
   "mimetype": "text/x-python",
   "name": "python",
   "nbconvert_exporter": "python",
   "pygments_lexer": "ipython3",
   "version": "3.12.7"
  }
 },
 "nbformat": 4,
 "nbformat_minor": 5
}
