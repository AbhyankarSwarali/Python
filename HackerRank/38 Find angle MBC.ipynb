{
 "cells": [
  {
   "cell_type": "code",
   "execution_count": 9,
   "id": "38d51821-be74-4896-af59-69e1ad2f454b",
   "metadata": {},
   "outputs": [
    {
     "name": "stdin",
     "output_type": "stream",
     "text": [
      " 10\n",
      " 10\n"
     ]
    },
    {
     "name": "stdout",
     "output_type": "stream",
     "text": [
      "45°\n"
     ]
    }
   ],
   "source": [
    "import math\n",
    "ab = int(input())\n",
    "bc = int(input())\n",
    "\n",
    "mbc_rad = math.atan2(ab,bc)\n",
    "mbc_deg = round(math.degrees(mbc_rad)) \n",
    "print(str(mbc_deg) + '\\u00B0')"
   ]
  },
  {
   "cell_type": "code",
   "execution_count": 5,
   "id": "10a0480b-93df-4ef9-b9ec-f70eaebaea51",
   "metadata": {},
   "outputs": [
    {
     "name": "stdout",
     "output_type": "stream",
     "text": [
      "°\n"
     ]
    }
   ],
   "source": [
    "print('\\u00B0')"
   ]
  }
 ],
 "metadata": {
  "kernelspec": {
   "display_name": "Python [conda env:base] *",
   "language": "python",
   "name": "conda-base-py"
  },
  "language_info": {
   "codemirror_mode": {
    "name": "ipython",
    "version": 3
   },
   "file_extension": ".py",
   "mimetype": "text/x-python",
   "name": "python",
   "nbconvert_exporter": "python",
   "pygments_lexer": "ipython3",
   "version": "3.12.7"
  }
 },
 "nbformat": 4,
 "nbformat_minor": 5
}
