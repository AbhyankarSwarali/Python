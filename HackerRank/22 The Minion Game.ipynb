{
 "cells": [
  {
   "cell_type": "code",
   "execution_count": 3,
   "id": "9dae20a2-e52a-4576-85da-05ddc9430cf1",
   "metadata": {},
   "outputs": [
    {
     "name": "stdin",
     "output_type": "stream",
     "text": [
      " BANANA\n"
     ]
    },
    {
     "name": "stdout",
     "output_type": "stream",
     "text": [
      "Stuart 12\n"
     ]
    }
   ],
   "source": [
    "def minion_game(string):\n",
    "    vowels = 'AEIOU'\n",
    "    kevin = stuart = 0\n",
    "    l = len(string)\n",
    "    \n",
    "    for i in range(l):\n",
    "        if string[i] in vowels: \n",
    "            kevin += l - i\n",
    "        else: \n",
    "            stuart += l - i\n",
    "    \n",
    "    if kevin > stuart:\n",
    "        print('Kevin', kevin)\n",
    "    elif stuart> kevin:\n",
    "        print('Stuart', stuart)\n",
    "    else: \n",
    "        print(\"Draw\")\n",
    "    \n",
    "    \n",
    "if __name__ == '__main__':\n",
    "    s = input()\n",
    "    minion_game(s)"
   ]
  }
 ],
 "metadata": {
  "kernelspec": {
   "display_name": "Python [conda env:base] *",
   "language": "python",
   "name": "conda-base-py"
  },
  "language_info": {
   "codemirror_mode": {
    "name": "ipython",
    "version": 3
   },
   "file_extension": ".py",
   "mimetype": "text/x-python",
   "name": "python",
   "nbconvert_exporter": "python",
   "pygments_lexer": "ipython3",
   "version": "3.12.7"
  }
 },
 "nbformat": 4,
 "nbformat_minor": 5
}
