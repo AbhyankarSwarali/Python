{
 "cells": [
  {
   "cell_type": "code",
   "execution_count": null,
   "id": "e86f4e61-0f15-4fb2-bff4-0f8bca3f1044",
   "metadata": {},
   "outputs": [],
   "source": [
    "if __name__ == '__main__':\n",
    "    name = []\n",
    "    marks = []\n",
    "    records = []\n",
    "    \n",
    "    for _ in range(int(input())):\n",
    "        name = input()\n",
    "        score = float(input())\n",
    "\n",
    "        marks.append(score)\n",
    "        records.append([name, score])\n",
    "        \n",
    "    marks = list(set(marks))\n",
    "    marks = sorted(marks)\n",
    "    # print(marks)\n",
    "    sec_low = marks[1]\n",
    "    # print(sec_low)\n",
    "    \n",
    "    \n",
    "    result = [name for name, score in records if score == sec_low]\n",
    "    result.sort()\n",
    "    for x in result:\n",
    "        print(x)"
   ]
  }
 ],
 "metadata": {
  "kernelspec": {
   "display_name": "Python [conda env:base] *",
   "language": "python",
   "name": "conda-base-py"
  },
  "language_info": {
   "codemirror_mode": {
    "name": "ipython",
    "version": 3
   },
   "file_extension": ".py",
   "mimetype": "text/x-python",
   "name": "python",
   "nbconvert_exporter": "python",
   "pygments_lexer": "ipython3",
   "version": "3.12.7"
  }
 },
 "nbformat": 4,
 "nbformat_minor": 5
}
