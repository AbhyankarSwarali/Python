{
 "cells": [
  {
   "cell_type": "code",
   "execution_count": null,
   "id": "64a5ee63-1c40-480d-83ff-92d26dadc370",
   "metadata": {},
   "outputs": [],
   "source": [
    "import numpy as np \n",
    "n, m = map(int, input().split())\n",
    "A = np.array([list(map(int, input().split())) for _ in range(n)], int)\n",
    "B = np.array([list(map(int, input().split())) for _ in range(n)], int)\n",
    "print(np.add(A,B))\n",
    "print(np.subtract(A,B))\n",
    "print(np.multiply(A,B))\n",
    "print(np.floor_divide(A,B))\n",
    "print(np.mod(A,B))\n",
    "print(np.power(A,B))"
   ]
  }
 ],
 "metadata": {
  "kernelspec": {
   "display_name": "Python [conda env:base] *",
   "language": "python",
   "name": "conda-base-py"
  },
  "language_info": {
   "codemirror_mode": {
    "name": "ipython",
    "version": 3
   },
   "file_extension": ".py",
   "mimetype": "text/x-python",
   "name": "python",
   "nbconvert_exporter": "python",
   "pygments_lexer": "ipython3",
   "version": "3.12.7"
  }
 },
 "nbformat": 4,
 "nbformat_minor": 5
}
