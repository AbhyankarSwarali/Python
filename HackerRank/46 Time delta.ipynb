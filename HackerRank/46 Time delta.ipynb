{
 "cells": [
  {
   "cell_type": "code",
   "execution_count": null,
   "id": "6372907a-8232-462e-a2bb-69de161ec0ad",
   "metadata": {},
   "outputs": [],
   "source": [
    "import math\n",
    "import os\n",
    "import random\n",
    "import re\n",
    "import sys\n",
    "from datetime import datetime, timedelta\n",
    "\n",
    "def time_delta(t1, t2):\n",
    "    date_format = '%a %d %b %Y %H:%M:%S %z'\n",
    "    time1 = datetime.strptime(t1, date_format)\n",
    "    time2 = datetime.strptime(t2,date_format)\n",
    "    time_diff = abs(int((time1 - time2).total_seconds()))\n",
    "    \n",
    "    return str(time_diff)\n",
    "\n",
    "if __name__ == '__main__':\n",
    "    fptr = open(os.environ['OUTPUT_PATH'], 'w')\n",
    "    t = int(input())\n",
    "    for t_itr in range(t):\n",
    "        t1 = input()\n",
    "        t2 = input()\n",
    "        delta = time_delta(t1, t2)\n",
    "        fptr.write(delta + '\\n')\n",
    "    fptr.close()"
   ]
  }
 ],
 "metadata": {
  "kernelspec": {
   "display_name": "Python [conda env:base] *",
   "language": "python",
   "name": "conda-base-py"
  },
  "language_info": {
   "codemirror_mode": {
    "name": "ipython",
    "version": 3
   },
   "file_extension": ".py",
   "mimetype": "text/x-python",
   "name": "python",
   "nbconvert_exporter": "python",
   "pygments_lexer": "ipython3",
   "version": "3.12.7"
  }
 },
 "nbformat": 4,
 "nbformat_minor": 5
}
