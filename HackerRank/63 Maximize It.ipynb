{
 "cells": [
  {
   "cell_type": "code",
   "execution_count": 1,
   "id": "f12c4010-e2e8-4208-8b83-dc4e07b9ff51",
   "metadata": {},
   "outputs": [
    {
     "name": "stdin",
     "output_type": "stream",
     "text": [
      " 3 1000\n",
      " 2 5 4\n",
      " 3 7 8 9\n",
      " 5 5 7 8 9 10\n"
     ]
    },
    {
     "name": "stdout",
     "output_type": "stream",
     "text": [
      "206\n"
     ]
    }
   ],
   "source": [
    "from itertools import product\n",
    "k,m = list(map(int,input().split()))\n",
    "lines = []\n",
    "for item in range(k): \n",
    "    lines.append(list(map(int, input().split()))[1:])\n",
    "\n",
    "res = list(product(*lines))\n",
    "result = []\n",
    "\n",
    "for t in res:\n",
    "    total = 0\n",
    "    for i in t:\n",
    "        total = total + (i**2)\n",
    "    \n",
    "    result.append(total % m)\n",
    "    \n",
    "print(max(result))"
   ]
  }
 ],
 "metadata": {
  "kernelspec": {
   "display_name": "Python [conda env:base] *",
   "language": "python",
   "name": "conda-base-py"
  },
  "language_info": {
   "codemirror_mode": {
    "name": "ipython",
    "version": 3
   },
   "file_extension": ".py",
   "mimetype": "text/x-python",
   "name": "python",
   "nbconvert_exporter": "python",
   "pygments_lexer": "ipython3",
   "version": "3.12.7"
  }
 },
 "nbformat": 4,
 "nbformat_minor": 5
}
