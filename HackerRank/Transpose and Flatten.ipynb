{
 "cells": [
  {
   "cell_type": "code",
   "execution_count": null,
   "id": "b9942a27-7b10-4ed3-98df-895e2805277a",
   "metadata": {},
   "outputs": [],
   "source": [
    "import numpy as np \n",
    "l1 = []\n",
    "n, m = map(int,input().split())\n",
    "\n",
    "for i in range(n):\n",
    "    a = list(map(int, input().split()))\n",
    "    l1.append(a)\n",
    "arr = np.array(l1)\n",
    "print(arr.transpose())\n",
    "print(arr.flatten())"
   ]
  }
 ],
 "metadata": {
  "kernelspec": {
   "display_name": "Python [conda env:base] *",
   "language": "python",
   "name": "conda-base-py"
  },
  "language_info": {
   "codemirror_mode": {
    "name": "ipython",
    "version": 3
   },
   "file_extension": ".py",
   "mimetype": "text/x-python",
   "name": "python",
   "nbconvert_exporter": "python",
   "pygments_lexer": "ipython3",
   "version": "3.12.7"
  }
 },
 "nbformat": 4,
 "nbformat_minor": 5
}
