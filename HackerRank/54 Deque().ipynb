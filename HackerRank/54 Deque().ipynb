{
 "cells": [
  {
   "cell_type": "code",
   "execution_count": 15,
   "id": "ef3d67f9-633c-4962-be49-0f93d80474d1",
   "metadata": {},
   "outputs": [
    {
     "name": "stdin",
     "output_type": "stream",
     "text": [
      " 6\n",
      " append 1\n",
      " append 2\n",
      " append 3\n",
      " appendleft 4\n",
      " pop\n",
      " popleft\n"
     ]
    },
    {
     "name": "stdout",
     "output_type": "stream",
     "text": [
      "1 2\n"
     ]
    }
   ],
   "source": [
    "from collections import deque\n",
    "d = deque()\n",
    "\n",
    "n = int(input())\n",
    "for _ in range(n): \n",
    "    command = input().split()\n",
    "    if command[0] == 'append': \n",
    "        d.append(command[-1])\n",
    "    elif command[0] == 'appendleft': \n",
    "        d.appendleft(command[-1])\n",
    "    elif command[0] == 'pop': \n",
    "        d.pop()\n",
    "    elif command[0] == 'popleft': \n",
    "        d.popleft()\n",
    "\n",
    "print(\" \".join(list(d)))"
   ]
  }
 ],
 "metadata": {
  "kernelspec": {
   "display_name": "Python [conda env:base] *",
   "language": "python",
   "name": "conda-base-py"
  },
  "language_info": {
   "codemirror_mode": {
    "name": "ipython",
    "version": 3
   },
   "file_extension": ".py",
   "mimetype": "text/x-python",
   "name": "python",
   "nbconvert_exporter": "python",
   "pygments_lexer": "ipython3",
   "version": "3.12.7"
  }
 },
 "nbformat": 4,
 "nbformat_minor": 5
}
