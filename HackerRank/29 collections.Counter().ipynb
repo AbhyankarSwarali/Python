{
 "cells": [
  {
   "cell_type": "code",
   "execution_count": 8,
   "id": "4a4b0078-ef06-4232-ac5d-dcb639a94017",
   "metadata": {},
   "outputs": [
    {
     "name": "stdin",
     "output_type": "stream",
     "text": [
      " 10\n",
      " 2 3 4 5 6 8 7 6 5 18\n",
      " 6\n",
      " 6 55\n",
      " 6 45\n",
      " 6 55\n",
      " 4 40\n",
      " 18 60\n",
      " 10 50\n"
     ]
    },
    {
     "name": "stdout",
     "output_type": "stream",
     "text": [
      "200\n"
     ]
    }
   ],
   "source": [
    "from collections import Counter\n",
    "shoes = int(input())\n",
    "list_of_size = list(map(int,input().split()))\n",
    "customer = int(input())\n",
    "\n",
    "size_count = Counter(list_of_size)\n",
    "\n",
    "total = 0\n",
    "for i in range(customer): \n",
    "    size, price = list(map(int, input().split()))\n",
    "    if size in size_count.keys():\n",
    "        if size_count[size] > 0:\n",
    "            total += price\n",
    "            size_count[size] = size_count[size] - 1\n",
    "\n",
    "print(total)"
   ]
  }
 ],
 "metadata": {
  "kernelspec": {
   "display_name": "Python [conda env:base] *",
   "language": "python",
   "name": "conda-base-py"
  },
  "language_info": {
   "codemirror_mode": {
    "name": "ipython",
    "version": 3
   },
   "file_extension": ".py",
   "mimetype": "text/x-python",
   "name": "python",
   "nbconvert_exporter": "python",
   "pygments_lexer": "ipython3",
   "version": "3.12.7"
  }
 },
 "nbformat": 4,
 "nbformat_minor": 5
}
