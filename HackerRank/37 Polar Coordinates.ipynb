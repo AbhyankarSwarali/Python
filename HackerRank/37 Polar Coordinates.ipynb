{
 "cells": [
  {
   "cell_type": "code",
   "execution_count": 38,
   "id": "3f1fadff-3e0b-48ac-bc53-90268cc9c523",
   "metadata": {},
   "outputs": [
    {
     "name": "stdin",
     "output_type": "stream",
     "text": [
      " 3+6j\n"
     ]
    },
    {
     "name": "stdout",
     "output_type": "stream",
     "text": [
      "6.708\n",
      "1.107\n"
     ]
    }
   ],
   "source": [
    "import cmath\n",
    "def polar_coords(z): \n",
    "    r = abs(z)\n",
    "    theta = cmath.phase(z)\n",
    "    return r,theta\n",
    "\n",
    "z = complex(input().strip())\n",
    "r, theta = polar_coords(z)\n",
    "\n",
    "print(round(r, 3))\n",
    "print(round(theta, 3))"
   ]
  }
 ],
 "metadata": {
  "kernelspec": {
   "display_name": "Python [conda env:base] *",
   "language": "python",
   "name": "conda-base-py"
  },
  "language_info": {
   "codemirror_mode": {
    "name": "ipython",
    "version": 3
   },
   "file_extension": ".py",
   "mimetype": "text/x-python",
   "name": "python",
   "nbconvert_exporter": "python",
   "pygments_lexer": "ipython3",
   "version": "3.12.7"
  }
 },
 "nbformat": 4,
 "nbformat_minor": 5
}
