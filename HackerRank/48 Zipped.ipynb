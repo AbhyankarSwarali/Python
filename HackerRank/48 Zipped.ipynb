{
 "cells": [
  {
   "cell_type": "code",
   "execution_count": 1,
   "id": "8ae026e6-77a9-4100-ad41-80dfb6c52801",
   "metadata": {},
   "outputs": [
    {
     "name": "stdin",
     "output_type": "stream",
     "text": [
      " 5 3\n",
      " 89 90 78 93 80\n",
      " 90 91 85 88 86\n",
      " 91 92 83 89 90.5\n"
     ]
    },
    {
     "name": "stdout",
     "output_type": "stream",
     "text": [
      "90.0\n",
      "91.0\n",
      "82.0\n",
      "90.0\n",
      "85.5\n"
     ]
    }
   ],
   "source": [
    "n,x = map(int, input().split())\n",
    "marks = []\n",
    "for _ in range(x): \n",
    "    course = list(map(float, input().split()))\n",
    "    marks.append(course)\n",
    "for stu_mks in list(zip(*marks)): \n",
    "    print(sum(stu_mks) / x)"
   ]
  }
 ],
 "metadata": {
  "kernelspec": {
   "display_name": "Python [conda env:base] *",
   "language": "python",
   "name": "conda-base-py"
  },
  "language_info": {
   "codemirror_mode": {
    "name": "ipython",
    "version": 3
   },
   "file_extension": ".py",
   "mimetype": "text/x-python",
   "name": "python",
   "nbconvert_exporter": "python",
   "pygments_lexer": "ipython3",
   "version": "3.12.7"
  }
 },
 "nbformat": 4,
 "nbformat_minor": 5
}
