{
 "cells": [
  {
   "cell_type": "code",
   "execution_count": 21,
   "id": "3e96f4fe-4241-4d8e-86c6-5e9e9c374f16",
   "metadata": {},
   "outputs": [
    {
     "name": "stdin",
     "output_type": "stream",
     "text": [
      " 08 05 2015\n"
     ]
    },
    {
     "name": "stdout",
     "output_type": "stream",
     "text": [
      "WEDNESDAY\n"
     ]
    }
   ],
   "source": [
    "import calendar\n",
    "m,d,y = list(map(int, input().split()))\n",
    "day = calendar.weekday(y,m,d)\n",
    "print(calendar.day_name[day].upper())"
   ]
  }
 ],
 "metadata": {
  "kernelspec": {
   "display_name": "Python [conda env:base] *",
   "language": "python",
   "name": "conda-base-py"
  },
  "language_info": {
   "codemirror_mode": {
    "name": "ipython",
    "version": 3
   },
   "file_extension": ".py",
   "mimetype": "text/x-python",
   "name": "python",
   "nbconvert_exporter": "python",
   "pygments_lexer": "ipython3",
   "version": "3.12.7"
  }
 },
 "nbformat": 4,
 "nbformat_minor": 5
}
