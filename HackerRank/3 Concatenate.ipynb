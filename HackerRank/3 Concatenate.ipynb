{
 "cells": [
  {
   "cell_type": "code",
   "execution_count": null,
   "id": "3e176fd4-9197-4479-8a28-a981a7a4ab34",
   "metadata": {},
   "outputs": [],
   "source": [
    "import numpy as np \n",
    "n, m, p = [int(i) for i in input().split()]\n",
    "arr1 = np.array([input().split() for i in range(n)], int)\n",
    "arr2 = np.array([input().split() for j in range(m)], int)\n",
    "result = np.concatenate((arr1, arr2))\n",
    "print(result)"
   ]
  }
 ],
 "metadata": {
  "kernelspec": {
   "display_name": "Python [conda env:base] *",
   "language": "python",
   "name": "conda-base-py"
  },
  "language_info": {
   "codemirror_mode": {
    "name": "ipython",
    "version": 3
   },
   "file_extension": ".py",
   "mimetype": "text/x-python",
   "name": "python",
   "nbconvert_exporter": "python",
   "pygments_lexer": "ipython3",
   "version": "3.12.7"
  }
 },
 "nbformat": 4,
 "nbformat_minor": 5
}
