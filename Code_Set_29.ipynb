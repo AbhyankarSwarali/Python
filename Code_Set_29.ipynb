{
 "cells": [
  {
   "cell_type": "code",
   "execution_count": 1,
   "id": "60b948bc-cd63-47a2-bc6c-1de71ec45531",
   "metadata": {},
   "outputs": [
    {
     "name": "stdout",
     "output_type": "stream",
     "text": [
      "Function result: 6\n",
      "Lambda result: 6\n"
     ]
    }
   ],
   "source": [
    "# 122. Lambda function \n",
    "def double(x): \n",
    "    return x*2\n",
    "\n",
    "l = lambda x:x*2\n",
    "\n",
    "print('Function result:', double(3))\n",
    "print(\"Lambda result:\", l(3))"
   ]
  },
  {
   "cell_type": "code",
   "execution_count": 4,
   "id": "190540f8-2e01-41da-8f7c-85e311b5abc0",
   "metadata": {},
   "outputs": [
    {
     "name": "stdout",
     "output_type": "stream",
     "text": [
      "Thursday\n"
     ]
    }
   ],
   "source": [
    "# 123. Caller class function \n",
    "class Day(): \n",
    "    def __init__(self): \n",
    "        self.days = {1:'Monday', 2:'Tuesday', 3:'Wednesday', 4:'Thursday',\n",
    "                     5:'Friday', 6:'Saturday', 7:'Sunday'}\n",
    "\n",
    "    def __call__(self, dayno): \n",
    "        return self.days[dayno]\n",
    "\n",
    "D = Day()\n",
    "print(D(4))"
   ]
  },
  {
   "cell_type": "code",
   "execution_count": 9,
   "id": "717f2eff-8c6d-46e5-8355-8b62c76fc296",
   "metadata": {},
   "outputs": [
    {
     "name": "stdin",
     "output_type": "stream",
     "text": [
      "Enter a: 51\n",
      "Enter b: 15\n"
     ]
    },
    {
     "name": "stdout",
     "output_type": "stream",
     "text": [
      "3\n",
      "End of program\n"
     ]
    }
   ],
   "source": [
    "# 124. Try-except division \n",
    "a = int(input(\"Enter a:\"))\n",
    "b = int(input(\"Enter b:\"))\n",
    "\n",
    "try: \n",
    "    c = a // b \n",
    "    print(c)\n",
    "except: \n",
    "    print('Error')\n",
    "\n",
    "print(\"End of program\")"
   ]
  }
 ],
 "metadata": {
  "kernelspec": {
   "display_name": "Python [conda env:base] *",
   "language": "python",
   "name": "conda-base-py"
  },
  "language_info": {
   "codemirror_mode": {
    "name": "ipython",
    "version": 3
   },
   "file_extension": ".py",
   "mimetype": "text/x-python",
   "name": "python",
   "nbconvert_exporter": "python",
   "pygments_lexer": "ipython3",
   "version": "3.12.7"
  }
 },
 "nbformat": 4,
 "nbformat_minor": 5
}
