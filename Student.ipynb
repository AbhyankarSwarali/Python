{
 "cells": [
  {
   "cell_type": "code",
   "execution_count": 3,
   "id": "8b240604-9c9d-4ea7-b68b-258682832d01",
   "metadata": {},
   "outputs": [],
   "source": [
    "# 134. Student \n",
    "class Student: \n",
    "    def __init__(self, roll, name, dept): \n",
    "        self.roll = roll\n",
    "        self.name = name\n",
    "        self.dept = dept\n",
    "\n",
    "    def display(self): \n",
    "        print(f'Name: {self.name} \\nRoll no: {self.roll} \\n Department: {self.dept} \\n')"
   ]
  },
  {
   "cell_type": "code",
   "execution_count": 4,
   "id": "8b98aabb-bb56-4a53-b6ca-cd3c50130cdf",
   "metadata": {},
   "outputs": [],
   "source": [
    "# The above class is used as import module in further 2 code sets"
   ]
  }
 ],
 "metadata": {
  "kernelspec": {
   "display_name": "Python [conda env:base] *",
   "language": "python",
   "name": "conda-base-py"
  },
  "language_info": {
   "codemirror_mode": {
    "name": "ipython",
    "version": 3
   },
   "file_extension": ".py",
   "mimetype": "text/x-python",
   "name": "python",
   "nbconvert_exporter": "python",
   "pygments_lexer": "ipython3",
   "version": "3.12.7"
  }
 },
 "nbformat": 4,
 "nbformat_minor": 5
}
