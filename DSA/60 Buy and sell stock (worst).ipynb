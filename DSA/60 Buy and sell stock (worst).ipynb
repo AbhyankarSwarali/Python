{
 "cells": [
  {
   "cell_type": "code",
   "execution_count": 2,
   "id": "f51b140b-40f9-4e02-aaee-c4a080dbf204",
   "metadata": {},
   "outputs": [
    {
     "name": "stdout",
     "output_type": "stream",
     "text": [
      "7\n"
     ]
    }
   ],
   "source": [
    "price = [7,2,1,5,6,4,8]\n",
    "profit = 0\n",
    "n = len(price)\n",
    "for i in range(n): \n",
    "    for j in range(i+1,n): \n",
    "        if price[j] > price[i]: \n",
    "            p = price[j] - price[i]\n",
    "            profit = max(p,profit)\n",
    "print(profit)"
   ]
  }
 ],
 "metadata": {
  "kernelspec": {
   "display_name": "Python [conda env:base] *",
   "language": "python",
   "name": "conda-base-py"
  },
  "language_info": {
   "codemirror_mode": {
    "name": "ipython",
    "version": 3
   },
   "file_extension": ".py",
   "mimetype": "text/x-python",
   "name": "python",
   "nbconvert_exporter": "python",
   "pygments_lexer": "ipython3",
   "version": "3.12.7"
  }
 },
 "nbformat": 4,
 "nbformat_minor": 5
}
