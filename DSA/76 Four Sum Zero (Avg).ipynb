{
 "cells": [
  {
   "cell_type": "code",
   "execution_count": 1,
   "id": "3ae2091f-deab-48cf-8509-568c42fdf318",
   "metadata": {},
   "outputs": [
    {
     "name": "stdout",
     "output_type": "stream",
     "text": [
      "[[-2, -1, 1, 2], [-1, 0, 0, 1], [-2, 0, 0, 2]]\n"
     ]
    }
   ],
   "source": [
    "nums = [1,0,-1,0,-2,2]\n",
    "n = len(nums)\n",
    "target = 0\n",
    "s = set()\n",
    "if n < 3: \n",
    "    print([])\n",
    "for i in range(n): \n",
    "    for j in range(i+1,n): \n",
    "        hash_set = set()\n",
    "        for k in range(j+1,n): \n",
    "            l = target - (nums[i] + nums[j] + nums[k])\n",
    "            if l in hash_set: \n",
    "                temp = [nums[i], nums[j], nums[k], l]\n",
    "                temp.sort()\n",
    "                s.add(tuple(temp))\n",
    "            hash_set.add(nums[k])\n",
    "result = []\n",
    "for ans in s: \n",
    "    result.append(list(ans))\n",
    "print(result)"
   ]
  }
 ],
 "metadata": {
  "kernelspec": {
   "display_name": "Python [conda env:base] *",
   "language": "python",
   "name": "conda-base-py"
  },
  "language_info": {
   "codemirror_mode": {
    "name": "ipython",
    "version": 3
   },
   "file_extension": ".py",
   "mimetype": "text/x-python",
   "name": "python",
   "nbconvert_exporter": "python",
   "pygments_lexer": "ipython3",
   "version": "3.12.7"
  }
 },
 "nbformat": 4,
 "nbformat_minor": 5
}
