{
 "cells": [
  {
   "cell_type": "code",
   "execution_count": 2,
   "id": "ef8aaa14-2eb8-4795-b1e1-b4226000e647",
   "metadata": {},
   "outputs": [
    {
     "name": "stdin",
     "output_type": "stream",
     "text": [
      "Enter a number: 72\n"
     ]
    },
    {
     "name": "stdout",
     "output_type": "stream",
     "text": [
      "[1, 2, 3, 4, 6, 8, 9, 12, 18, 24, 36, 72]\n"
     ]
    }
   ],
   "source": [
    "from math import sqrt\n",
    "x = int(input(\"Enter a number:\"))\n",
    "fact = []\n",
    "for a in range(1, int(sqrt(x)) + 1):\n",
    "    if x % a == 0: \n",
    "        fact.append(a)\n",
    "        if x // a != a:\n",
    "            fact.append(x//a) \n",
    "print(sorted(fact))"
   ]
  }
 ],
 "metadata": {
  "kernelspec": {
   "display_name": "Python [conda env:base] *",
   "language": "python",
   "name": "conda-base-py"
  },
  "language_info": {
   "codemirror_mode": {
    "name": "ipython",
    "version": 3
   },
   "file_extension": ".py",
   "mimetype": "text/x-python",
   "name": "python",
   "nbconvert_exporter": "python",
   "pygments_lexer": "ipython3",
   "version": "3.12.7"
  }
 },
 "nbformat": 4,
 "nbformat_minor": 5
}
