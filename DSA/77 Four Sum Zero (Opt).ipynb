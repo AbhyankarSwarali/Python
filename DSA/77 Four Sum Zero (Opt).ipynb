{
 "cells": [
  {
   "cell_type": "code",
   "execution_count": 6,
   "id": "eef6efcf-c61e-4a68-8ac0-3f80dbfa92a0",
   "metadata": {},
   "outputs": [
    {
     "name": "stdout",
     "output_type": "stream",
     "text": [
      "[[-2, -1, 1, 2], [-2, 0, 0, 2], [-1, 0, 0, 1]]\n"
     ]
    }
   ],
   "source": [
    "from typing import List\n",
    "\n",
    "nums = [1,0,-1,0,-2,2]\n",
    "target = 0\n",
    "\n",
    "def four_sum(nums:List[int], target:int) -> List[List[int]]:\n",
    "    n = len(nums)\n",
    "    nums.sort()\n",
    "    ans = []\n",
    "    for i in range(n): \n",
    "        if i>0 and nums[i] == nums[i-1]: \n",
    "            continue\n",
    "        for j in range(i+1,n): \n",
    "            if j>i+1 and nums[j] == nums[j-1]: \n",
    "                continue\n",
    "            k = j + 1\n",
    "            l = n - 1\n",
    "            while k < l: \n",
    "                total = nums[i] + nums[j] + nums[k] + nums[l]\n",
    "                if total == target: \n",
    "                    ans.append([nums[i], nums[j], nums[k], nums[l]])\n",
    "                    k += 1\n",
    "                    l -= 1\n",
    "                    while k<l and nums[k] == nums[k-1]: \n",
    "                        k += 1\n",
    "                    while k<l and nums[l] == nums[l+1]: \n",
    "                        l -= 1\n",
    "                elif total < target: \n",
    "                    k += 1\n",
    "                else: \n",
    "                    l -= 1\n",
    "    return ans\n",
    "\n",
    "print(four_sum(nums, target))"
   ]
  }
 ],
 "metadata": {
  "kernelspec": {
   "display_name": "Python [conda env:base] *",
   "language": "python",
   "name": "conda-base-py"
  },
  "language_info": {
   "codemirror_mode": {
    "name": "ipython",
    "version": 3
   },
   "file_extension": ".py",
   "mimetype": "text/x-python",
   "name": "python",
   "nbconvert_exporter": "python",
   "pygments_lexer": "ipython3",
   "version": "3.12.7"
  }
 },
 "nbformat": 4,
 "nbformat_minor": 5
}
