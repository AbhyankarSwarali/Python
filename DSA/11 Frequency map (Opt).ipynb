{
 "cells": [
  {
   "cell_type": "code",
   "execution_count": 1,
   "id": "d0993eff-0e65-47f8-b66c-db198e8d9eae",
   "metadata": {},
   "outputs": [
    {
     "name": "stdout",
     "output_type": "stream",
     "text": [
      "{5: 2, 6: 1, 7: 2, 1: 3, 9: 1, 111: 1, 2: 1, 3: 1}\n"
     ]
    }
   ],
   "source": [
    "l = [5,6,7,7,1,9,111,1,1,5,2,3]\n",
    "hash_map = dict()\n",
    "n = len(l) \n",
    "for s in range(n): \n",
    "    hash_map[l[s]] = hash_map.get(l[s], 0) + 1\n",
    "print(hash_map)"
   ]
  }
 ],
 "metadata": {
  "kernelspec": {
   "display_name": "Python [conda env:base] *",
   "language": "python",
   "name": "conda-base-py"
  },
  "language_info": {
   "codemirror_mode": {
    "name": "ipython",
    "version": 3
   },
   "file_extension": ".py",
   "mimetype": "text/x-python",
   "name": "python",
   "nbconvert_exporter": "python",
   "pygments_lexer": "ipython3",
   "version": "3.12.7"
  }
 },
 "nbformat": 4,
 "nbformat_minor": 5
}
