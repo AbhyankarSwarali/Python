{
 "cells": [
  {
   "cell_type": "code",
   "execution_count": 2,
   "id": "fdbd5f9c-9a06-4084-a2ec-8105dbb1b0be",
   "metadata": {},
   "outputs": [
    {
     "name": "stdout",
     "output_type": "stream",
     "text": [
      "[[-1, 0, 1], [-1, -1, 2], [-1, 0, 1]]\n"
     ]
    }
   ],
   "source": [
    "a = [-1,0,1,2,-1,-4]\n",
    "n = len(a)\n",
    "res = []\n",
    "for i in range(n): \n",
    "    s = set()\n",
    "    for j in range(i+1,n): \n",
    "        k = -(a[i] + a[j])\n",
    "        if k in s: \n",
    "            temp = [a[i], a[j], k]\n",
    "            temp.sort()\n",
    "            res.append(tuple(temp))\n",
    "        s.add(a[j])\n",
    "final = [list(ans) for ans in res]\n",
    "print(final)"
   ]
  }
 ],
 "metadata": {
  "kernelspec": {
   "display_name": "Python [conda env:base] *",
   "language": "python",
   "name": "conda-base-py"
  },
  "language_info": {
   "codemirror_mode": {
    "name": "ipython",
    "version": 3
   },
   "file_extension": ".py",
   "mimetype": "text/x-python",
   "name": "python",
   "nbconvert_exporter": "python",
   "pygments_lexer": "ipython3",
   "version": "3.12.7"
  }
 },
 "nbformat": 4,
 "nbformat_minor": 5
}
