{
 "cells": [
  {
   "cell_type": "code",
   "execution_count": 3,
   "id": "a94b868b-09dd-4efc-bcab-5d7eb8a0393a",
   "metadata": {},
   "outputs": [
    {
     "name": "stdout",
     "output_type": "stream",
     "text": [
      "True\n",
      "False\n"
     ]
    }
   ],
   "source": [
    "def check_sort(l): \n",
    "    n = len(l)\n",
    "    for i in range(n-1): \n",
    "        if l[i] > l[i+1]: \n",
    "            return False\n",
    "    return True\n",
    "\n",
    "l1 = [3,5,6,8,9,10,20]\n",
    "print(check_sort(l1))\n",
    "\n",
    "l2 = [1,2,5,3,8,14,10,15]\n",
    "print(check_sort(l2))"
   ]
  }
 ],
 "metadata": {
  "kernelspec": {
   "display_name": "Python [conda env:base] *",
   "language": "python",
   "name": "conda-base-py"
  },
  "language_info": {
   "codemirror_mode": {
    "name": "ipython",
    "version": 3
   },
   "file_extension": ".py",
   "mimetype": "text/x-python",
   "name": "python",
   "nbconvert_exporter": "python",
   "pygments_lexer": "ipython3",
   "version": "3.12.7"
  }
 },
 "nbformat": 4,
 "nbformat_minor": 5
}
