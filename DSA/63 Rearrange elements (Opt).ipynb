{
 "cells": [
  {
   "cell_type": "code",
   "execution_count": 1,
   "id": "510cae8f-1359-43ca-aceb-cf1ef1dce1f6",
   "metadata": {},
   "outputs": [
    {
     "name": "stdout",
     "output_type": "stream",
     "text": [
      "[5, -3, 10, -1, 6, -10]\n"
     ]
    }
   ],
   "source": [
    "l = [5,10,-3,-1,-10,6]\n",
    "n = len(l)\n",
    "res = [0] * n\n",
    "pos,neg = 0,1\n",
    "for i in range(n):\n",
    "    if l[i] >= 0:\n",
    "        res[pos] = l[i]\n",
    "        pos += 2\n",
    "    else: \n",
    "        res[neg] = l[i]\n",
    "        neg += 2\n",
    "print(res)"
   ]
  }
 ],
 "metadata": {
  "kernelspec": {
   "display_name": "Python [conda env:base] *",
   "language": "python",
   "name": "conda-base-py"
  },
  "language_info": {
   "codemirror_mode": {
    "name": "ipython",
    "version": 3
   },
   "file_extension": ".py",
   "mimetype": "text/x-python",
   "name": "python",
   "nbconvert_exporter": "python",
   "pygments_lexer": "ipython3",
   "version": "3.12.7"
  }
 },
 "nbformat": 4,
 "nbformat_minor": 5
}
