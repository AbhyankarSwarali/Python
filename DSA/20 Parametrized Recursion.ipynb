{
 "cells": [
  {
   "cell_type": "code",
   "execution_count": 11,
   "id": "42d1fc03-d969-4095-b1a0-682129435ce0",
   "metadata": {},
   "outputs": [
    {
     "name": "stdout",
     "output_type": "stream",
     "text": [
      "Sum: 10\n"
     ]
    }
   ],
   "source": [
    "def para_rec(sumn, i, n): \n",
    "    if i>n:\n",
    "        print(\"Sum:\",sumn)\n",
    "        return\n",
    "    para_rec(sumn+i, i+1, n)\n",
    "\n",
    "para_rec(0,1,4)"
   ]
  }
 ],
 "metadata": {
  "kernelspec": {
   "display_name": "Python [conda env:base] *",
   "language": "python",
   "name": "conda-base-py"
  },
  "language_info": {
   "codemirror_mode": {
    "name": "ipython",
    "version": 3
   },
   "file_extension": ".py",
   "mimetype": "text/x-python",
   "name": "python",
   "nbconvert_exporter": "python",
   "pygments_lexer": "ipython3",
   "version": "3.12.7"
  }
 },
 "nbformat": 4,
 "nbformat_minor": 5
}
