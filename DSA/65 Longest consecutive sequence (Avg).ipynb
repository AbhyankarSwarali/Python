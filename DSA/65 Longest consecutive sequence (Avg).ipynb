{
 "cells": [
  {
   "cell_type": "code",
   "execution_count": 4,
   "id": "4e0d1015-9afa-45a8-a704-ea57189c463f",
   "metadata": {},
   "outputs": [
    {
     "name": "stdout",
     "output_type": "stream",
     "text": [
      "4\n"
     ]
    }
   ],
   "source": [
    "l = [1,99,101,98,2,5,3,100,1,1]\n",
    "l.sort()\n",
    "last = float('-inf')\n",
    "n = len(l)\n",
    "count = 0\n",
    "longest = 0\n",
    "for i in range(n): \n",
    "    num = l[i]\n",
    "    if num-1 == last:\n",
    "        count += 1\n",
    "        last = num\n",
    "    elif num != last: \n",
    "        count = 1\n",
    "        last = num\n",
    "    longest = max(longest,count)\n",
    "print(longest)"
   ]
  }
 ],
 "metadata": {
  "kernelspec": {
   "display_name": "Python [conda env:base] *",
   "language": "python",
   "name": "conda-base-py"
  },
  "language_info": {
   "codemirror_mode": {
    "name": "ipython",
    "version": 3
   },
   "file_extension": ".py",
   "mimetype": "text/x-python",
   "name": "python",
   "nbconvert_exporter": "python",
   "pygments_lexer": "ipython3",
   "version": "3.12.7"
  }
 },
 "nbformat": 4,
 "nbformat_minor": 5
}
