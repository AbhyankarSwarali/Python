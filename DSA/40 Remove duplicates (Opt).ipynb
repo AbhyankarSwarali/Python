{
 "cells": [
  {
   "cell_type": "code",
   "execution_count": 1,
   "id": "376295df-4d61-4115-901c-af963cf532af",
   "metadata": {},
   "outputs": [
    {
     "name": "stdout",
     "output_type": "stream",
     "text": [
      "Number of unique elements: 7\n"
     ]
    }
   ],
   "source": [
    "def duplicates(lis): \n",
    "    n = len(lis)\n",
    "    if n == 1: \n",
    "        return 1\n",
    "    i = 0\n",
    "    j = i+1\n",
    "    while j < n: \n",
    "        if lis[j] != lis[i]: \n",
    "            i += 1\n",
    "            lis[i], lis[j] = lis[j], lis[i]\n",
    "        j += 1\n",
    "    return i+1\n",
    "\n",
    "lis = [1,1,1,2,3,4,4,7,9,9,9,10]\n",
    "print(\"Number of unique elements:\", duplicates(lis))"
   ]
  }
 ],
 "metadata": {
  "kernelspec": {
   "display_name": "Python [conda env:base] *",
   "language": "python",
   "name": "conda-base-py"
  },
  "language_info": {
   "codemirror_mode": {
    "name": "ipython",
    "version": 3
   },
   "file_extension": ".py",
   "mimetype": "text/x-python",
   "name": "python",
   "nbconvert_exporter": "python",
   "pygments_lexer": "ipython3",
   "version": "3.12.7"
  }
 },
 "nbformat": 4,
 "nbformat_minor": 5
}
