{
 "cells": [
  {
   "cell_type": "code",
   "execution_count": 6,
   "id": "21e9fa40-7ab0-4627-8ddf-af78e7ba53c2",
   "metadata": {},
   "outputs": [
    {
     "name": "stdout",
     "output_type": "stream",
     "text": [
      "[[7, 0, 0, 3], [0, 0, 0, 0], [0, 0, 0, 0], [4, 0, 0, 7]]\n"
     ]
    }
   ],
   "source": [
    "matrix = [[7,9,2,3],[20,8,0,10],[29,0,-10,5],[4,14,6,7]]\n",
    "def mark_inf(matrix,row,col): \n",
    "    r = len(matrix)\n",
    "    c = len(matrix[0])\n",
    "    for i in range(r):\n",
    "        if matrix[i][col] != 0: \n",
    "            matrix[i][col] = float('inf')\n",
    "    for j in range(c): \n",
    "        if matrix[row][j] != 0: \n",
    "            matrix[row][j] = float('inf')\n",
    "def set_zero(matrix): \n",
    "    r = len(matrix)\n",
    "    c = len(matrix[0])\n",
    "    for i in range(r): \n",
    "        for j in range(c): \n",
    "            if matrix[i][j] == 0: \n",
    "                mark_inf(matrix,i,j)\n",
    "    for i in range(r): \n",
    "        for j in range(c): \n",
    "            if matrix[i][j] == float('inf'): \n",
    "                matrix[i][j] = 0\n",
    "    return matrix\n",
    "\n",
    "print(set_zero(matrix))"
   ]
  }
 ],
 "metadata": {
  "kernelspec": {
   "display_name": "Python [conda env:base] *",
   "language": "python",
   "name": "conda-base-py"
  },
  "language_info": {
   "codemirror_mode": {
    "name": "ipython",
    "version": 3
   },
   "file_extension": ".py",
   "mimetype": "text/x-python",
   "name": "python",
   "nbconvert_exporter": "python",
   "pygments_lexer": "ipython3",
   "version": "3.12.7"
  }
 },
 "nbformat": 4,
 "nbformat_minor": 5
}
