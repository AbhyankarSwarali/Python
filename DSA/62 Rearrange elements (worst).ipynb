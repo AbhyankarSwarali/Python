{
 "cells": [
  {
   "cell_type": "code",
   "execution_count": 4,
   "id": "f08839ca-2795-41f3-b55a-629d201681b8",
   "metadata": {},
   "outputs": [
    {
     "name": "stdout",
     "output_type": "stream",
     "text": [
      "[5, -3, 10, -1, 6, -10]\n"
     ]
    }
   ],
   "source": [
    "l = [5,10,-3,-1,-10,6]\n",
    "n = len(l)\n",
    "pos = []\n",
    "neg = []\n",
    "for i in range(n): \n",
    "    if l[i] > 0: \n",
    "        pos.append(l[i])\n",
    "    else: \n",
    "        neg.append(l[i])\n",
    "for j in range(len(pos)): \n",
    "    l[2*j] = pos[j]\n",
    "    l[(2*j) + 1] = neg[j]\n",
    "print(l)"
   ]
  }
 ],
 "metadata": {
  "kernelspec": {
   "display_name": "Python [conda env:base] *",
   "language": "python",
   "name": "conda-base-py"
  },
  "language_info": {
   "codemirror_mode": {
    "name": "ipython",
    "version": 3
   },
   "file_extension": ".py",
   "mimetype": "text/x-python",
   "name": "python",
   "nbconvert_exporter": "python",
   "pygments_lexer": "ipython3",
   "version": "3.12.7"
  }
 },
 "nbformat": 4,
 "nbformat_minor": 5
}
