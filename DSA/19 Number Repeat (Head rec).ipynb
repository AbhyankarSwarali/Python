{
 "cells": [
  {
   "cell_type": "code",
   "execution_count": 1,
   "id": "b5adba6b-bbd8-4ae0-a2f2-df0fc4f49a1a",
   "metadata": {},
   "outputs": [
    {
     "name": "stdout",
     "output_type": "stream",
     "text": [
      "5\n",
      "5\n",
      "5\n",
      "5\n"
     ]
    }
   ],
   "source": [
    "def repeat_head(a,b): \n",
    "    if b == 0: \n",
    "        return\n",
    "    repeat_head(a, b-1) \n",
    "    print(a)\n",
    "\n",
    "repeat_head(5,4)"
   ]
  }
 ],
 "metadata": {
  "kernelspec": {
   "display_name": "Python [conda env:base] *",
   "language": "python",
   "name": "conda-base-py"
  },
  "language_info": {
   "codemirror_mode": {
    "name": "ipython",
    "version": 3
   },
   "file_extension": ".py",
   "mimetype": "text/x-python",
   "name": "python",
   "nbconvert_exporter": "python",
   "pygments_lexer": "ipython3",
   "version": "3.12.7"
  }
 },
 "nbformat": 4,
 "nbformat_minor": 5
}
