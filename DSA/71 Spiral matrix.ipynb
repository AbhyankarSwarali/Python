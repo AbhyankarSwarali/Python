{
 "cells": [
  {
   "cell_type": "code",
   "execution_count": 1,
   "id": "e89cc473-da25-4034-9d5e-2f161baa7ab5",
   "metadata": {},
   "outputs": [
    {
     "name": "stdout",
     "output_type": "stream",
     "text": [
      "[1, 2, 3, 4, 5, 6, 7, 8, 9, 10, 11, 12, 13, 14, 15, 16]\n"
     ]
    }
   ],
   "source": [
    "mat = [[1,2,3,4], [12,13,14,5], [11,16,15,6], [10,9,8,7]]\n",
    "n = len(mat)\n",
    "top = 0\n",
    "left = 0\n",
    "right = n-1\n",
    "bottom = n-1\n",
    "\n",
    "if not mat or not mat[0]:\n",
    "    print([])\n",
    "result = []\n",
    "\n",
    "while top <= bottom and left <= right:\n",
    "    for i in range(left,right+1):\n",
    "        result.append(mat[top][i])\n",
    "    top += 1\n",
    "\n",
    "    for i in range(top,bottom+1):\n",
    "        result.append(mat[i][right])\n",
    "    right -= 1\n",
    "\n",
    "    if top <= bottom:\n",
    "        for i in range(right,left-1,-1):\n",
    "            result.append(mat[bottom][i])\n",
    "        bottom -= 1\n",
    "    \n",
    "    if left <= right:\n",
    "        for i in range(bottom,top-1,-1):\n",
    "            result.append(mat[i][left])\n",
    "        left += 1\n",
    "\n",
    "print(result)"
   ]
  }
 ],
 "metadata": {
  "kernelspec": {
   "display_name": "Python [conda env:base] *",
   "language": "python",
   "name": "conda-base-py"
  },
  "language_info": {
   "codemirror_mode": {
    "name": "ipython",
    "version": 3
   },
   "file_extension": ".py",
   "mimetype": "text/x-python",
   "name": "python",
   "nbconvert_exporter": "python",
   "pygments_lexer": "ipython3",
   "version": "3.12.7"
  }
 },
 "nbformat": 4,
 "nbformat_minor": 5
}
