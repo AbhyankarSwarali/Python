{
 "cells": [
  {
   "cell_type": "code",
   "execution_count": 2,
   "id": "5a870408-63db-445b-83da-050e4afb802a",
   "metadata": {},
   "outputs": [
    {
     "name": "stdout",
     "output_type": "stream",
     "text": [
      "2\n"
     ]
    }
   ],
   "source": [
    "def binary_search_rec(l,low,high): \n",
    "    n = len(l)\n",
    "    target = 6\n",
    "    if low > high: \n",
    "        return -1\n",
    "    mid = (low + high) // 2\n",
    "    if l[mid] == target: \n",
    "        return mid\n",
    "    elif l[mid] < target: \n",
    "        return binary_search_rec(l,mid+1,high)\n",
    "    else: \n",
    "        return binary_search_rec(l,low,mid-1)\n",
    "\n",
    "l = [2,4,6,7,9,11,18,19]\n",
    "print(binary_search_rec(l,0,len(l)-1))"
   ]
  }
 ],
 "metadata": {
  "kernelspec": {
   "display_name": "Python [conda env:base] *",
   "language": "python",
   "name": "conda-base-py"
  },
  "language_info": {
   "codemirror_mode": {
    "name": "ipython",
    "version": 3
   },
   "file_extension": ".py",
   "mimetype": "text/x-python",
   "name": "python",
   "nbconvert_exporter": "python",
   "pygments_lexer": "ipython3",
   "version": "3.12.7"
  }
 },
 "nbformat": 4,
 "nbformat_minor": 5
}
