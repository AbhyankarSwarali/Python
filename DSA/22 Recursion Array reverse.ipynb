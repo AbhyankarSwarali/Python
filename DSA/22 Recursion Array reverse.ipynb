{
 "cells": [
  {
   "cell_type": "code",
   "execution_count": 1,
   "id": "91155fd2-97dd-4292-8917-8526ee97b606",
   "metadata": {},
   "outputs": [
    {
     "name": "stdout",
     "output_type": "stream",
     "text": [
      "[9, 5, 1, 6, 2, 3, 7, 5]\n"
     ]
    }
   ],
   "source": [
    "l = [5,7,3,2,6,1,5,9]\n",
    "def reverse(l, left, right): \n",
    "    if left >= right: \n",
    "        return\n",
    "    l[left], l[right] = l[right], l[left]\n",
    "    reverse(l, left+1, right-1)\n",
    "\n",
    "reverse(l,0,7)\n",
    "print(l)"
   ]
  }
 ],
 "metadata": {
  "kernelspec": {
   "display_name": "Python [conda env:base] *",
   "language": "python",
   "name": "conda-base-py"
  },
  "language_info": {
   "codemirror_mode": {
    "name": "ipython",
    "version": 3
   },
   "file_extension": ".py",
   "mimetype": "text/x-python",
   "name": "python",
   "nbconvert_exporter": "python",
   "pygments_lexer": "ipython3",
   "version": "3.12.7"
  }
 },
 "nbformat": 4,
 "nbformat_minor": 5
}
