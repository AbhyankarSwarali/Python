{
 "cells": [
  {
   "cell_type": "code",
   "execution_count": 6,
   "id": "55c9fe1f-4fdc-46dc-94e3-a15a5fe44901",
   "metadata": {},
   "outputs": [
    {
     "name": "stdin",
     "output_type": "stream",
     "text": [
      "Enter a number: 153\n"
     ]
    },
    {
     "name": "stdout",
     "output_type": "stream",
     "text": [
      "Armstrong number\n"
     ]
    }
   ],
   "source": [
    "a = int(input(\"Enter a number:\"))\n",
    "nod = len(str(a))\n",
    "total = 0\n",
    "b = a\n",
    "while b > 0: \n",
    "    ld = b % 10\n",
    "    total = total + ld**nod\n",
    "    b = b // 10 \n",
    "\n",
    "if total == a:\n",
    "    print(\"Armstrong number\")\n",
    "else: \n",
    "    print(\"Not an Armstrong number\")"
   ]
  }
 ],
 "metadata": {
  "kernelspec": {
   "display_name": "Python [conda env:base] *",
   "language": "python",
   "name": "conda-base-py"
  },
  "language_info": {
   "codemirror_mode": {
    "name": "ipython",
    "version": 3
   },
   "file_extension": ".py",
   "mimetype": "text/x-python",
   "name": "python",
   "nbconvert_exporter": "python",
   "pygments_lexer": "ipython3",
   "version": "3.12.7"
  }
 },
 "nbformat": 4,
 "nbformat_minor": 5
}
