{
 "cells": [
  {
   "cell_type": "code",
   "execution_count": 1,
   "id": "965c3107-269c-48ae-84a4-aaf36fa7858b",
   "metadata": {},
   "outputs": [
    {
     "name": "stdout",
     "output_type": "stream",
     "text": [
      "{5: 2, 6: 1, 7: 2, 1: 4, 9: 1, 111: 1, 2: 1}\n"
     ]
    }
   ],
   "source": [
    "l = [5,6,7,7,1,9,111,1,1,5,1,2]\n",
    "d = {}\n",
    "for k in range(len(l)): \n",
    "    if l[k] in d:\n",
    "        d[l[k]] += 1\n",
    "    else: \n",
    "        d[l[k]] = 1\n",
    "print(d)"
   ]
  }
 ],
 "metadata": {
  "kernelspec": {
   "display_name": "Python [conda env:base] *",
   "language": "python",
   "name": "conda-base-py"
  },
  "language_info": {
   "codemirror_mode": {
    "name": "ipython",
    "version": 3
   },
   "file_extension": ".py",
   "mimetype": "text/x-python",
   "name": "python",
   "nbconvert_exporter": "python",
   "pygments_lexer": "ipython3",
   "version": "3.12.7"
  }
 },
 "nbformat": 4,
 "nbformat_minor": 5
}
