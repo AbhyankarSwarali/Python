{
 "cells": [
  {
   "cell_type": "code",
   "execution_count": 1,
   "id": "78dc7eb7-fc33-446f-aca2-d870bffc309c",
   "metadata": {},
   "outputs": [
    {
     "name": "stdout",
     "output_type": "stream",
     "text": [
      "[1, 2, 4, 3, 3, 5, 1, 0, 0, 0]\n"
     ]
    }
   ],
   "source": [
    "l = [1,0,2,4,3,0,0,3,5,1]\n",
    "if len(l) == 1: \n",
    "    print(l)\n",
    "i = 0\n",
    "while i < len(l):\n",
    "    if l[i] == 0: \n",
    "        break\n",
    "    i += 1\n",
    "if i == len(l): \n",
    "    print(l)\n",
    "j = i+1\n",
    "while j < len(l): \n",
    "    if l[j] != 0: \n",
    "        l[i], l[j] = l[j], l[i]\n",
    "        i += 1\n",
    "    j += 1\n",
    "print(l)"
   ]
  }
 ],
 "metadata": {
  "kernelspec": {
   "display_name": "Python [conda env:base] *",
   "language": "python",
   "name": "conda-base-py"
  },
  "language_info": {
   "codemirror_mode": {
    "name": "ipython",
    "version": 3
   },
   "file_extension": ".py",
   "mimetype": "text/x-python",
   "name": "python",
   "nbconvert_exporter": "python",
   "pygments_lexer": "ipython3",
   "version": "3.12.7"
  }
 },
 "nbformat": 4,
 "nbformat_minor": 5
}
