{
 "cells": [
  {
   "cell_type": "code",
   "execution_count": 1,
   "id": "e0ed0a6e-f55a-486b-839d-c9c50a2cd168",
   "metadata": {},
   "outputs": [
    {
     "name": "stdout",
     "output_type": "stream",
     "text": [
      "4\n"
     ]
    }
   ],
   "source": [
    "l = [1,99,101,98,2,5,3,100,1,1]\n",
    "n = len(l) \n",
    "max_count = 0\n",
    "for i in range(n): \n",
    "    num = l[i]\n",
    "    count = 1\n",
    "    while num+1 in l: \n",
    "        count += 1\n",
    "        num += 1\n",
    "        max_count = max(max_count,count)\n",
    "print(max_count)"
   ]
  }
 ],
 "metadata": {
  "kernelspec": {
   "display_name": "Python [conda env:base] *",
   "language": "python",
   "name": "conda-base-py"
  },
  "language_info": {
   "codemirror_mode": {
    "name": "ipython",
    "version": 3
   },
   "file_extension": ".py",
   "mimetype": "text/x-python",
   "name": "python",
   "nbconvert_exporter": "python",
   "pygments_lexer": "ipython3",
   "version": "3.12.7"
  }
 },
 "nbformat": 4,
 "nbformat_minor": 5
}
