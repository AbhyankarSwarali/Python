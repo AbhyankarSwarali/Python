{
 "cells": [
  {
   "cell_type": "code",
   "execution_count": 1,
   "id": "0d158811-6dab-4aec-9548-09213da5b403",
   "metadata": {},
   "outputs": [
    {
     "name": "stdout",
     "output_type": "stream",
     "text": [
      "[10, 5, -2, 3, 9, 0, 6]\n"
     ]
    }
   ],
   "source": [
    "nums = [5,-2,3,9,0,6,10]\n",
    "def rotate(nums): \n",
    "    n = len(nums)\n",
    "    temp = nums[n-1]\n",
    "    for i in range(n-2,-1,-1):\n",
    "        nums[i+1] = nums[i]\n",
    "    nums[0] = temp\n",
    "    return nums\n",
    "\n",
    "print(rotate(nums))"
   ]
  }
 ],
 "metadata": {
  "kernelspec": {
   "display_name": "Python [conda env:base] *",
   "language": "python",
   "name": "conda-base-py"
  },
  "language_info": {
   "codemirror_mode": {
    "name": "ipython",
    "version": 3
   },
   "file_extension": ".py",
   "mimetype": "text/x-python",
   "name": "python",
   "nbconvert_exporter": "python",
   "pygments_lexer": "ipython3",
   "version": "3.12.7"
  }
 },
 "nbformat": 4,
 "nbformat_minor": 5
}
