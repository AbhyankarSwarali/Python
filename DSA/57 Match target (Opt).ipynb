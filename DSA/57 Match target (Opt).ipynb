{
 "cells": [
  {
   "cell_type": "code",
   "execution_count": 5,
   "id": "32f417f8-a090-4fde-bb0c-c368cd51f416",
   "metadata": {},
   "outputs": [
    {
     "name": "stdout",
     "output_type": "stream",
     "text": [
      "1 4\n"
     ]
    }
   ],
   "source": [
    "l = [ 5,9,1,2,4,15,6,3]\n",
    "target = 13\n",
    "n = len(l)\n",
    "d = {}\n",
    "for i in range(n): \n",
    "    remaining = target - l[i] \n",
    "    if remaining in d: \n",
    "        print(d[remaining], i)\n",
    "    d[l[i]] = i"
   ]
  }
 ],
 "metadata": {
  "kernelspec": {
   "display_name": "Python [conda env:base] *",
   "language": "python",
   "name": "conda-base-py"
  },
  "language_info": {
   "codemirror_mode": {
    "name": "ipython",
    "version": 3
   },
   "file_extension": ".py",
   "mimetype": "text/x-python",
   "name": "python",
   "nbconvert_exporter": "python",
   "pygments_lexer": "ipython3",
   "version": "3.12.7"
  }
 },
 "nbformat": 4,
 "nbformat_minor": 5
}
