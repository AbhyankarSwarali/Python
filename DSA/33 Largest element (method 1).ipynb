{
 "cells": [
  {
   "cell_type": "code",
   "execution_count": 2,
   "id": "ae025331-6f72-4f91-b3f9-863ab104e66e",
   "metadata": {},
   "outputs": [
    {
     "name": "stdout",
     "output_type": "stream",
     "text": [
      "99\n"
     ]
    }
   ],
   "source": [
    "def Largest(n): \n",
    "    largest = n[0]\n",
    "    l = len(n)\n",
    "    for i in range(l): \n",
    "        largest = max(largest, n[i])\n",
    "    return largest\n",
    "\n",
    "n = [55,32,-97,99,3,67]\n",
    "print(Largest(n))"
   ]
  }
 ],
 "metadata": {
  "kernelspec": {
   "display_name": "Python [conda env:base] *",
   "language": "python",
   "name": "conda-base-py"
  },
  "language_info": {
   "codemirror_mode": {
    "name": "ipython",
    "version": 3
   },
   "file_extension": ".py",
   "mimetype": "text/x-python",
   "name": "python",
   "nbconvert_exporter": "python",
   "pygments_lexer": "ipython3",
   "version": "3.12.7"
  }
 },
 "nbformat": 4,
 "nbformat_minor": 5
}
