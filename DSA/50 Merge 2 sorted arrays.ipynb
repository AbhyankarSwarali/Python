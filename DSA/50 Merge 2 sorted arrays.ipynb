{
 "cells": [
  {
   "cell_type": "code",
   "execution_count": 3,
   "id": "a8b38f54-8a2f-463a-b2d1-1737656b35b5",
   "metadata": {},
   "outputs": [
    {
     "name": "stdout",
     "output_type": "stream",
     "text": [
      "[1, 2, 3, 4, 6, 7, 8, 9, 10]\n"
     ]
    }
   ],
   "source": [
    "l1 = [1,1,1,2,4,6,7]\n",
    "l2 = [1,2,3,6,7,8,9,10]\n",
    "L = []\n",
    "n,m = len(l1), len(l2)\n",
    "i=j=0\n",
    "while i<n and j<m:\n",
    "    if l1[i] <= l2[j]:\n",
    "        if len(L) == 0 or L[-1] != l1[i]:\n",
    "            L.append(l1[i])\n",
    "        i += 1\n",
    "    else: \n",
    "        if len(L) == 0 or L[-1] != l2[j]:\n",
    "            L.append(l2[j])\n",
    "        j += 1\n",
    "while i < n: \n",
    "    if len(L) == 0 or L[-1] != l1[i]:\n",
    "            L.append(l1[i])\n",
    "    i += 1\n",
    "while j < m:\n",
    "    if len(L) == 0 or L[-1] != l2[j]:\n",
    "            L.append(l2[j])\n",
    "    j += 1\n",
    "\n",
    "print(L)"
   ]
  }
 ],
 "metadata": {
  "kernelspec": {
   "display_name": "Python [conda env:base] *",
   "language": "python",
   "name": "conda-base-py"
  },
  "language_info": {
   "codemirror_mode": {
    "name": "ipython",
    "version": 3
   },
   "file_extension": ".py",
   "mimetype": "text/x-python",
   "name": "python",
   "nbconvert_exporter": "python",
   "pygments_lexer": "ipython3",
   "version": "3.12.7"
  }
 },
 "nbformat": 4,
 "nbformat_minor": 5
}
