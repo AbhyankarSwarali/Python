{
 "cells": [
  {
   "cell_type": "code",
   "execution_count": 4,
   "id": "715a8b83-ad17-4245-b2b7-8f2514fb3697",
   "metadata": {},
   "outputs": [
    {
     "data": {
      "text/plain": [
       "[1, 2, 3, 4, 6, 7, 8]"
      ]
     },
     "execution_count": 4,
     "metadata": {},
     "output_type": "execute_result"
    }
   ],
   "source": [
    "L = [4,1,7,6,3,2,8]\n",
    "def partition(L,lower,higher): \n",
    "    pivot = L[lower]\n",
    "    i, j = lower, higher\n",
    "    while i < j: \n",
    "        while L[i] <= pivot and i <= higher - 1: \n",
    "            i += 1\n",
    "        while L[j] > pivot and j >= lower + 1:\n",
    "            j -= 1\n",
    "        if i < j:\n",
    "            L[i], L[j] = L[j], L[i]\n",
    "    L[lower], L[j] = L[j], L[lower]\n",
    "    return j\n",
    "\n",
    "def quick_sort(L, low, high): \n",
    "    if low < high: \n",
    "        p_idx = partition(L,low,high)\n",
    "        quick_sort(L, low, p_idx-1)\n",
    "        quick_sort(L, p_idx+1, high)\n",
    "    return L\n",
    "\n",
    "quick_sort(L,0,len(L)-1)"
   ]
  }
 ],
 "metadata": {
  "kernelspec": {
   "display_name": "Python [conda env:base] *",
   "language": "python",
   "name": "conda-base-py"
  },
  "language_info": {
   "codemirror_mode": {
    "name": "ipython",
    "version": 3
   },
   "file_extension": ".py",
   "mimetype": "text/x-python",
   "name": "python",
   "nbconvert_exporter": "python",
   "pygments_lexer": "ipython3",
   "version": "3.12.7"
  }
 },
 "nbformat": 4,
 "nbformat_minor": 5
}
