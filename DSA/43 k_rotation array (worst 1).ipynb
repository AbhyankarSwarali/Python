{
 "cells": [
  {
   "cell_type": "code",
   "execution_count": 2,
   "id": "a8aae921-a7e8-48c5-9e1d-5aaeb7c387e6",
   "metadata": {},
   "outputs": [
    {
     "name": "stdout",
     "output_type": "stream",
     "text": [
      "[6, 7, 8, 3, 9, 5]\n"
     ]
    }
   ],
   "source": [
    "l = [3,9,5,6,7,8]\n",
    "k = 3\n",
    "def k_rot(l): \n",
    "    n = len(l)\n",
    "    for i in range(k): \n",
    "        e = l.pop()\n",
    "        l.insert(0,e)\n",
    "    print(l)\n",
    "k_rot(l)"
   ]
  }
 ],
 "metadata": {
  "kernelspec": {
   "display_name": "Python [conda env:base] *",
   "language": "python",
   "name": "conda-base-py"
  },
  "language_info": {
   "codemirror_mode": {
    "name": "ipython",
    "version": 3
   },
   "file_extension": ".py",
   "mimetype": "text/x-python",
   "name": "python",
   "nbconvert_exporter": "python",
   "pygments_lexer": "ipython3",
   "version": "3.12.7"
  }
 },
 "nbformat": 4,
 "nbformat_minor": 5
}
