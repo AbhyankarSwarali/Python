{
 "cells": [
  {
   "cell_type": "code",
   "execution_count": 4,
   "id": "c4f7270b-0ecf-4f41-aa01-391a641c4c3d",
   "metadata": {},
   "outputs": [
    {
     "data": {
      "text/plain": [
       "[1, 2, 4, 5, 6, 7, 8, 9]"
      ]
     },
     "execution_count": 4,
     "metadata": {},
     "output_type": "execute_result"
    }
   ],
   "source": [
    "n = [5,7,8,4,1,6,9,2]\n",
    "def asc_sort(n, idx): \n",
    "    for i in range(len(n)-1): \n",
    "        small = n[i]\n",
    "        if n[i+1] < n[i]: \n",
    "            small = n[i+1]\n",
    "            n[i], n[i+1] = n[i+1], n[i]\n",
    "            asc_sort(n, idx+1)\n",
    "    return n\n",
    "\n",
    "asc_sort(n,0)"
   ]
  }
 ],
 "metadata": {
  "kernelspec": {
   "display_name": "Python [conda env:base] *",
   "language": "python",
   "name": "conda-base-py"
  },
  "language_info": {
   "codemirror_mode": {
    "name": "ipython",
    "version": 3
   },
   "file_extension": ".py",
   "mimetype": "text/x-python",
   "name": "python",
   "nbconvert_exporter": "python",
   "pygments_lexer": "ipython3",
   "version": "3.12.7"
  }
 },
 "nbformat": 4,
 "nbformat_minor": 5
}
