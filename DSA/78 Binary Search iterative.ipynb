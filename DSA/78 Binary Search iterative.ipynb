{
 "cells": [
  {
   "cell_type": "code",
   "execution_count": 3,
   "id": "166c7658-0581-47dd-847c-10f6fbba67ed",
   "metadata": {},
   "outputs": [
    {
     "name": "stdout",
     "output_type": "stream",
     "text": [
      "2\n"
     ]
    }
   ],
   "source": [
    "def binary_search_iter(l,target): \n",
    "    n = len(l)\n",
    "    low = 0\n",
    "    high = n-1\n",
    "    while low <= high: \n",
    "        mid = (low + high) // 2\n",
    "        if l[mid] == target: \n",
    "            return mid\n",
    "        elif l[mid] < target: \n",
    "            low = mid + 1\n",
    "        else: \n",
    "            high = mid - 1\n",
    "    return -1\n",
    "\n",
    "l = [2,4,6,7,9,11,18,19] \n",
    "target = 6\n",
    "print(binary_search_iter(l,target))"
   ]
  }
 ],
 "metadata": {
  "kernelspec": {
   "display_name": "Python [conda env:base] *",
   "language": "python",
   "name": "conda-base-py"
  },
  "language_info": {
   "codemirror_mode": {
    "name": "ipython",
    "version": 3
   },
   "file_extension": ".py",
   "mimetype": "text/x-python",
   "name": "python",
   "nbconvert_exporter": "python",
   "pygments_lexer": "ipython3",
   "version": "3.12.7"
  }
 },
 "nbformat": 4,
 "nbformat_minor": 5
}
