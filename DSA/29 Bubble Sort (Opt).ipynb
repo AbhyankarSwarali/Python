{
 "cells": [
  {
   "cell_type": "code",
   "execution_count": 2,
   "id": "f4af445d-dabe-4d8c-97e4-520301524f1a",
   "metadata": {},
   "outputs": [
    {
     "name": "stdout",
     "output_type": "stream",
     "text": [
      "[1, 2, 5, 10, 11, 12, 15, 18]\n"
     ]
    }
   ],
   "source": [
    "l = [1,11,2,5,12,10,15,18] \n",
    "n = len(l)\n",
    "for i in range(n-2,-1,-1): \n",
    "    is_swap = False\n",
    "    for j in range(i+1): \n",
    "        if l[j] > l[j+1]: \n",
    "            l[j], l[j+1] = l[j+1], l[j]\n",
    "            is_swap = True\n",
    "if is_swap == False:\n",
    "    print(l)"
   ]
  }
 ],
 "metadata": {
  "kernelspec": {
   "display_name": "Python [conda env:base] *",
   "language": "python",
   "name": "conda-base-py"
  },
  "language_info": {
   "codemirror_mode": {
    "name": "ipython",
    "version": 3
   },
   "file_extension": ".py",
   "mimetype": "text/x-python",
   "name": "python",
   "nbconvert_exporter": "python",
   "pygments_lexer": "ipython3",
   "version": "3.12.7"
  }
 },
 "nbformat": 4,
 "nbformat_minor": 5
}
