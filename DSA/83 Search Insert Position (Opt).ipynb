{
 "cells": [
  {
   "cell_type": "code",
   "execution_count": 3,
   "id": "2451f3eb-5514-45bf-9145-4e41661ffeab",
   "metadata": {},
   "outputs": [
    {
     "name": "stdout",
     "output_type": "stream",
     "text": [
      "11\n"
     ]
    }
   ],
   "source": [
    "def lower_bound(L,target):\n",
    "    n = len(L)\n",
    "    lb = n\n",
    "    low, high = 0, n-1\n",
    "    while low < high: \n",
    "        mid = (low + high) // 2\n",
    "        if L[mid] >= target: \n",
    "            lb = mid\n",
    "            high = mid - 1\n",
    "        else: \n",
    "            low = mid + 1\n",
    "    return lb\n",
    "\n",
    "L = [1,1,1,2,3,3,5,6,7,7,7,9,12,12,13]\n",
    "target = 8\n",
    "print(lower_bound(L,target))"
   ]
  }
 ],
 "metadata": {
  "kernelspec": {
   "display_name": "Python [conda env:base] *",
   "language": "python",
   "name": "conda-base-py"
  },
  "language_info": {
   "codemirror_mode": {
    "name": "ipython",
    "version": 3
   },
   "file_extension": ".py",
   "mimetype": "text/x-python",
   "name": "python",
   "nbconvert_exporter": "python",
   "pygments_lexer": "ipython3",
   "version": "3.12.7"
  }
 },
 "nbformat": 4,
 "nbformat_minor": 5
}
