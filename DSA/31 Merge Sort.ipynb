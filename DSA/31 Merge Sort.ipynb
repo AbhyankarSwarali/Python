{
 "cells": [
  {
   "cell_type": "code",
   "execution_count": 5,
   "id": "e55d6d33-70de-46c5-b034-e4f6d5f9c698",
   "metadata": {},
   "outputs": [
    {
     "name": "stdout",
     "output_type": "stream",
     "text": [
      "[1, 2, 3, 4, 5, 6, 7, 8, 9]\n"
     ]
    }
   ],
   "source": [
    "l = [3,1,2,4,7,5,6,9,8] \n",
    "def merge_array(left,right): \n",
    "    result = []\n",
    "    i,j = 0,0\n",
    "    n,m = len(left), len(right)\n",
    "    while i<n and j<m:\n",
    "        if left[i] <= right[j]: \n",
    "            result.append(left[i])\n",
    "            i += 1\n",
    "        else: \n",
    "            result.append(right[j])\n",
    "            j += 1\n",
    "    if i < n:\n",
    "        while i < n: \n",
    "            result.append(left[i])\n",
    "            i += 1\n",
    "    if j < m:\n",
    "        while j < m: \n",
    "            result.append(right[j])\n",
    "            j += 1\n",
    "\n",
    "    return result\n",
    "\n",
    "def merge_sort(arr): \n",
    "    if len(arr) <= 1: \n",
    "        return arr\n",
    "    mid = len(arr) // 2\n",
    "    left_arr = arr[:mid]\n",
    "    right_arr = arr[mid:]\n",
    "    left = merge_sort(left_arr)\n",
    "    right = merge_sort(right_arr)\n",
    "\n",
    "    return merge_array(left,right)\n",
    "\n",
    "Final = merge_sort(l)\n",
    "print(Final)"
   ]
  }
 ],
 "metadata": {
  "kernelspec": {
   "display_name": "Python [conda env:base] *",
   "language": "python",
   "name": "conda-base-py"
  },
  "language_info": {
   "codemirror_mode": {
    "name": "ipython",
    "version": 3
   },
   "file_extension": ".py",
   "mimetype": "text/x-python",
   "name": "python",
   "nbconvert_exporter": "python",
   "pygments_lexer": "ipython3",
   "version": "3.12.7"
  }
 },
 "nbformat": 4,
 "nbformat_minor": 5
}
