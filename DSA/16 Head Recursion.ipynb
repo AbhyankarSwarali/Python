{
 "cells": [
  {
   "cell_type": "code",
   "execution_count": 1,
   "id": "2c5c7f34-2c32-4291-88a4-5af40bbc6ace",
   "metadata": {},
   "outputs": [
    {
     "name": "stdout",
     "output_type": "stream",
     "text": [
      "6\n",
      "5\n",
      "4\n",
      "3\n",
      "2\n",
      "1\n",
      "0\n"
     ]
    }
   ],
   "source": [
    "def head_recursion(i, n):\n",
    "    if i > n:\n",
    "        return\n",
    "    head_recursion(i+1, n)\n",
    "    print(i)\n",
    "\n",
    "head_recursion(0,6)"
   ]
  }
 ],
 "metadata": {
  "kernelspec": {
   "display_name": "Python [conda env:base] *",
   "language": "python",
   "name": "conda-base-py"
  },
  "language_info": {
   "codemirror_mode": {
    "name": "ipython",
    "version": 3
   },
   "file_extension": ".py",
   "mimetype": "text/x-python",
   "name": "python",
   "nbconvert_exporter": "python",
   "pygments_lexer": "ipython3",
   "version": "3.12.7"
  }
 },
 "nbformat": 4,
 "nbformat_minor": 5
}
