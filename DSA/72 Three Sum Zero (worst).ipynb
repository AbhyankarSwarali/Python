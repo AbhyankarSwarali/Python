{
 "cells": [
  {
   "cell_type": "code",
   "execution_count": 2,
   "id": "b0a9d55f-e4a5-43ef-b150-a78040a050ad",
   "metadata": {},
   "outputs": [
    {
     "name": "stdout",
     "output_type": "stream",
     "text": [
      "[[-1, 0, 1], [-1, -1, 2]]\n"
     ]
    }
   ],
   "source": [
    "a = [-1,0,1,2,-1,-4]\n",
    "n = len(a)\n",
    "s = set()\n",
    "for i in range(n):\n",
    "    for j in range(i+1,n): \n",
    "        for k in range(j+1,n): \n",
    "            if a[i]+a[j]+a[k] == 0: \n",
    "                temp = [a[i],a[j],a[k]]\n",
    "                temp.sort()\n",
    "                s.add(tuple(temp))\n",
    "final = [list(res) for res in s] \n",
    "print(final)"
   ]
  }
 ],
 "metadata": {
  "kernelspec": {
   "display_name": "Python [conda env:base] *",
   "language": "python",
   "name": "conda-base-py"
  },
  "language_info": {
   "codemirror_mode": {
    "name": "ipython",
    "version": 3
   },
   "file_extension": ".py",
   "mimetype": "text/x-python",
   "name": "python",
   "nbconvert_exporter": "python",
   "pygments_lexer": "ipython3",
   "version": "3.12.7"
  }
 },
 "nbformat": 4,
 "nbformat_minor": 5
}
