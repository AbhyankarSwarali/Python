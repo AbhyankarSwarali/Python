{
 "cells": [
  {
   "cell_type": "code",
   "execution_count": 1,
   "id": "adaa4223-7c56-440d-98ae-d9ecb9a5d3f6",
   "metadata": {},
   "outputs": [
    {
     "name": "stdout",
     "output_type": "stream",
     "text": [
      "[[7, 0, 0, 3], [0, 0, 0, 0], [0, 0, 0, 0], [4, 0, 0, 7]]\n"
     ]
    }
   ],
   "source": [
    "matrix = [[7,9,2,3],[20,8,0,10],[29,0,-10,5],[4,14,6,7]]\n",
    "r = len(matrix)\n",
    "c = len(matrix[0])\n",
    "row_track = [0 for _ in range(r)]\n",
    "col_track = [0 for _ in range(c)]\n",
    "for i in range(r): \n",
    "    for j in range(c): \n",
    "        if matrix[i][j] == 0: \n",
    "            row_track[i] = -1\n",
    "            col_track[j] = -1\n",
    "for i in range(r): \n",
    "    for j in range(c): \n",
    "        if row_track[i] == -1 or col_track[j] == -1: \n",
    "            matrix[i][j] = 0\n",
    "print(matrix)"
   ]
  }
 ],
 "metadata": {
  "kernelspec": {
   "display_name": "Python [conda env:base] *",
   "language": "python",
   "name": "conda-base-py"
  },
  "language_info": {
   "codemirror_mode": {
    "name": "ipython",
    "version": 3
   },
   "file_extension": ".py",
   "mimetype": "text/x-python",
   "name": "python",
   "nbconvert_exporter": "python",
   "pygments_lexer": "ipython3",
   "version": "3.12.7"
  }
 },
 "nbformat": 4,
 "nbformat_minor": 5
}
