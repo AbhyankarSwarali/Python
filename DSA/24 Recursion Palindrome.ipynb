{
 "cells": [
  {
   "cell_type": "code",
   "execution_count": 4,
   "id": "076ceb16-4663-4e3b-8516-a824fbe5a15c",
   "metadata": {},
   "outputs": [
    {
     "name": "stdout",
     "output_type": "stream",
     "text": [
      "False\n"
     ]
    }
   ],
   "source": [
    "def rec_pali(s,left,right): \n",
    "    if left >= right: \n",
    "        return\n",
    "    if s[left] == s[right]: \n",
    "        rec_pali(s, left+1, right-1)\n",
    "        return True\n",
    "    else: \n",
    "        return False\n",
    "\n",
    "s = 'python'\n",
    "res = rec_pali(s, 0, len(s)-1)\n",
    "print(res)"
   ]
  }
 ],
 "metadata": {
  "kernelspec": {
   "display_name": "Python [conda env:base] *",
   "language": "python",
   "name": "conda-base-py"
  },
  "language_info": {
   "codemirror_mode": {
    "name": "ipython",
    "version": 3
   },
   "file_extension": ".py",
   "mimetype": "text/x-python",
   "name": "python",
   "nbconvert_exporter": "python",
   "pygments_lexer": "ipython3",
   "version": "3.12.7"
  }
 },
 "nbformat": 4,
 "nbformat_minor": 5
}
