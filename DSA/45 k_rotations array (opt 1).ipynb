{
 "cells": [
  {
   "cell_type": "code",
   "execution_count": 1,
   "id": "893ddf36-165b-448c-86e1-ffd6ee31ffde",
   "metadata": {},
   "outputs": [
    {
     "name": "stdout",
     "output_type": "stream",
     "text": [
      "[6, 7, 8, 3, 9, 5]\n"
     ]
    }
   ],
   "source": [
    "l = [3,9,5,6,7,8]\n",
    "k = 3\n",
    "n = len(l)\n",
    "l[:] = l[n-k:] + l[:n-k]\n",
    "print(l)"
   ]
  }
 ],
 "metadata": {
  "kernelspec": {
   "display_name": "Python [conda env:base] *",
   "language": "python",
   "name": "conda-base-py"
  },
  "language_info": {
   "codemirror_mode": {
    "name": "ipython",
    "version": 3
   },
   "file_extension": ".py",
   "mimetype": "text/x-python",
   "name": "python",
   "nbconvert_exporter": "python",
   "pygments_lexer": "ipython3",
   "version": "3.12.7"
  }
 },
 "nbformat": 4,
 "nbformat_minor": 5
}
