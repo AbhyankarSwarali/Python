{
 "cells": [
  {
   "cell_type": "code",
   "execution_count": 1,
   "id": "04b014f7-2449-495d-bc00-9ed9e221f1fe",
   "metadata": {},
   "outputs": [
    {
     "name": "stdout",
     "output_type": "stream",
     "text": [
      "[1, 2, 4, 3, 3, 5, 1, 0, 0, 0, 0]\n"
     ]
    }
   ],
   "source": [
    "lis = [1,0,2,4,3,0,0,0,3,5,1]\n",
    "n1 = len(lis)\n",
    "temp = []\n",
    "for i in range(n1):\n",
    "    if lis[i] != 0: \n",
    "        temp.append(lis[i])\n",
    "n2 = len(temp)\n",
    "for j in range(n2):\n",
    "    lis[j] = temp[j]\n",
    "for k in range(n2,n1): \n",
    "    lis[k] = 0\n",
    "print(lis)"
   ]
  }
 ],
 "metadata": {
  "kernelspec": {
   "display_name": "Python [conda env:base] *",
   "language": "python",
   "name": "conda-base-py"
  },
  "language_info": {
   "codemirror_mode": {
    "name": "ipython",
    "version": 3
   },
   "file_extension": ".py",
   "mimetype": "text/x-python",
   "name": "python",
   "nbconvert_exporter": "python",
   "pygments_lexer": "ipython3",
   "version": "3.12.7"
  }
 },
 "nbformat": 4,
 "nbformat_minor": 5
}
