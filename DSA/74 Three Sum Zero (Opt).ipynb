{
 "cells": [
  {
   "cell_type": "code",
   "execution_count": 2,
   "id": "cda5aa10-4549-447c-87e0-2e8cbdfc00e4",
   "metadata": {},
   "outputs": [
    {
     "name": "stdout",
     "output_type": "stream",
     "text": [
      "[[-4, -1, 2], [-4, 0, 1], [-1, -1, 2], [-1, 0, 1], [0, 1, 2]]\n"
     ]
    }
   ],
   "source": [
    "from typing import List\n",
    "\n",
    "class Solution:\n",
    "    def zero_sum(self, a:List[int]) -> List[List[int]]: \n",
    "        ans = []\n",
    "        n = len(a)\n",
    "        a.sort()\n",
    "        for i in range(n): \n",
    "            if i != 0 and a[i] == a[i-1]: \n",
    "                continue\n",
    "            j = i+1\n",
    "            k = n-1\n",
    "            while j < k:\n",
    "                total_sum = a[j] + a[j] + a[k]\n",
    "                if total_sum < 0: \n",
    "                    k -= 1\n",
    "                else: \n",
    "                    temp = [a[i], a[j], a[k]]\n",
    "                    ans.append(temp)\n",
    "                    j += 1\n",
    "                    k -= 1\n",
    "                    while j < k and a[j] == a[j-1]: \n",
    "                        j += 1\n",
    "                    while j < k and a[k] == a[k+1]: \n",
    "                        k -= 1\n",
    "        return ans\n",
    "\n",
    "a = [-1,0,1,2,-1,-4]\n",
    "print(Solution().zero_sum(a))"
   ]
  }
 ],
 "metadata": {
  "kernelspec": {
   "display_name": "Python [conda env:base] *",
   "language": "python",
   "name": "conda-base-py"
  },
  "language_info": {
   "codemirror_mode": {
    "name": "ipython",
    "version": 3
   },
   "file_extension": ".py",
   "mimetype": "text/x-python",
   "name": "python",
   "nbconvert_exporter": "python",
   "pygments_lexer": "ipython3",
   "version": "3.12.7"
  }
 },
 "nbformat": 4,
 "nbformat_minor": 5
}
