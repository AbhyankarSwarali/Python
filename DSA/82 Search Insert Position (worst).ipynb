{
 "cells": [
  {
   "cell_type": "code",
   "execution_count": 1,
   "id": "9d9bce9e-6e1b-43e3-95a5-19c3a12f9014",
   "metadata": {},
   "outputs": [
    {
     "name": "stdout",
     "output_type": "stream",
     "text": [
      "11\n"
     ]
    }
   ],
   "source": [
    "def search_insert_pos(l,target): \n",
    "    n = len(l)\n",
    "    lb, ub = 0, n-1\n",
    "    for i in range(n): \n",
    "        if l[i] > target: \n",
    "            return i\n",
    "        else: \n",
    "            return n\n",
    "l = [1,3,4,5,8,9,14,15,19,20,21]\n",
    "target = 16\n",
    "print(search_insert_pos(l,target))"
   ]
  }
 ],
 "metadata": {
  "kernelspec": {
   "display_name": "Python [conda env:base] *",
   "language": "python",
   "name": "conda-base-py"
  },
  "language_info": {
   "codemirror_mode": {
    "name": "ipython",
    "version": 3
   },
   "file_extension": ".py",
   "mimetype": "text/x-python",
   "name": "python",
   "nbconvert_exporter": "python",
   "pygments_lexer": "ipython3",
   "version": "3.12.7"
  }
 },
 "nbformat": 4,
 "nbformat_minor": 5
}
