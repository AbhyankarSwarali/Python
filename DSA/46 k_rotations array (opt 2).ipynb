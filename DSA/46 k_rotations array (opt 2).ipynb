{
 "cells": [
  {
   "cell_type": "code",
   "execution_count": 1,
   "id": "97580a4d-d008-4b38-add2-71c0c72a51a7",
   "metadata": {},
   "outputs": [
    {
     "name": "stdout",
     "output_type": "stream",
     "text": [
      "[6, 7, 8, 3, 9, 5]\n"
     ]
    }
   ],
   "source": [
    "l = [3,9,5,6,7,8]\n",
    "k = 3\n",
    "n = len(l)\n",
    "def k_rot(l,left,right): \n",
    "    while left < right: \n",
    "        l[left], l[right] = l[right], l[left]\n",
    "        left += 1\n",
    "        right -= 1\n",
    "    return l\n",
    "\n",
    "k_rot(l, n-k, n-1)\n",
    "k_rot(l, 0, n-k-1)\n",
    "print(k_rot(l, 0, n-1))"
   ]
  }
 ],
 "metadata": {
  "kernelspec": {
   "display_name": "Python [conda env:base] *",
   "language": "python",
   "name": "conda-base-py"
  },
  "language_info": {
   "codemirror_mode": {
    "name": "ipython",
    "version": 3
   },
   "file_extension": ".py",
   "mimetype": "text/x-python",
   "name": "python",
   "nbconvert_exporter": "python",
   "pygments_lexer": "ipython3",
   "version": "3.12.7"
  }
 },
 "nbformat": 4,
 "nbformat_minor": 5
}
