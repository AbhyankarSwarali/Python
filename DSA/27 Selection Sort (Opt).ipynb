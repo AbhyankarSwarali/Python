{
 "cells": [
  {
   "cell_type": "code",
   "execution_count": 1,
   "id": "9f319634-926b-46c0-9ff1-e16231422d09",
   "metadata": {},
   "outputs": [
    {
     "data": {
      "text/plain": [
       "[1, 2, 4, 5, 6, 7, 8, 9]"
      ]
     },
     "execution_count": 1,
     "metadata": {},
     "output_type": "execute_result"
    }
   ],
   "source": [
    "l = [5,7,8,4,1,6,9,2]\n",
    "def asc_sort(l): \n",
    "    n = len(l)\n",
    "    for i in range(n): \n",
    "        idx = i\n",
    "        for j in range(i+1, n):\n",
    "            if l[j] < l[idx]: \n",
    "                idx = j\n",
    "        l[i], l[idx] = l[idx], l[i]\n",
    "    return l\n",
    "\n",
    "asc_sort(l)"
   ]
  }
 ],
 "metadata": {
  "kernelspec": {
   "display_name": "Python [conda env:base] *",
   "language": "python",
   "name": "conda-base-py"
  },
  "language_info": {
   "codemirror_mode": {
    "name": "ipython",
    "version": 3
   },
   "file_extension": ".py",
   "mimetype": "text/x-python",
   "name": "python",
   "nbconvert_exporter": "python",
   "pygments_lexer": "ipython3",
   "version": "3.12.7"
  }
 },
 "nbformat": 4,
 "nbformat_minor": 5
}
