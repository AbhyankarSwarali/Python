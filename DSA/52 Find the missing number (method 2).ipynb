{
 "cells": [
  {
   "cell_type": "code",
   "execution_count": 1,
   "id": "159446df-207e-4b8b-b270-3979a955c7e8",
   "metadata": {},
   "outputs": [
    {
     "name": "stdout",
     "output_type": "stream",
     "text": [
      "8\n"
     ]
    }
   ],
   "source": [
    "l = [9,6,4,2,3,5,7,0,1]\n",
    "n = len(l)\n",
    "d = {}\n",
    "for i in range(n+1): \n",
    "    d[i] = 0\n",
    "for j in l: \n",
    "    d[j] = 1\n",
    "for k,v in d.items(): \n",
    "    if v == 0: \n",
    "        print(k)"
   ]
  }
 ],
 "metadata": {
  "kernelspec": {
   "display_name": "Python [conda env:base] *",
   "language": "python",
   "name": "conda-base-py"
  },
  "language_info": {
   "codemirror_mode": {
    "name": "ipython",
    "version": 3
   },
   "file_extension": ".py",
   "mimetype": "text/x-python",
   "name": "python",
   "nbconvert_exporter": "python",
   "pygments_lexer": "ipython3",
   "version": "3.12.7"
  }
 },
 "nbformat": 4,
 "nbformat_minor": 5
}
