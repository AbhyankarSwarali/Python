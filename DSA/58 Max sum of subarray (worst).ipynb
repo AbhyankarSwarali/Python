{
 "cells": [
  {
   "cell_type": "code",
   "execution_count": 2,
   "id": "d5d654fb-b21f-4d8d-9775-e0e063f10f47",
   "metadata": {},
   "outputs": [
    {
     "name": "stdout",
     "output_type": "stream",
     "text": [
      "6\n"
     ]
    }
   ],
   "source": [
    "l = [-2,1,-3,4,-1,2,1,-5,4]\n",
    "n = len(l)\n",
    "maxi = float('-inf')\n",
    "for i in range(n): \n",
    "    total = 0\n",
    "    for j in range(i,n): \n",
    "        total += l[j]\n",
    "        maxi = max(maxi,total)\n",
    "print(maxi)"
   ]
  }
 ],
 "metadata": {
  "kernelspec": {
   "display_name": "Python [conda env:base] *",
   "language": "python",
   "name": "conda-base-py"
  },
  "language_info": {
   "codemirror_mode": {
    "name": "ipython",
    "version": 3
   },
   "file_extension": ".py",
   "mimetype": "text/x-python",
   "name": "python",
   "nbconvert_exporter": "python",
   "pygments_lexer": "ipython3",
   "version": "3.12.7"
  }
 },
 "nbformat": 4,
 "nbformat_minor": 5
}
