{
 "cells": [
  {
   "cell_type": "code",
   "execution_count": 4,
   "id": "ff2bc561-2b3f-459e-bce4-c33016264f6f",
   "metadata": {},
   "outputs": [
    {
     "name": "stdout",
     "output_type": "stream",
     "text": [
      "0\n",
      "5\n",
      "2\n",
      "1\n"
     ]
    }
   ],
   "source": [
    "s = 'azyvyzaaaa'\n",
    "q = ['d', 'a', 'y', 'v']\n",
    "hash_list = [0] * 26\n",
    "for char in s:\n",
    "    hash_list[ord(char) - 97] += 1\n",
    "for ch in q: \n",
    "    print(hash_list[ord(ch) - 97])"
   ]
  }
 ],
 "metadata": {
  "kernelspec": {
   "display_name": "Python [conda env:base] *",
   "language": "python",
   "name": "conda-base-py"
  },
  "language_info": {
   "codemirror_mode": {
    "name": "ipython",
    "version": 3
   },
   "file_extension": ".py",
   "mimetype": "text/x-python",
   "name": "python",
   "nbconvert_exporter": "python",
   "pygments_lexer": "ipython3",
   "version": "3.12.7"
  }
 },
 "nbformat": 4,
 "nbformat_minor": 5
}
