{
 "cells": [
  {
   "cell_type": "code",
   "execution_count": 3,
   "id": "1ef79d9e-ec83-4b78-a953-7a91e6e87e8f",
   "metadata": {},
   "outputs": [
    {
     "name": "stdout",
     "output_type": "stream",
     "text": [
      "88\n"
     ]
    }
   ],
   "source": [
    "def sec_lar(nums): \n",
    "    res = sorted(nums)\n",
    "    return res[-2]\n",
    "\n",
    "nums = [55,32,97,-55,45,32,88,21]\n",
    "print(sec_lar(nums))"
   ]
  }
 ],
 "metadata": {
  "kernelspec": {
   "display_name": "Python [conda env:base] *",
   "language": "python",
   "name": "conda-base-py"
  },
  "language_info": {
   "codemirror_mode": {
    "name": "ipython",
    "version": 3
   },
   "file_extension": ".py",
   "mimetype": "text/x-python",
   "name": "python",
   "nbconvert_exporter": "python",
   "pygments_lexer": "ipython3",
   "version": "3.12.7"
  }
 },
 "nbformat": 4,
 "nbformat_minor": 5
}
