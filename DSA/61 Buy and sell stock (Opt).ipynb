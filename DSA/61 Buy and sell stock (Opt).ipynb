{
 "cells": [
  {
   "cell_type": "code",
   "execution_count": 2,
   "id": "4100fdd4-3b32-4709-b54e-a09bbac00184",
   "metadata": {},
   "outputs": [
    {
     "name": "stdout",
     "output_type": "stream",
     "text": [
      "7\n"
     ]
    }
   ],
   "source": [
    "price = [7,2,1,5,6,4,8]\n",
    "n = len(price)\n",
    "profit = 0\n",
    "min_price = float('inf')\n",
    "for i in range(n): \n",
    "    min_price = min(min_price,price[i])\n",
    "    profit = max(profit,price[i] - min_price)\n",
    "print(profit)"
   ]
  }
 ],
 "metadata": {
  "kernelspec": {
   "display_name": "Python [conda env:base] *",
   "language": "python",
   "name": "conda-base-py"
  },
  "language_info": {
   "codemirror_mode": {
    "name": "ipython",
    "version": 3
   },
   "file_extension": ".py",
   "mimetype": "text/x-python",
   "name": "python",
   "nbconvert_exporter": "python",
   "pygments_lexer": "ipython3",
   "version": "3.12.7"
  }
 },
 "nbformat": 4,
 "nbformat_minor": 5
}
