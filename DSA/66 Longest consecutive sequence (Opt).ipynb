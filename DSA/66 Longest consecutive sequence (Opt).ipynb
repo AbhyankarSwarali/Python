{
 "cells": [
  {
   "cell_type": "code",
   "execution_count": 1,
   "id": "7180905e-5218-4759-826e-37b0e988c65e",
   "metadata": {},
   "outputs": [
    {
     "name": "stdout",
     "output_type": "stream",
     "text": [
      "4\n"
     ]
    }
   ],
   "source": [
    "l = [1,99,101,98,2,5,3,100,1,1]\n",
    "s = set()\n",
    "n = len(l)\n",
    "for i in range(n): \n",
    "    s.add(l[i])\n",
    "longest = 0\n",
    "for num in s: \n",
    "    if num-1 not in s:\n",
    "        x = num\n",
    "        count = 1\n",
    "        while x+1 in s: \n",
    "            count += 1\n",
    "            x += 1\n",
    "        longest = max(longest,count)\n",
    "print(longest)"
   ]
  }
 ],
 "metadata": {
  "kernelspec": {
   "display_name": "Python [conda env:base] *",
   "language": "python",
   "name": "conda-base-py"
  },
  "language_info": {
   "codemirror_mode": {
    "name": "ipython",
    "version": 3
   },
   "file_extension": ".py",
   "mimetype": "text/x-python",
   "name": "python",
   "nbconvert_exporter": "python",
   "pygments_lexer": "ipython3",
   "version": "3.12.7"
  }
 },
 "nbformat": 4,
 "nbformat_minor": 5
}
