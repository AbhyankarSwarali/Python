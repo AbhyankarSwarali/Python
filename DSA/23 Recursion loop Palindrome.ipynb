{
 "cells": [
  {
   "cell_type": "code",
   "execution_count": 9,
   "id": "4fd2a8eb-7958-41f6-b280-dd44f9f8b240",
   "metadata": {},
   "outputs": [
    {
     "name": "stdout",
     "output_type": "stream",
     "text": [
      "True\n"
     ]
    }
   ],
   "source": [
    "s = 'nitin'\n",
    "n = len(s)\n",
    "right = n - 1\n",
    "left = 0\n",
    "while left < right:\n",
    "    if s[left] != s[right]:\n",
    "        print(False)\n",
    "        break\n",
    "    left += 1\n",
    "    right -= 1\n",
    "else:\n",
    "    print(True)\n"
   ]
  }
 ],
 "metadata": {
  "kernelspec": {
   "display_name": "Python [conda env:base] *",
   "language": "python",
   "name": "conda-base-py"
  },
  "language_info": {
   "codemirror_mode": {
    "name": "ipython",
    "version": 3
   },
   "file_extension": ".py",
   "mimetype": "text/x-python",
   "name": "python",
   "nbconvert_exporter": "python",
   "pygments_lexer": "ipython3",
   "version": "3.12.7"
  }
 },
 "nbformat": 4,
 "nbformat_minor": 5
}
