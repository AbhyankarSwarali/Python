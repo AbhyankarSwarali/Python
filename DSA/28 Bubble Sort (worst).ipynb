{
 "cells": [
  {
   "cell_type": "code",
   "execution_count": 1,
   "id": "4a2574b8-5241-4b71-b859-521133e4b9e2",
   "metadata": {},
   "outputs": [
    {
     "name": "stdout",
     "output_type": "stream",
     "text": [
      "[1, 2, 4, 5, 6, 8, 9]\n"
     ]
    }
   ],
   "source": [
    "L = [5,8,1,6,9,2,4]\n",
    "n = len(L)\n",
    "for i in range(n-2,-1,-1): \n",
    "    for j in range(i+1): \n",
    "        if L[j] > L[j+1]: \n",
    "            L[j], L[j+1] = L[j+1], L[j]\n",
    "print(L)"
   ]
  }
 ],
 "metadata": {
  "kernelspec": {
   "display_name": "Python [conda env:base] *",
   "language": "python",
   "name": "conda-base-py"
  },
  "language_info": {
   "codemirror_mode": {
    "name": "ipython",
    "version": 3
   },
   "file_extension": ".py",
   "mimetype": "text/x-python",
   "name": "python",
   "nbconvert_exporter": "python",
   "pygments_lexer": "ipython3",
   "version": "3.12.7"
  }
 },
 "nbformat": 4,
 "nbformat_minor": 5
}
