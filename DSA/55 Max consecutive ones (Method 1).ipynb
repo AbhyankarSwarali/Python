{
 "cells": [
  {
   "cell_type": "code",
   "execution_count": 2,
   "id": "74e7a487-21b6-401b-871c-2016364ac2d8",
   "metadata": {},
   "outputs": [
    {
     "name": "stdout",
     "output_type": "stream",
     "text": [
      "4\n"
     ]
    }
   ],
   "source": [
    "l = [1,1,0,1,0,1,1,1,1,0,1,1]\n",
    "count= 0 \n",
    "max_count = 0\n",
    "for i in range(len(l)): \n",
    "    if l[i] == 1:\n",
    "        count += 1\n",
    "    else: \n",
    "        max_count = max(max_count, count)\n",
    "        count = 0\n",
    "print(max(max_count,count))"
   ]
  }
 ],
 "metadata": {
  "kernelspec": {
   "display_name": "Python [conda env:base] *",
   "language": "python",
   "name": "conda-base-py"
  },
  "language_info": {
   "codemirror_mode": {
    "name": "ipython",
    "version": 3
   },
   "file_extension": ".py",
   "mimetype": "text/x-python",
   "name": "python",
   "nbconvert_exporter": "python",
   "pygments_lexer": "ipython3",
   "version": "3.12.7"
  }
 },
 "nbformat": 4,
 "nbformat_minor": 5
}
