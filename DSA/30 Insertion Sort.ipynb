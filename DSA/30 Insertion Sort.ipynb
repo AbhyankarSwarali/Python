{
 "cells": [
  {
   "cell_type": "code",
   "execution_count": 1,
   "id": "037a2bc8-dc05-4be2-966c-38058586c06f",
   "metadata": {},
   "outputs": [
    {
     "name": "stdout",
     "output_type": "stream",
     "text": [
      "[1, 3, 4, 5, 6, 8, 9, 10]\n"
     ]
    }
   ],
   "source": [
    "l = [3,5,6,4,8,9,10,1] \n",
    "n = len(l) \n",
    "for i in range(1,n): \n",
    "    key = l[i]\n",
    "    j = i-1\n",
    "    while j >= 0 and l[j] > key: \n",
    "        l[j+1] = l[j]\n",
    "        j -= 1\n",
    "    l[j+1] = key\n",
    "print(l)"
   ]
  }
 ],
 "metadata": {
  "kernelspec": {
   "display_name": "Python [conda env:base] *",
   "language": "python",
   "name": "conda-base-py"
  },
  "language_info": {
   "codemirror_mode": {
    "name": "ipython",
    "version": 3
   },
   "file_extension": ".py",
   "mimetype": "text/x-python",
   "name": "python",
   "nbconvert_exporter": "python",
   "pygments_lexer": "ipython3",
   "version": "3.12.7"
  }
 },
 "nbformat": 4,
 "nbformat_minor": 5
}
