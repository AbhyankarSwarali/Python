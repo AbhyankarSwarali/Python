{
 "cells": [
  {
   "cell_type": "code",
   "execution_count": 1,
   "id": "aac6bcfb-10de-4fe3-8d18-6d2778eaf23a",
   "metadata": {},
   "outputs": [
    {
     "name": "stdout",
     "output_type": "stream",
     "text": [
      "21\n"
     ]
    }
   ],
   "source": [
    "def fibo(n): \n",
    "    if n==0 or n==1: \n",
    "        return n\n",
    "    return fibo(n-1) + fibo(n-2)\n",
    "\n",
    "result = fibo(8)\n",
    "print(result)"
   ]
  }
 ],
 "metadata": {
  "kernelspec": {
   "display_name": "Python [conda env:base] *",
   "language": "python",
   "name": "conda-base-py"
  },
  "language_info": {
   "codemirror_mode": {
    "name": "ipython",
    "version": 3
   },
   "file_extension": ".py",
   "mimetype": "text/x-python",
   "name": "python",
   "nbconvert_exporter": "python",
   "pygments_lexer": "ipython3",
   "version": "3.12.7"
  }
 },
 "nbformat": 4,
 "nbformat_minor": 5
}
