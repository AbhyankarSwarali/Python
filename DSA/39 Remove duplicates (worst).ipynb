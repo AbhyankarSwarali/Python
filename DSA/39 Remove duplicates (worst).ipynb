{
 "cells": [
  {
   "cell_type": "code",
   "execution_count": 3,
   "id": "e6d48e86-0029-4507-b6d1-c315a192ae8e",
   "metadata": {},
   "outputs": [
    {
     "name": "stdout",
     "output_type": "stream",
     "text": [
      "Number of unique elements: 7\n"
     ]
    }
   ],
   "source": [
    "def dupl(lis): \n",
    "    n = len(lis)\n",
    "    d = {}\n",
    "    for i in range(n): \n",
    "        d[lis[i]] = 0\n",
    "    j = 0\n",
    "    for k in d: \n",
    "        lis[j] = k\n",
    "        j += 1\n",
    "    return j\n",
    "\n",
    "lis = [1,1,1,2,3,4,4,7,9,9,9,10]\n",
    "print('Number of unique elements:', dupl(lis))"
   ]
  }
 ],
 "metadata": {
  "kernelspec": {
   "display_name": "Python [conda env:base] *",
   "language": "python",
   "name": "conda-base-py"
  },
  "language_info": {
   "codemirror_mode": {
    "name": "ipython",
    "version": 3
   },
   "file_extension": ".py",
   "mimetype": "text/x-python",
   "name": "python",
   "nbconvert_exporter": "python",
   "pygments_lexer": "ipython3",
   "version": "3.12.7"
  }
 },
 "nbformat": 4,
 "nbformat_minor": 5
}
