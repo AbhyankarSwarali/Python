{
 "cells": [
  {
   "cell_type": "code",
   "execution_count": 3,
   "id": "808c3155-b7c2-4b9a-8a68-19af641d189f",
   "metadata": {},
   "outputs": [
    {
     "name": "stdout",
     "output_type": "stream",
     "text": [
      "88\n"
     ]
    }
   ],
   "source": [
    "def sec_lar(nums): \n",
    "    largest = float('-inf')\n",
    "    second_largest = float('-inf')\n",
    "    n = len(nums)\n",
    "    for i in range(n): \n",
    "        largest = max(largest, nums[i])\n",
    "    for j in range(n): \n",
    "        if nums[j] > second_largest and nums[j] != largest: \n",
    "            second_largest = nums[j]\n",
    "    return second_largest\n",
    "\n",
    "nums = [55,32,97,-55,45,32,88,21]\n",
    "print(sec_lar(nums))"
   ]
  }
 ],
 "metadata": {
  "kernelspec": {
   "display_name": "Python [conda env:base] *",
   "language": "python",
   "name": "conda-base-py"
  },
  "language_info": {
   "codemirror_mode": {
    "name": "ipython",
    "version": 3
   },
   "file_extension": ".py",
   "mimetype": "text/x-python",
   "name": "python",
   "nbconvert_exporter": "python",
   "pygments_lexer": "ipython3",
   "version": "3.12.7"
  }
 },
 "nbformat": 4,
 "nbformat_minor": 5
}
