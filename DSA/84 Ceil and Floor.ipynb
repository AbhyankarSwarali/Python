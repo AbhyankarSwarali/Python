{
 "cells": [
  {
   "cell_type": "code",
   "execution_count": 1,
   "id": "810f9c61-6157-4e11-b97f-12173877a38e",
   "metadata": {},
   "outputs": [
    {
     "name": "stdout",
     "output_type": "stream",
     "text": [
      "[4, 8]\n"
     ]
    }
   ],
   "source": [
    "def floor_ceil(l,target):\n",
    "    n = len(l)\n",
    "    floor = -1\n",
    "    ceil = -1\n",
    "    low, high = 0, n-1\n",
    "    while low <= high:\n",
    "        mid = (low + high) // 2\n",
    "        if l[mid] == target:\n",
    "            return [l[mid],l[mid]]\n",
    "        elif l[mid] > target:\n",
    "            ceil = l[mid]\n",
    "            high = mid - 1\n",
    "        else:\n",
    "            floor = l[mid]\n",
    "            low = mid + 1\n",
    "    return [floor,ceil]\n",
    "\n",
    "l = [3,4,4,4,8,9,9,10,12,12,14,15]\n",
    "target = 6\n",
    "print(floor_ceil(l,target))"
   ]
  }
 ],
 "metadata": {
  "kernelspec": {
   "display_name": "Python 3 (ipykernel)",
   "language": "python",
   "name": "python3"
  },
  "language_info": {
   "codemirror_mode": {
    "name": "ipython",
    "version": 3
   },
   "file_extension": ".py",
   "mimetype": "text/x-python",
   "name": "python",
   "nbconvert_exporter": "python",
   "pygments_lexer": "ipython3",
   "version": "3.12.7"
  }
 },
 "nbformat": 4,
 "nbformat_minor": 5
}
