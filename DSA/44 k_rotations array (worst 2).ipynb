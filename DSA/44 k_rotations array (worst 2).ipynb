{
 "cells": [
  {
   "cell_type": "code",
   "execution_count": 1,
   "id": "ce98cc74-2070-4021-a78c-42809f108bc9",
   "metadata": {},
   "outputs": [
    {
     "name": "stdout",
     "output_type": "stream",
     "text": [
      "[6, 7, 8, 3, 9, 5]\n"
     ]
    }
   ],
   "source": [
    "l = [3,9,5,6,7,8]\n",
    "k = 3\n",
    "def k_rot(l): \n",
    "    n = len(l)\n",
    "    rotate = k % n\n",
    "    for i in range(rotate): \n",
    "        e = l.pop()\n",
    "        l.insert(0,e)\n",
    "    print(l)\n",
    "\n",
    "k_rot(l)"
   ]
  }
 ],
 "metadata": {
  "kernelspec": {
   "display_name": "Python [conda env:base] *",
   "language": "python",
   "name": "conda-base-py"
  },
  "language_info": {
   "codemirror_mode": {
    "name": "ipython",
    "version": 3
   },
   "file_extension": ".py",
   "mimetype": "text/x-python",
   "name": "python",
   "nbconvert_exporter": "python",
   "pygments_lexer": "ipython3",
   "version": "3.12.7"
  }
 },
 "nbformat": 4,
 "nbformat_minor": 5
}
