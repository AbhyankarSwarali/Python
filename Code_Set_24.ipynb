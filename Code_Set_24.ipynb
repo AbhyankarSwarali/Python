{
 "cells": [
  {
   "cell_type": "code",
   "execution_count": 2,
   "id": "e9b5129e-40bd-41d1-9c30-998aaf04ae87",
   "metadata": {},
   "outputs": [
    {
     "name": "stdout",
     "output_type": "stream",
     "text": [
      "My name is Tony. I am a/an Python Developer\n",
      "My name is Tony. I am a/an Python Developer\n"
     ]
    }
   ],
   "source": [
    "# 108. Positional only Message \n",
    "def message(name, profession, /):\n",
    "    print(f'My name is {name}. I am a/an {profession}')\n",
    "    print(\"My name is \" + name + \". I am a/an \" + profession)\n",
    "\n",
    "message(\"Tony\", 'Python Developer')"
   ]
  },
  {
   "cell_type": "code",
   "execution_count": 5,
   "id": "4b189780-611f-4f5f-8e44-ba66e99c7ef7",
   "metadata": {},
   "outputs": [
    {
     "name": "stdin",
     "output_type": "stream",
     "text": [
      "Enter planet id: 5\n"
     ]
    },
    {
     "name": "stdout",
     "output_type": "stream",
     "text": [
      "Planet: Jupiter\n"
     ]
    }
   ],
   "source": [
    "# 109. Planet names and ID\n",
    "def planet(id): \n",
    "    Planet = {1:'Mercury', 2:'Venus', 3:'Earth',\n",
    "              4:'Mars', 5:'Jupiter', 6:'Saturn',\n",
    "              7:'Uranus', 8:'Neptune', 9:'Pluto'}\n",
    "    return Planet[id]\n",
    "\n",
    "ids = int(input(\"Enter planet id:\"))\n",
    "p = planet(ids)\n",
    "print(\"Planet:\", p)"
   ]
  },
  {
   "cell_type": "code",
   "execution_count": 6,
   "id": "e4ab6cc1-cbfe-476f-86a3-eab080c08351",
   "metadata": {},
   "outputs": [
    {
     "name": "stdout",
     "output_type": "stream",
     "text": [
      "Before: {'a': 10, 'b': 20, 'c': 30, 'd': 40, 'e': 50}\n",
      "After: {10: 'a', 20: 'b', 30: 'c', 40: 'd', 50: 'e'}\n"
     ]
    }
   ],
   "source": [
    "# 110. Inverting dictionary\n",
    "def invert(d): \n",
    "    D = {}\n",
    "\n",
    "    for key, value in d.items(): \n",
    "        D[value] = key\n",
    "\n",
    "    return D\n",
    "\n",
    "d1 = {'a':10, 'b':20, 'c':30, 'd':40, 'e':50}\n",
    "d2 = invert(d1)\n",
    "print(\"Before:\", d1)\n",
    "print('After:', d2)"
   ]
  }
 ],
 "metadata": {
  "kernelspec": {
   "display_name": "Python [conda env:base] *",
   "language": "python",
   "name": "conda-base-py"
  },
  "language_info": {
   "codemirror_mode": {
    "name": "ipython",
    "version": 3
   },
   "file_extension": ".py",
   "mimetype": "text/x-python",
   "name": "python",
   "nbconvert_exporter": "python",
   "pygments_lexer": "ipython3",
   "version": "3.12.7"
  }
 },
 "nbformat": 4,
 "nbformat_minor": 5
}
