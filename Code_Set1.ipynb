{
 "cells": [
  {
   "cell_type": "code",
   "execution_count": 2,
   "id": "133d537a-74b4-45f1-a3b8-559ff45d56da",
   "metadata": {},
   "outputs": [
    {
     "name": "stdin",
     "output_type": "stream",
     "text": [
      "Enter number of rolls: 2\n",
      "Roll the dice? (y/n): y\n"
     ]
    },
    {
     "name": "stdout",
     "output_type": "stream",
     "text": [
      "(5,4)\n"
     ]
    },
    {
     "name": "stdin",
     "output_type": "stream",
     "text": [
      "Roll the dice? (y/n): y\n"
     ]
    },
    {
     "name": "stdout",
     "output_type": "stream",
     "text": [
      "(1,3)\n",
      "You rolled the dice 2 times\n"
     ]
    }
   ],
   "source": [
    "# 1. Dice Rolling Game\n",
    "import random\n",
    "\n",
    "n=int(input(\"Enter number of rolls:\"))\n",
    "x=0\n",
    "times=0\n",
    "\n",
    "while True and x<n:\n",
    "    choice=input(\"Roll the dice? (y/n):\").lower()\n",
    "    \n",
    "    if choice == 'y': \n",
    "        d1=random.randint(1,6)\n",
    "        d2=random.randint(1,6)\n",
    "        print(f'({d1},{d2})') \n",
    "    elif choice == 'n': \n",
    "        print(\"Thanks for playing!\")\n",
    "        break   \n",
    "    else: \n",
    "        print(\"Invalid choice\")\n",
    "        \n",
    "    x+=1\n",
    "    times+=1\n",
    "    \n",
    "print(f'You rolled the dice {times} times')"
   ]
  },
  {
   "cell_type": "code",
   "execution_count": 13,
   "id": "f48b1723-b055-4007-9b7e-2e7be8bac6c0",
   "metadata": {},
   "outputs": [
    {
     "name": "stdout",
     "output_type": "stream",
     "text": [
      "You have 3 attempts!\n"
     ]
    },
    {
     "name": "stdin",
     "output_type": "stream",
     "text": [
      "Enter your guess: 1\n"
     ]
    },
    {
     "name": "stdout",
     "output_type": "stream",
     "text": [
      "Your guess is smaller\n"
     ]
    },
    {
     "name": "stdin",
     "output_type": "stream",
     "text": [
      "Enter your guess: 2\n"
     ]
    },
    {
     "name": "stdout",
     "output_type": "stream",
     "text": [
      "Your guess is smaller\n"
     ]
    },
    {
     "name": "stdin",
     "output_type": "stream",
     "text": [
      "Enter your guess: 3\n"
     ]
    },
    {
     "name": "stdout",
     "output_type": "stream",
     "text": [
      "Your guess is smaller\n",
      "Yu used all your attempts\n",
      "The correct number is 7\n"
     ]
    }
   ],
   "source": [
    "# 2. Number Guess \n",
    "import random\n",
    "\n",
    "n=random.randint(1,10)\n",
    "guess=0\n",
    "attempt=0\n",
    "count=3\n",
    "\n",
    "print(\"You have 3 attempts!\")\n",
    "\n",
    "while attempt < count: \n",
    "    guess=int(input(\"Enter your guess:\"))\n",
    "    attempt+=1 \n",
    "    \n",
    "    if guess > n: \n",
    "        print(\"Your guess is bigger\")\n",
    "    elif guess < n: \n",
    "        print(\"Your guess is smaller\")\n",
    "    elif guess == n:\n",
    "        print(\"Correct guess!\")\n",
    "        break\n",
    "    else: \n",
    "        print(\"Enter a valid guess\")\n",
    "\n",
    "if attempt == count: \n",
    "    print(\"Yu used all your attempts\")\n",
    "    print(\"The correct number is\", n)"
   ]
  },
  {
   "cell_type": "code",
   "execution_count": 14,
   "id": "96d3ff03-c9ee-4f33-beaf-741236a3b862",
   "metadata": {},
   "outputs": [
    {
     "name": "stdin",
     "output_type": "stream",
     "text": [
      "Enter number of numbers: 3\n",
      "Enter a number: 1\n",
      "Enter a number: 2\n",
      "Enter a number: -3\n"
     ]
    },
    {
     "name": "stdout",
     "output_type": "stream",
     "text": [
      "Sum of positive numbers: 3\n",
      "Sum of negative numbers: -3\n",
      "Sum of numbers: 0\n"
     ]
    }
   ],
   "source": [
    "# 3. Sum of numbers \n",
    "N = int(input(\"Enter number of numbers:\"))\n",
    "pos_sum = 0\n",
    "neg_sum=0\n",
    "count=0\n",
    "\n",
    "while count < N: \n",
    "    n=int(input(\"Enter a number:\"))\n",
    "\n",
    "    if n>0: \n",
    "        pos_sum += n \n",
    "    else: \n",
    "        neg_sum += n \n",
    "    count += 1\n",
    "\n",
    "total = pos_sum + neg_sum\n",
    "\n",
    "print(\"Sum of positive numbers:\", pos_sum)\n",
    "print(\"Sum of negative numbers:\", neg_sum)\n",
    "print(\"Sum of numbers:\", total)"
   ]
  },
  {
   "cell_type": "code",
   "execution_count": 16,
   "id": "bbb8c9b6-1cd8-4caa-83d6-3dd163c5fbbb",
   "metadata": {},
   "outputs": [
    {
     "name": "stdout",
     "output_type": "stream",
     "text": [
      "2 3 5 7 11 13 17 19 23 29 31 37 41 43 47 53 59 61 67 71 73 79 83 89 97 "
     ]
    }
   ],
   "source": [
    "# 4. 1-100 Prime numnbers \n",
    "for n in range(1,101): \n",
    "    count = 0\n",
    "    for i in range(1,n+1): \n",
    "        if n % i == 0:\n",
    "            count += 1 \n",
    "\n",
    "    if count == 2: \n",
    "        print(n, end=' ')"
   ]
  },
  {
   "cell_type": "code",
   "execution_count": 19,
   "id": "60c9e022-1801-4301-a53a-cb016ea1fcff",
   "metadata": {},
   "outputs": [
    {
     "name": "stdout",
     "output_type": "stream",
     "text": [
      "Child implementation 2\n"
     ]
    }
   ],
   "source": [
    "# 5. Abstract Class method \n",
    "from abc import ABC,abstractmethod\n",
    "\n",
    "class Parent(ABC): \n",
    "    def meth1(self): \n",
    "        print(\"Parent method 1\")\n",
    "\n",
    "    @abstractmethod \n",
    "    def meth2(self): \n",
    "        pass\n",
    "\n",
    "class Child(Parent): \n",
    "    def meth3(self): \n",
    "        print(\"Child method 3\")\n",
    "\n",
    "    def meth2(self): \n",
    "        print(\"Child implementation 2\")\n",
    "\n",
    "c = Child()\n",
    "c.meth2()"
   ]
  }
 ],
 "metadata": {
  "kernelspec": {
   "display_name": "Python 3 (ipykernel)",
   "language": "python",
   "name": "python3"
  },
  "language_info": {
   "codemirror_mode": {
    "name": "ipython",
    "version": 3
   },
   "file_extension": ".py",
   "mimetype": "text/x-python",
   "name": "python",
   "nbconvert_exporter": "python",
   "pygments_lexer": "ipython3",
   "version": "3.12.7"
  }
 },
 "nbformat": 4,
 "nbformat_minor": 5
}
