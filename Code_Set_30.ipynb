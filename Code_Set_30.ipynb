{
 "cells": [
  {
   "cell_type": "code",
   "execution_count": 5,
   "id": "65f1c573-8a88-4c83-a142-63a2425cdc1b",
   "metadata": {},
   "outputs": [
    {
     "name": "stdout",
     "output_type": "stream",
     "text": [
      "Invalid index\n",
      "End of program\n"
     ]
    }
   ],
   "source": [
    "# 125. Try-except Index \n",
    "l = [1,2,3,4,5]\n",
    "\n",
    "try: \n",
    "    index = 9\n",
    "    print(l[index])\n",
    "    print(\"End of try block\")\n",
    "except: \n",
    "    print(\"Invalid index\")\n",
    "\n",
    "print(\"End of program\")"
   ]
  },
  {
   "cell_type": "code",
   "execution_count": 6,
   "id": "f4ac3d9a-8dda-4206-858c-61e8cc3723f0",
   "metadata": {},
   "outputs": [
    {
     "name": "stdout",
     "output_type": "stream",
     "text": [
      "Invalid index\n",
      "End of program\n"
     ]
    }
   ],
   "source": [
    "# 126. Multiple Exceptions\n",
    "L = [10, 20, 30, 40, 50]\n",
    "\n",
    "try: \n",
    "    i = 9\n",
    "    print(L[i])\n",
    "\n",
    "except IndexError: \n",
    "    print('Invalid index')\n",
    "except TypeError: \n",
    "    print('Index should be integer')\n",
    "except: \n",
    "    (\"Error\")\n",
    "\n",
    "print(\"End of program\")"
   ]
  },
  {
   "cell_type": "code",
   "execution_count": 9,
   "id": "6120f615-fa42-4380-9a07-18942d0f22f9",
   "metadata": {},
   "outputs": [
    {
     "name": "stdout",
     "output_type": "stream",
     "text": [
      "Division by zero error!\n"
     ]
    }
   ],
   "source": [
    "# 127. Raising Exception \n",
    "def div(a,b): \n",
    "    if b!= 0: \n",
    "        c = a // b\n",
    "        return c\n",
    "    else: \n",
    "        raise ZeroDivisionError\n",
    "\n",
    "try: \n",
    "    res = div(10,0)\n",
    "    print(res)\n",
    "except: \n",
    "    print('Division by zero error!')"
   ]
  }
 ],
 "metadata": {
  "kernelspec": {
   "display_name": "Python [conda env:base] *",
   "language": "python",
   "name": "conda-base-py"
  },
  "language_info": {
   "codemirror_mode": {
    "name": "ipython",
    "version": 3
   },
   "file_extension": ".py",
   "mimetype": "text/x-python",
   "name": "python",
   "nbconvert_exporter": "python",
   "pygments_lexer": "ipython3",
   "version": "3.12.7"
  }
 },
 "nbformat": 4,
 "nbformat_minor": 5
}
