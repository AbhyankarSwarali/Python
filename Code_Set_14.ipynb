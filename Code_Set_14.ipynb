{
 "cells": [
  {
   "cell_type": "code",
   "execution_count": 1,
   "id": "eb40ba73-8c4c-4bab-9f20-bf3d22635a79",
   "metadata": {},
   "outputs": [
    {
     "name": "stdin",
     "output_type": "stream",
     "text": [
      "Enter date: 01/03/2003\n"
     ]
    },
    {
     "name": "stdout",
     "output_type": "stream",
     "text": [
      "Day: 01\n",
      "Month: 03\n",
      "Year: 2003\n"
     ]
    }
   ],
   "source": [
    "# 66. Date Format\n",
    "date = input(\"Enter date:\")\n",
    "slash = date.split('/')\n",
    "print('Day:', slash[0])\n",
    "print(\"Month:\", slash[1])\n",
    "print(\"Year:\", slash[2])"
   ]
  },
  {
   "cell_type": "code",
   "execution_count": 10,
   "id": "12d16c59-e883-4b8a-b3de-01c4f968f3b0",
   "metadata": {},
   "outputs": [
    {
     "name": "stdin",
     "output_type": "stream",
     "text": [
      "Enter first string: medical\n",
      "Enter second string: decimal\n"
     ]
    },
    {
     "name": "stdout",
     "output_type": "stream",
     "text": [
      "Anagram\n"
     ]
    }
   ],
   "source": [
    "# 67. Anagram string \n",
    "s1 = input(\"Enter first string:\")\n",
    "s2 = input(\"Enter second string:\")\n",
    "if len(s1) != len(s2): \n",
    "    print(\"Length of strings doesn't match\")\n",
    "    print(\"Not an anagram\")\n",
    "else: \n",
    "    for x in s1: \n",
    "        if x not in s2:\n",
    "            print(\"Not an anagram\")\n",
    "            break\n",
    "    else: \n",
    "        print(\"Anagram\")"
   ]
  },
  {
   "cell_type": "code",
   "execution_count": 12,
   "id": "0ef01ae0-ed88-4b4a-bdab-a34f62411ada",
   "metadata": {},
   "outputs": [
    {
     "name": "stdin",
     "output_type": "stream",
     "text": [
      "Enter a string: HellOWorLD\n"
     ]
    },
    {
     "name": "stdout",
     "output_type": "stream",
     "text": [
      "Rearranged string: ellorHOWLD\n"
     ]
    }
   ],
   "source": [
    "# 68. Rearrange Case 1 \n",
    "S = input(\"Enter a string:\")\n",
    "lower = ''\n",
    "upper = ''\n",
    "for i in S:\n",
    "    if i.isupper(): \n",
    "        upper += i \n",
    "    else: \n",
    "        lower += i \n",
    "S2 = lower+upper\n",
    "print(\"Rearranged string:\", S2)"
   ]
  },
  {
   "cell_type": "code",
   "execution_count": 14,
   "id": "a6c5ccfd-166c-45c1-8235-2f63f8025806",
   "metadata": {},
   "outputs": [
    {
     "name": "stdin",
     "output_type": "stream",
     "text": [
      "Enter a string: P1yT3Hon24\n"
     ]
    },
    {
     "name": "stdout",
     "output_type": "stream",
     "text": [
      "Rearranged string: yonPTH1324\n"
     ]
    }
   ],
   "source": [
    "# 69. Rearrange Case 2 \n",
    "s = input(\"Enter a string:\")\n",
    "Upper = ''\n",
    "Lower = ''\n",
    "Num = ''\n",
    "for j in s: \n",
    "    if j.isupper(): \n",
    "        Upper += j\n",
    "    elif j.islower(): \n",
    "        Lower += j\n",
    "    else: \n",
    "        Num += j\n",
    "S = Lower + Upper + Num\n",
    "print(\"Rearranged string:\", S)"
   ]
  },
  {
   "cell_type": "code",
   "execution_count": 15,
   "id": "1f196e3f-be8e-4192-a6b9-ee4b875f7888",
   "metadata": {},
   "outputs": [
    {
     "name": "stdin",
     "output_type": "stream",
     "text": [
      "Enter a string: abcd123@#$\n"
     ]
    },
    {
     "name": "stdout",
     "output_type": "stream",
     "text": [
      "abcd123\n"
     ]
    }
   ],
   "source": [
    "# 70. Remove Punctutations \n",
    "string = input(\"Enter a string:\")\n",
    "punc = ''\n",
    "for s in string: \n",
    "    if s.isalnum(): \n",
    "        punc += s \n",
    "print(punc)"
   ]
  }
 ],
 "metadata": {
  "kernelspec": {
   "display_name": "Python 3 (ipykernel)",
   "language": "python",
   "name": "python3"
  },
  "language_info": {
   "codemirror_mode": {
    "name": "ipython",
    "version": 3
   },
   "file_extension": ".py",
   "mimetype": "text/x-python",
   "name": "python",
   "nbconvert_exporter": "python",
   "pygments_lexer": "ipython3",
   "version": "3.12.7"
  }
 },
 "nbformat": 4,
 "nbformat_minor": 5
}
