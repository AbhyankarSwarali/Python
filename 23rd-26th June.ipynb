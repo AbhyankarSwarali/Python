{
 "cells": [
  {
   "cell_type": "markdown",
   "id": "6cc87063-1cf6-4c21-90d4-a51fa1b8404b",
   "metadata": {},
   "source": [
    "# 23rd June"
   ]
  },
  {
   "cell_type": "markdown",
   "id": "f0c3b848-7b3a-46f8-9d0f-6d4c569da8ea",
   "metadata": {},
   "source": [
    "## Break & Continue"
   ]
  },
  {
   "cell_type": "code",
   "execution_count": 5,
   "id": "caeea9ef-561d-4baa-a345-80ebc44805cd",
   "metadata": {},
   "outputs": [
    {
     "name": "stdout",
     "output_type": "stream",
     "text": [
      "1\n",
      "2\n",
      "3\n",
      "Thank you\n"
     ]
    }
   ],
   "source": [
    "# Break statement\n",
    "i = 0\n",
    "while i < 7: \n",
    "    i += 1 \n",
    "    if (i == 4): \n",
    "        break\n",
    "    print(i)\n",
    "print(\"Thank you\")"
   ]
  },
  {
   "cell_type": "code",
   "execution_count": 6,
   "id": "d6292efa-c230-4252-8182-025e9355aca1",
   "metadata": {},
   "outputs": [
    {
     "name": "stdout",
     "output_type": "stream",
     "text": [
      "1\n",
      "2\n",
      "3\n",
      "5\n",
      "6\n",
      "7\n",
      "Thank you\n"
     ]
    }
   ],
   "source": [
    "# Continue Statement \n",
    "i = 0\n",
    "while i < 7: \n",
    "    i += 1 \n",
    "    if (i == 4): \n",
    "        continue\n",
    "    print(i)\n",
    "print(\"Thank you\")"
   ]
  },
  {
   "cell_type": "markdown",
   "id": "4d395ddb-d82f-4fcf-a683-e709549b8664",
   "metadata": {},
   "source": [
    "## While-else statement"
   ]
  },
  {
   "cell_type": "code",
   "execution_count": 9,
   "id": "59b4d906-dcee-422a-9d62-b635cd0746eb",
   "metadata": {},
   "outputs": [
    {
     "name": "stdout",
     "output_type": "stream",
     "text": [
      "1\n",
      "2\n",
      "4\n",
      "5\n",
      "Thank you\n"
     ]
    }
   ],
   "source": [
    "i = 0\n",
    "while i < 5: \n",
    "    i += 1  \n",
    "    if i == 3: \n",
    "        continue\n",
    "    print(i)\n",
    "else: \n",
    "    print(\"Thank you\")"
   ]
  },
  {
   "cell_type": "code",
   "execution_count": 10,
   "id": "75b51836-afdf-4048-9b78-db3e98bed9a7",
   "metadata": {},
   "outputs": [
    {
     "name": "stdout",
     "output_type": "stream",
     "text": [
      "1\n",
      "2\n"
     ]
    }
   ],
   "source": [
    "i = 0\n",
    "while i < 5: \n",
    "    i += 1  \n",
    "    if i == 3: \n",
    "        break\n",
    "    print(i)\n",
    "else: \n",
    "    print(\"Thank you\")"
   ]
  },
  {
   "cell_type": "code",
   "execution_count": 16,
   "id": "a8fac1c0-6caa-423e-b441-738174790a11",
   "metadata": {},
   "outputs": [
    {
     "name": "stdout",
     "output_type": "stream",
     "text": [
      "While conditionis true 1\n",
      "While conditionis true 2\n",
      "While conditionis true 3\n",
      "While conditionis true 4\n",
      "While conditionis true 5\n"
     ]
    }
   ],
   "source": [
    "i = 1\n",
    "while i < 6: \n",
    "    print(\"While conditionis true\", i)\n",
    "    i += 1  "
   ]
  },
  {
   "cell_type": "code",
   "execution_count": 15,
   "id": "3120bc6c-2197-4f27-bc41-6a93ff165ebe",
   "metadata": {},
   "outputs": [
    {
     "name": "stdout",
     "output_type": "stream",
     "text": [
      "While conditionis true 1\n",
      "While conditionis true 2\n",
      "While conditionis true 3\n",
      "While conditionis true 4\n",
      "While conditionis true 5\n",
      "6\n"
     ]
    }
   ],
   "source": [
    "i = 1\n",
    "while i < 6: \n",
    "    print(\"While conditionis true\", i)\n",
    "    i += 1  \n",
    "print(i)"
   ]
  },
  {
   "cell_type": "markdown",
   "id": "808d6c1f-82d3-4832-b812-24b3ded89dab",
   "metadata": {},
   "source": [
    "### For loop"
   ]
  },
  {
   "cell_type": "code",
   "execution_count": 2,
   "id": "77b057db-b54d-4c15-83a8-8885a18a19ab",
   "metadata": {},
   "outputs": [
    {
     "name": "stdout",
     "output_type": "stream",
     "text": [
      "0 1 2 3 4 "
     ]
    }
   ],
   "source": [
    "for i in range(5): \n",
    "    print(i, end=' ')"
   ]
  },
  {
   "cell_type": "code",
   "execution_count": 3,
   "id": "729741bc-5b92-434e-aae4-65a5ba9eefc9",
   "metadata": {},
   "outputs": [
    {
     "name": "stdout",
     "output_type": "stream",
     "text": [
      "1 2 3 4 5 6 7 8 9 "
     ]
    }
   ],
   "source": [
    "for i in range(1,10): \n",
    "    print(i, end=' ')"
   ]
  },
  {
   "cell_type": "code",
   "execution_count": 5,
   "id": "2f20db0a-a23e-4f4b-981a-de75db4a81cb",
   "metadata": {},
   "outputs": [
    {
     "name": "stdout",
     "output_type": "stream",
     "text": [
      "0, 2, 4, 6, 8, 10, 12, 14, 16, 18, "
     ]
    }
   ],
   "source": [
    "for i in range(0,20,2): \n",
    "    print(i, end=', ')"
   ]
  },
  {
   "cell_type": "markdown",
   "id": "fa56f4d7-f222-47cc-85cd-047378d98588",
   "metadata": {},
   "source": [
    "## List"
   ]
  },
  {
   "cell_type": "code",
   "execution_count": 12,
   "id": "35a65b91-f8c9-4da1-b51b-d8bb9be331fc",
   "metadata": {},
   "outputs": [
    {
     "name": "stdout",
     "output_type": "stream",
     "text": [
      "H\n",
      "i\n",
      " \n",
      "t\n",
      "h\n",
      "e\n",
      "r\n",
      "e\n"
     ]
    }
   ],
   "source": [
    "s = 'Hi there'\n",
    "for i in s:\n",
    "    print(i)"
   ]
  },
  {
   "cell_type": "markdown",
   "id": "948772a2-76f1-4824-8565-4830653eb57c",
   "metadata": {},
   "source": [
    "## Nested list"
   ]
  },
  {
   "cell_type": "code",
   "execution_count": 4,
   "id": "c9e078c0-ca93-48df-b10b-7918d3e10e51",
   "metadata": {},
   "outputs": [
    {
     "name": "stdout",
     "output_type": "stream",
     "text": [
      "Red Apple\n",
      "Red Banana\n",
      "Red Orange\n",
      "Blue Apple\n",
      "Blue Banana\n",
      "Blue Orange\n",
      "Green Apple\n",
      "Green Banana\n",
      "Green Orange\n"
     ]
    }
   ],
   "source": [
    "a = [\"Red\", 'Blue', 'Green']\n",
    "b = ['Apple', 'Banana', 'Orange']\n",
    "\n",
    "for i in a: \n",
    "    for h in b:\n",
    "        print(i,h)"
   ]
  },
  {
   "cell_type": "code",
   "execution_count": 5,
   "id": "d712f292-2583-424f-abcc-f755dd5872c8",
   "metadata": {},
   "outputs": [
    {
     "name": "stdout",
     "output_type": "stream",
     "text": [
      "Current city: Bangalore\n",
      "Current city: Mumbai\n",
      "Current city: Pune\n",
      "Good bye!\n"
     ]
    }
   ],
   "source": [
    "city = ['Bangalore', 'Mumbai', 'Pune']\n",
    "\n",
    "for index in range(len(city)): \n",
    "    print(\"Current city:\", city[index])\n",
    "print(\"Good bye!\")"
   ]
  },
  {
   "cell_type": "markdown",
   "id": "9942dabb-4654-4fed-a713-bdfb92653d57",
   "metadata": {},
   "source": [
    "# 24th June"
   ]
  },
  {
   "cell_type": "markdown",
   "id": "b4c779cc-9bf9-4dbc-85c0-40621be82c6c",
   "metadata": {},
   "source": [
    "## Functions"
   ]
  },
  {
   "cell_type": "markdown",
   "id": "b53f85d3-d99c-4246-9134-dd18ef901f07",
   "metadata": {},
   "source": [
    "### User-defined functions"
   ]
  },
  {
   "cell_type": "code",
   "execution_count": 1,
   "id": "c81babde-9c07-4d6c-89ce-ddae6817a2c7",
   "metadata": {},
   "outputs": [],
   "source": [
    "def greet(): \n",
    "    print(\"Hello\")\n",
    "    print(\"Hope you're doing good\")\n",
    "    "
   ]
  },
  {
   "cell_type": "code",
   "execution_count": 2,
   "id": "9c170950-4695-4b02-a7e8-4d649f722f12",
   "metadata": {},
   "outputs": [
    {
     "name": "stdout",
     "output_type": "stream",
     "text": [
      "Hello\n",
      "Hope you're doing good\n",
      "Bye\n",
      "Hello\n",
      "Hope you're doing good\n",
      "Hi\n"
     ]
    }
   ],
   "source": [
    "greet()\n",
    "print(\"Bye\")\n",
    "greet()\n",
    "print('Hi')"
   ]
  },
  {
   "cell_type": "markdown",
   "id": "81fc5aa4-60f0-4df9-84eb-ad14326e903f",
   "metadata": {},
   "source": [
    "#### Without parameter without return"
   ]
  },
  {
   "cell_type": "code",
   "execution_count": 8,
   "id": "229a3f7a-3a72-45fd-b4cf-f22a8f17a53c",
   "metadata": {},
   "outputs": [],
   "source": [
    "def add(): \n",
    "    a = 10\n",
    "    b = 5\n",
    "    c = a+b \n",
    "    print(c)"
   ]
  },
  {
   "cell_type": "code",
   "execution_count": 11,
   "id": "4097c6c8-2bc5-4ace-8805-6e2d2fd3a994",
   "metadata": {},
   "outputs": [
    {
     "name": "stdout",
     "output_type": "stream",
     "text": [
      "15\n"
     ]
    }
   ],
   "source": [
    "add()"
   ]
  },
  {
   "cell_type": "markdown",
   "id": "8d0c62ff-b0bd-4969-bd1e-aefd11f6834a",
   "metadata": {},
   "source": [
    "#### With parameter without return"
   ]
  },
  {
   "cell_type": "code",
   "execution_count": null,
   "id": "0e7d851e-ff68-40cb-8aa9-d1c7282a68f5",
   "metadata": {},
   "outputs": [],
   "source": [
    "def add(x, y): # x and y are parameters\n",
    "    c = x+y \n",
    "    print(c)"
   ]
  },
  {
   "cell_type": "code",
   "execution_count": 9,
   "id": "97379079-a3b3-491d-a055-53079ed91c9a",
   "metadata": {},
   "outputs": [
    {
     "name": "stdout",
     "output_type": "stream",
     "text": [
      "15\n"
     ]
    }
   ],
   "source": [
    "add(10, 5)"
   ]
  },
  {
   "cell_type": "code",
   "execution_count": 12,
   "id": "cddae6cc-afda-4cb3-8615-f8704e866bcd",
   "metadata": {},
   "outputs": [],
   "source": [
    "def max(a,b): \n",
    "    if a > b:\n",
    "        print(a,'is maximum')\n",
    "    elif b > a:\n",
    "        print(b,'is maximum')\n",
    "    else:\n",
    "        print(\"Both are equal\")"
   ]
  },
  {
   "cell_type": "code",
   "execution_count": 17,
   "id": "277e0796-9be6-4641-8e79-56f8ecbcc941",
   "metadata": {},
   "outputs": [
    {
     "name": "stdout",
     "output_type": "stream",
     "text": [
      "10 is maximum\n",
      "45 is maximum\n",
      "Both are equal\n"
     ]
    }
   ],
   "source": [
    "max(10, 5)\n",
    "max(2,45)\n",
    "max(28,28)"
   ]
  },
  {
   "cell_type": "markdown",
   "id": "7712b8ba-acc4-45fd-853e-d3f40f1c72d8",
   "metadata": {},
   "source": [
    "#### With parameter with return"
   ]
  },
  {
   "cell_type": "code",
   "execution_count": 9,
   "id": "f52908fd-6f3f-493f-8194-161e057ac554",
   "metadata": {},
   "outputs": [],
   "source": [
    "def add(x, y):\n",
    "    c = x+y\n",
    "    return c "
   ]
  },
  {
   "cell_type": "code",
   "execution_count": 10,
   "id": "c4b03794-aaf7-407a-862a-ec37be36de29",
   "metadata": {},
   "outputs": [
    {
     "name": "stdout",
     "output_type": "stream",
     "text": [
      "7\n"
     ]
    }
   ],
   "source": [
    "result = add(3,4)\n",
    "print(result)"
   ]
  },
  {
   "cell_type": "code",
   "execution_count": 11,
   "id": "c5801c5e-a8c2-43ec-8266-1ea9de4ac309",
   "metadata": {},
   "outputs": [],
   "source": [
    "### With paramater without return"
   ]
  },
  {
   "cell_type": "code",
   "execution_count": 12,
   "id": "a4cf487d-97b7-4e53-90dc-0a3a50d26a17",
   "metadata": {},
   "outputs": [],
   "source": [
    "def add(x, y):\n",
    "    c = x+y"
   ]
  },
  {
   "cell_type": "code",
   "execution_count": 13,
   "id": "fb88f21b-938c-400b-935f-9fef65aca93e",
   "metadata": {},
   "outputs": [
    {
     "name": "stdout",
     "output_type": "stream",
     "text": [
      "None\n"
     ]
    },
    {
     "ename": "NameError",
     "evalue": "name 'c' is not defined",
     "output_type": "error",
     "traceback": [
      "\u001b[1;31m---------------------------------------------------------------------------\u001b[0m",
      "\u001b[1;31mNameError\u001b[0m                                 Traceback (most recent call last)",
      "Cell \u001b[1;32mIn[13], line 3\u001b[0m\n\u001b[0;32m      1\u001b[0m result \u001b[38;5;241m=\u001b[39m add(\u001b[38;5;241m3\u001b[39m,\u001b[38;5;241m4\u001b[39m)\n\u001b[0;32m      2\u001b[0m \u001b[38;5;28mprint\u001b[39m(result)\n\u001b[1;32m----> 3\u001b[0m \u001b[38;5;28mprint\u001b[39m(c)\n",
      "\u001b[1;31mNameError\u001b[0m: name 'c' is not defined"
     ]
    }
   ],
   "source": [
    "result = add(3,4)\n",
    "print(result)\n",
    "print(c)"
   ]
  },
  {
   "cell_type": "code",
   "execution_count": 14,
   "id": "41e75b22-29bd-4f11-8d9f-a53dc788dcda",
   "metadata": {},
   "outputs": [],
   "source": [
    "def add(x, y):\n",
    "    '''Here I have created a function name which accepts 2 numbers as parameters and returns their sum'''\n",
    "    c = x+y\n",
    "    return c "
   ]
  },
  {
   "cell_type": "code",
   "execution_count": 15,
   "id": "5b5cac64-08cb-40ba-aec1-c364f2f79122",
   "metadata": {},
   "outputs": [
    {
     "name": "stdout",
     "output_type": "stream",
     "text": [
      "Here I have created a function name which accepts 2 numbers as parameters and returns their sum\n"
     ]
    }
   ],
   "source": [
    "print(add.__doc__)"
   ]
  },
  {
   "cell_type": "code",
   "execution_count": 16,
   "id": "503947fa-43fe-47ab-8a7f-4d6d27fd3476",
   "metadata": {},
   "outputs": [
    {
     "name": "stdout",
     "output_type": "stream",
     "text": [
      "Return the number of items in a container.\n"
     ]
    }
   ],
   "source": [
    "print(len.__doc__)"
   ]
  },
  {
   "cell_type": "code",
   "execution_count": 18,
   "id": "551570a6-f919-4ee7-bf89-fd30ed06c580",
   "metadata": {},
   "outputs": [
    {
     "name": "stdout",
     "output_type": "stream",
     "text": [
      "Return the identity of an object.\n",
      "\n",
      "This is guaranteed to be unique among simultaneously existing objects.\n",
      "(CPython uses the object's memory address.)\n"
     ]
    }
   ],
   "source": [
    "print(id.__doc__)"
   ]
  },
  {
   "cell_type": "markdown",
   "id": "529eca88-7003-434f-8c21-c61597786e31",
   "metadata": {},
   "source": [
    "### Lambda functions"
   ]
  },
  {
   "cell_type": "code",
   "execution_count": 22,
   "id": "472f694c-3acd-466b-930b-f90c64096bf6",
   "metadata": {},
   "outputs": [
    {
     "data": {
      "text/plain": [
       "<function __main__.<lambda>(x, y)>"
      ]
     },
     "execution_count": 22,
     "metadata": {},
     "output_type": "execute_result"
    }
   ],
   "source": [
    "# Syntax - lambda para1, para2, .... : operattion\n",
    "lambda x,y : x+y"
   ]
  },
  {
   "cell_type": "code",
   "execution_count": 20,
   "id": "3a44ee83-0472-4c05-bdb6-ab8ab82f12e0",
   "metadata": {},
   "outputs": [],
   "source": [
    "a = lambda x,y : x+y"
   ]
  },
  {
   "cell_type": "code",
   "execution_count": 21,
   "id": "b0bb98c6-aded-499a-b694-918d70ec4fd5",
   "metadata": {},
   "outputs": [
    {
     "data": {
      "text/plain": [
       "7"
      ]
     },
     "execution_count": 21,
     "metadata": {},
     "output_type": "execute_result"
    }
   ],
   "source": [
    "a(3,4)"
   ]
  },
  {
   "cell_type": "code",
   "execution_count": 24,
   "id": "b9b0732f-792e-4e28-963f-ed19e7bd648d",
   "metadata": {},
   "outputs": [
    {
     "name": "stdin",
     "output_type": "stream",
     "text": [
      "Enter number:  2\n"
     ]
    },
    {
     "data": {
      "text/plain": [
       "'Even number'"
      ]
     },
     "execution_count": 24,
     "metadata": {},
     "output_type": "execute_result"
    }
   ],
   "source": [
    "# if-else single line code \n",
    "# Syntax - (True statement) if (cond) else (False statement)\n",
    "m = int(input(\"Enter number: \"))\n",
    "(\"Even number\") if m%2==0 else (\"Odd number\")"
   ]
  },
  {
   "cell_type": "code",
   "execution_count": 25,
   "id": "0a29165f-dad2-4a99-8d2b-1335a2410f4d",
   "metadata": {},
   "outputs": [],
   "source": [
    "# Homework: all if-else questions except nested ones write in one-line code "
   ]
  },
  {
   "cell_type": "markdown",
   "id": "ff9c15b6-81f3-4753-8720-49708ce05dc2",
   "metadata": {},
   "source": [
    "### end function"
   ]
  },
  {
   "cell_type": "code",
   "execution_count": 31,
   "id": "d9838f21-9cf2-4f3e-972e-c8b838ba7b74",
   "metadata": {},
   "outputs": [
    {
     "name": "stdout",
     "output_type": "stream",
     "text": [
      "Hii\n",
      "Hello, ---- How are you #### Bye\n"
     ]
    }
   ],
   "source": [
    "print(\"Hii\")\n",
    "print(\"Hello\", end=', ---- ')\n",
    "print(\"How are you\", end=' #### ')\n",
    "print(\"Bye\")"
   ]
  },
  {
   "cell_type": "markdown",
   "id": "37edc3b5-50c2-4625-b69d-00e08cf87877",
   "metadata": {},
   "source": [
    "# 25th June"
   ]
  },
  {
   "cell_type": "code",
   "execution_count": 2,
   "id": "a3ec4ed2-610d-4350-a457-1f16fba82a77",
   "metadata": {},
   "outputs": [],
   "source": [
    "seq = [0,1,2,3,5,8,13]"
   ]
  },
  {
   "cell_type": "code",
   "execution_count": 3,
   "id": "48999a44-3d34-4e0a-86bc-5b0cf260fe45",
   "metadata": {},
   "outputs": [
    {
     "name": "stdout",
     "output_type": "stream",
     "text": [
      "[1, 3, 5, 13]\n"
     ]
    }
   ],
   "source": [
    "result = filter(lambda x: x%2 != 0, seq)\n",
    "print(list(result))"
   ]
  },
  {
   "cell_type": "code",
   "execution_count": 5,
   "id": "60108f3e-ba35-4fd2-84ff-2c010b0b09d2",
   "metadata": {},
   "outputs": [
    {
     "name": "stdout",
     "output_type": "stream",
     "text": [
      "[0, 2, 8]\n"
     ]
    }
   ],
   "source": [
    "Result = filter(lambda y: y%2 == 0, seq)\n",
    "print(list(Result))"
   ]
  },
  {
   "cell_type": "code",
   "execution_count": 15,
   "id": "f3d350e8-c7b4-4c20-804a-67eb56368bd1",
   "metadata": {},
   "outputs": [
    {
     "name": "stdout",
     "output_type": "stream",
     "text": [
      "[2, 4, 6, 8]\n"
     ]
    }
   ],
   "source": [
    "def addition(n):\n",
    "    return n+n\n",
    "    \n",
    "numbers = (1,2,3,4)\n",
    "result = list(map(addition, numbers))\n",
    "print(result)"
   ]
  },
  {
   "cell_type": "code",
   "execution_count": 9,
   "id": "6f48e551-94b2-41b8-a2f4-3f3089faca5a",
   "metadata": {},
   "outputs": [
    {
     "name": "stdout",
     "output_type": "stream",
     "text": [
      "[2, 4, 6, 8]\n"
     ]
    }
   ],
   "source": [
    "numbers = (1,2,3,4)\n",
    "result = map(lambda x: x+x, numbers)\n",
    "print(list(result))"
   ]
  },
  {
   "cell_type": "code",
   "execution_count": 16,
   "id": "3e158bc7-29d5-4ef9-b89f-122f97a3d2fb",
   "metadata": {},
   "outputs": [
    {
     "name": "stdout",
     "output_type": "stream",
     "text": [
      "[5, 7, 9]\n"
     ]
    }
   ],
   "source": [
    "numbers1 = [1,2,3]\n",
    "numbers2 = [4,5,6]\n",
    "Result = map(lambda x,y : x+y, numbers1, numbers2)\n",
    "print(list(Result))"
   ]
  },
  {
   "cell_type": "code",
   "execution_count": 23,
   "id": "1eafe347-98c4-40c5-b6f7-b344efe04f1b",
   "metadata": {},
   "outputs": [
    {
     "name": "stdout",
     "output_type": "stream",
     "text": [
      "[6, 8, 10]\n"
     ]
    }
   ],
   "source": [
    "numbers1 = [1,2,3,4]\n",
    "numbers2 = [5,6,7]\n",
    "Result = map(lambda x,y : x+y, numbers1, numbers2)\n",
    "print(list(Result))"
   ]
  },
  {
   "cell_type": "code",
   "execution_count": 11,
   "id": "58fc4021-11a6-403c-bea9-24d06c4553cb",
   "metadata": {},
   "outputs": [
    {
     "data": {
      "text/plain": [
       "['D', 'a', 't', 'a']"
      ]
     },
     "execution_count": 11,
     "metadata": {},
     "output_type": "execute_result"
    }
   ],
   "source": [
    "s = 'Data'\n",
    "list(s)"
   ]
  },
  {
   "cell_type": "code",
   "execution_count": 18,
   "id": "6d7d0967-0e2c-4347-836e-53f8a1b24444",
   "metadata": {},
   "outputs": [
    {
     "name": "stdout",
     "output_type": "stream",
     "text": [
      "[['s', 'a', 't'], ['b', 'a', 't'], ['c', 'a', 't'], ['m', 'a', 't']]\n"
     ]
    }
   ],
   "source": [
    "l = ['sat', 'bat', 'cat', 'mat']\n",
    "test = list(map(list, l)) # make list of objects of l characterwise\n",
    "print(test)"
   ]
  },
  {
   "cell_type": "code",
   "execution_count": 19,
   "id": "6bbec4f2-f777-4d9b-8ec9-aa8962dbd031",
   "metadata": {},
   "outputs": [],
   "source": [
    "import functools"
   ]
  },
  {
   "cell_type": "code",
   "execution_count": 21,
   "id": "82723996-36d0-481c-8437-dae271c9a910",
   "metadata": {},
   "outputs": [
    {
     "name": "stdout",
     "output_type": "stream",
     "text": [
      "17\n"
     ]
    }
   ],
   "source": [
    "lis = [1,3,5,6,2]\n",
    "print(functools.reduce(lambda a,b: a+b, lis))"
   ]
  },
  {
   "cell_type": "code",
   "execution_count": 22,
   "id": "b1636472-14ae-49d4-90e6-fd0fc907d891",
   "metadata": {},
   "outputs": [
    {
     "name": "stdout",
     "output_type": "stream",
     "text": [
      "6\n"
     ]
    }
   ],
   "source": [
    "print(functools.reduce(lambda a,b: a if a>b else b, lis))"
   ]
  },
  {
   "cell_type": "markdown",
   "id": "1e79a0d5-7fb7-4c8b-93e6-968b06324893",
   "metadata": {},
   "source": [
    "## String"
   ]
  },
  {
   "cell_type": "code",
   "execution_count": 1,
   "id": "e06a2c2b-fd95-406c-b516-5e84c2a13d3b",
   "metadata": {},
   "outputs": [],
   "source": [
    "s='Hi'\n",
    "del s"
   ]
  },
  {
   "cell_type": "code",
   "execution_count": 2,
   "id": "38039768-398c-43a7-96cd-4c9e11c6851d",
   "metadata": {},
   "outputs": [
    {
     "ename": "NameError",
     "evalue": "name 's' is not defined",
     "output_type": "error",
     "traceback": [
      "\u001b[1;31m---------------------------------------------------------------------------\u001b[0m",
      "\u001b[1;31mNameError\u001b[0m                                 Traceback (most recent call last)",
      "Cell \u001b[1;32mIn[2], line 1\u001b[0m\n\u001b[1;32m----> 1\u001b[0m s\n",
      "\u001b[1;31mNameError\u001b[0m: name 's' is not defined"
     ]
    }
   ],
   "source": [
    "s"
   ]
  },
  {
   "cell_type": "code",
   "execution_count": 3,
   "id": "63c9c0ea-eedb-4af7-82ec-7a14e6acc7ef",
   "metadata": {},
   "outputs": [
    {
     "ename": "TypeError",
     "evalue": "'str' object does not support item assignment",
     "output_type": "error",
     "traceback": [
      "\u001b[1;31m---------------------------------------------------------------------------\u001b[0m",
      "\u001b[1;31mTypeError\u001b[0m                                 Traceback (most recent call last)",
      "Cell \u001b[1;32mIn[3], line 2\u001b[0m\n\u001b[0;32m      1\u001b[0m s\u001b[38;5;241m=\u001b[39m\u001b[38;5;124m'\u001b[39m\u001b[38;5;124mHello Python\u001b[39m\u001b[38;5;124m'\u001b[39m\n\u001b[1;32m----> 2\u001b[0m s[\u001b[38;5;241m0\u001b[39m:\u001b[38;5;241m2\u001b[39m] \u001b[38;5;241m=\u001b[39m \u001b[38;5;124m'\u001b[39m\u001b[38;5;124mHi\u001b[39m\u001b[38;5;124m'\u001b[39m\n",
      "\u001b[1;31mTypeError\u001b[0m: 'str' object does not support item assignment"
     ]
    }
   ],
   "source": [
    "s='Hello Python'\n",
    "s[0:2] = 'Hi'"
   ]
  },
  {
   "cell_type": "code",
   "execution_count": 4,
   "id": "3b25359a-870e-490e-968f-f8bb9226893c",
   "metadata": {},
   "outputs": [
    {
     "data": {
      "text/plain": [
       "'Hillo Python'"
      ]
     },
     "execution_count": 4,
     "metadata": {},
     "output_type": "execute_result"
    }
   ],
   "source": [
    "s.replace('He','Hi')"
   ]
  },
  {
   "cell_type": "code",
   "execution_count": 5,
   "id": "6e7f66b1-2da3-4088-b147-18136e7ce70d",
   "metadata": {},
   "outputs": [
    {
     "data": {
      "text/plain": [
       "'datascience'"
      ]
     },
     "execution_count": 5,
     "metadata": {},
     "output_type": "execute_result"
    }
   ],
   "source": [
    "s1='data'\n",
    "s2='science'\n",
    "s1+s2"
   ]
  },
  {
   "cell_type": "code",
   "execution_count": 6,
   "id": "bfa14760-7aae-443c-b68a-bacf4359f00f",
   "metadata": {},
   "outputs": [
    {
     "data": {
      "text/plain": [
       "'data science'"
      ]
     },
     "execution_count": 6,
     "metadata": {},
     "output_type": "execute_result"
    }
   ],
   "source": [
    "s1+' '+s2"
   ]
  },
  {
   "cell_type": "code",
   "execution_count": 7,
   "id": "256ea7f0-7069-4980-b42e-dfbfed2385e2",
   "metadata": {},
   "outputs": [
    {
     "data": {
      "text/plain": [
       "'DataScience'"
      ]
     },
     "execution_count": 7,
     "metadata": {},
     "output_type": "execute_result"
    }
   ],
   "source": [
    "'Data' + 'Science'"
   ]
  },
  {
   "cell_type": "code",
   "execution_count": 9,
   "id": "5dba040d-be88-4762-abb3-b8d5e61ee9ed",
   "metadata": {},
   "outputs": [
    {
     "data": {
      "text/plain": [
       "True"
      ]
     },
     "execution_count": 9,
     "metadata": {},
     "output_type": "execute_result"
    }
   ],
   "source": [
    "mystr = 'Hello Python'\n",
    "'Hello' in mystr\n",
    "#'hello' in mystr"
   ]
  },
  {
   "cell_type": "code",
   "execution_count": 10,
   "id": "d3d7a273-cc61-4865-879e-0fdd3bca0b14",
   "metadata": {},
   "outputs": [],
   "source": [
    "s='Natural language preocessing with Python and R and Java'"
   ]
  },
  {
   "cell_type": "code",
   "execution_count": 11,
   "id": "f0bd9eba-a004-4d4e-b40a-b15243822ead",
   "metadata": {},
   "outputs": [
    {
     "data": {
      "text/plain": [
       "('Natural language preocessing with Python ', 'and', ' R and Java')"
      ]
     },
     "execution_count": 11,
     "metadata": {},
     "output_type": "execute_result"
    }
   ],
   "source": [
    "s.partition('and')"
   ]
  },
  {
   "cell_type": "code",
   "execution_count": 12,
   "id": "4668f0d4-1564-4124-b039-aa0cfcfc8534",
   "metadata": {},
   "outputs": [],
   "source": [
    "s='hello Everyone'"
   ]
  },
  {
   "cell_type": "code",
   "execution_count": 13,
   "id": "1f90dd03-4f78-4832-a7ca-139186751738",
   "metadata": {},
   "outputs": [
    {
     "data": {
      "text/plain": [
       "3"
      ]
     },
     "execution_count": 13,
     "metadata": {},
     "output_type": "execute_result"
    }
   ],
   "source": [
    "s.count('e')"
   ]
  },
  {
   "cell_type": "code",
   "execution_count": 14,
   "id": "0302fcbf-695e-4068-b72c-ac0864843823",
   "metadata": {},
   "outputs": [
    {
     "data": {
      "text/plain": [
       "1"
      ]
     },
     "execution_count": 14,
     "metadata": {},
     "output_type": "execute_result"
    }
   ],
   "source": [
    "s.count(\"E\")"
   ]
  },
  {
   "cell_type": "code",
   "execution_count": 15,
   "id": "9a9a67c9-4cc4-4850-b39c-1bd4293b2127",
   "metadata": {},
   "outputs": [],
   "source": [
    "s = ' Hello EVeryone '"
   ]
  },
  {
   "cell_type": "code",
   "execution_count": 16,
   "id": "a64f4200-2444-453a-8ba8-c6daffdd3c6e",
   "metadata": {},
   "outputs": [
    {
     "data": {
      "text/plain": [
       "'Hello EVeryone'"
      ]
     },
     "execution_count": 16,
     "metadata": {},
     "output_type": "execute_result"
    }
   ],
   "source": [
    "s.strip()"
   ]
  },
  {
   "cell_type": "code",
   "execution_count": 17,
   "id": "460376e2-7515-47f0-98aa-f7e7705fd3a7",
   "metadata": {},
   "outputs": [
    {
     "data": {
      "text/plain": [
       "'Hello EVeryone '"
      ]
     },
     "execution_count": 17,
     "metadata": {},
     "output_type": "execute_result"
    }
   ],
   "source": [
    "s.lstrip()"
   ]
  },
  {
   "cell_type": "code",
   "execution_count": 18,
   "id": "cb689486-51c2-4b0d-b5ac-3d29ceb3d7df",
   "metadata": {},
   "outputs": [
    {
     "data": {
      "text/plain": [
       "' Hello EVeryone'"
      ]
     },
     "execution_count": 18,
     "metadata": {},
     "output_type": "execute_result"
    }
   ],
   "source": [
    "s.rstrip()"
   ]
  },
  {
   "cell_type": "code",
   "execution_count": 19,
   "id": "4c31acc5-0a35-4416-839a-08533eea290c",
   "metadata": {},
   "outputs": [],
   "source": [
    "s1='*******Hello Everyone********All the best*******'"
   ]
  },
  {
   "cell_type": "code",
   "execution_count": 20,
   "id": "255481ea-ded3-4d65-8d51-2d438a932616",
   "metadata": {},
   "outputs": [
    {
     "data": {
      "text/plain": [
       "'Hello Everyone********All the best'"
      ]
     },
     "execution_count": 20,
     "metadata": {},
     "output_type": "execute_result"
    }
   ],
   "source": [
    "s1.strip('*')"
   ]
  },
  {
   "cell_type": "code",
   "execution_count": 21,
   "id": "ca2354a8-b828-415c-b7a7-a93c5e9e2991",
   "metadata": {},
   "outputs": [],
   "source": [
    "s='HELLO PYTHON'\n"
   ]
  },
  {
   "cell_type": "code",
   "execution_count": 22,
   "id": "7eed7938-84c0-4243-a3f4-d64f70502e06",
   "metadata": {},
   "outputs": [
    {
     "data": {
      "text/plain": [
       "'hello python'"
      ]
     },
     "execution_count": 22,
     "metadata": {},
     "output_type": "execute_result"
    }
   ],
   "source": [
    "s.lower()"
   ]
  },
  {
   "cell_type": "code",
   "execution_count": 23,
   "id": "eb8f6df8-0199-40bd-86ea-f6b99e5f0f62",
   "metadata": {},
   "outputs": [
    {
     "data": {
      "text/plain": [
       "'HELLO PYTHON'"
      ]
     },
     "execution_count": 23,
     "metadata": {},
     "output_type": "execute_result"
    }
   ],
   "source": [
    "s.upper()"
   ]
  },
  {
   "cell_type": "code",
   "execution_count": 24,
   "id": "d72c0af6-c71f-4ef2-9587-e13641a411dd",
   "metadata": {},
   "outputs": [],
   "source": [
    "S='Hello World'"
   ]
  },
  {
   "cell_type": "code",
   "execution_count": 27,
   "id": "1d003daf-c585-4de0-ba2d-d598201f7d93",
   "metadata": {},
   "outputs": [
    {
     "data": {
      "text/plain": [
       "False"
      ]
     },
     "execution_count": 27,
     "metadata": {},
     "output_type": "execute_result"
    }
   ],
   "source": [
    "S.startswith('he')"
   ]
  },
  {
   "cell_type": "code",
   "execution_count": 28,
   "id": "0487fe5f-9e38-4c76-a49c-43a5cf4367e8",
   "metadata": {},
   "outputs": [
    {
     "data": {
      "text/plain": [
       "True"
      ]
     },
     "execution_count": 28,
     "metadata": {},
     "output_type": "execute_result"
    }
   ],
   "source": [
    "S.startswith(\"He\")"
   ]
  },
  {
   "cell_type": "code",
   "execution_count": 29,
   "id": "296d9510-3d90-4d59-9d35-d8cbbbae7aff",
   "metadata": {},
   "outputs": [
    {
     "data": {
      "text/plain": [
       "True"
      ]
     },
     "execution_count": 29,
     "metadata": {},
     "output_type": "execute_result"
    }
   ],
   "source": [
    "S.endswith('rld')"
   ]
  },
  {
   "cell_type": "code",
   "execution_count": 30,
   "id": "113659f1-33a0-4930-90b9-1c4264415a75",
   "metadata": {},
   "outputs": [],
   "source": [
    "Str='Hi all hope you are doing good'"
   ]
  },
  {
   "cell_type": "code",
   "execution_count": 31,
   "id": "ff128b9b-44a7-44c2-a8b6-aabc952032c9",
   "metadata": {},
   "outputs": [
    {
     "data": {
      "text/plain": [
       "['Hi', 'all', 'hope', 'you', 'are', 'doing', 'good']"
      ]
     },
     "execution_count": 31,
     "metadata": {},
     "output_type": "execute_result"
    }
   ],
   "source": [
    "Str.split()"
   ]
  },
  {
   "cell_type": "code",
   "execution_count": 32,
   "id": "0feaa42f-1f1a-41dc-87a4-76898d87b907",
   "metadata": {},
   "outputs": [
    {
     "data": {
      "text/plain": [
       "['Hi all hop', ' you ar', ' doing good']"
      ]
     },
     "execution_count": 32,
     "metadata": {},
     "output_type": "execute_result"
    }
   ],
   "source": [
    "Str.split('e')"
   ]
  },
  {
   "cell_type": "code",
   "execution_count": 33,
   "id": "c795ffde-f320-4e9f-902a-95bc66bc4430",
   "metadata": {},
   "outputs": [],
   "source": [
    "date='25/06/2025'"
   ]
  },
  {
   "cell_type": "code",
   "execution_count": 34,
   "id": "c339ad98-6926-4c0f-b4ed-058ee809c1f6",
   "metadata": {},
   "outputs": [
    {
     "data": {
      "text/plain": [
       "['25', '06', '2025']"
      ]
     },
     "execution_count": 34,
     "metadata": {},
     "output_type": "execute_result"
    }
   ],
   "source": [
    "date.split('/')"
   ]
  },
  {
   "cell_type": "markdown",
   "id": "bf24cab4-f71e-43b6-9540-49445fdc5374",
   "metadata": {},
   "source": [
    "## List"
   ]
  },
  {
   "cell_type": "code",
   "execution_count": 1,
   "id": "c192fb77-82bc-45d3-8b08-8d1293a9ec96",
   "metadata": {},
   "outputs": [
    {
     "data": {
      "text/plain": [
       "'seven'"
      ]
     },
     "execution_count": 1,
     "metadata": {},
     "output_type": "execute_result"
    }
   ],
   "source": [
    "mylist = ['one','two','three','four','five','six','seven','eight']\n",
    "mylist[6]"
   ]
  },
  {
   "cell_type": "code",
   "execution_count": 2,
   "id": "5e5c9600-703a-4a14-abd4-593c11c21dbe",
   "metadata": {},
   "outputs": [
    {
     "data": {
      "text/plain": [
       "['one', 'two', 'three', 'four', 'five', 'six', 'seven', 'eight', 'nine']"
      ]
     },
     "execution_count": 2,
     "metadata": {},
     "output_type": "execute_result"
    }
   ],
   "source": [
    "mylist.append('nine')\n",
    "mylist"
   ]
  },
  {
   "cell_type": "code",
   "execution_count": 3,
   "id": "e40a5a80-d603-4999-8699-c9fb4e2e467b",
   "metadata": {},
   "outputs": [
    {
     "data": {
      "text/plain": [
       "['one', 'two', 'three', 'four', 'five', 'six', 'seven', 'eight', 'nine', 2]"
      ]
     },
     "execution_count": 3,
     "metadata": {},
     "output_type": "execute_result"
    }
   ],
   "source": [
    "mylist.append(2)\n",
    "mylist"
   ]
  },
  {
   "cell_type": "code",
   "execution_count": 4,
   "id": "bc0cbd19-ab4a-4bdf-a98e-8097e01a01d0",
   "metadata": {},
   "outputs": [
    {
     "data": {
      "text/plain": [
       "['one',\n",
       " 'two',\n",
       " 'three',\n",
       " 'ten',\n",
       " 'four',\n",
       " 'five',\n",
       " 'six',\n",
       " 'seven',\n",
       " 'eight',\n",
       " 'nine',\n",
       " 2]"
      ]
     },
     "execution_count": 4,
     "metadata": {},
     "output_type": "execute_result"
    }
   ],
   "source": [
    "mylist.insert(3,'ten')\n",
    "mylist"
   ]
  },
  {
   "cell_type": "code",
   "execution_count": 5,
   "id": "0cf3f4b1-5c80-42fa-b4c6-dd8fd5bf2639",
   "metadata": {},
   "outputs": [],
   "source": [
    "mylist.extend([1,2,3])"
   ]
  },
  {
   "cell_type": "code",
   "execution_count": 6,
   "id": "7359c902-540c-419f-a3d9-1f35ecede643",
   "metadata": {},
   "outputs": [
    {
     "data": {
      "text/plain": [
       "['one',\n",
       " 'two',\n",
       " 'three',\n",
       " 'ten',\n",
       " 'four',\n",
       " 'five',\n",
       " 'six',\n",
       " 'seven',\n",
       " 'eight',\n",
       " 'nine',\n",
       " 2,\n",
       " 1,\n",
       " 2,\n",
       " 3]"
      ]
     },
     "execution_count": 6,
     "metadata": {},
     "output_type": "execute_result"
    }
   ],
   "source": [
    "mylist"
   ]
  },
  {
   "cell_type": "code",
   "execution_count": 7,
   "id": "d8badb07-37c9-4762-90e1-bd1faaf1b6d0",
   "metadata": {},
   "outputs": [
    {
     "data": {
      "text/plain": [
       "3"
      ]
     },
     "execution_count": 7,
     "metadata": {},
     "output_type": "execute_result"
    }
   ],
   "source": [
    "mylist.pop()"
   ]
  },
  {
   "cell_type": "code",
   "execution_count": 8,
   "id": "ce7aa922-5aa2-4632-a2e2-5faaf6d5b7ef",
   "metadata": {},
   "outputs": [
    {
     "data": {
      "text/plain": [
       "['one',\n",
       " 'two',\n",
       " 'three',\n",
       " 'ten',\n",
       " 'four',\n",
       " 'five',\n",
       " 'six',\n",
       " 'seven',\n",
       " 'eight',\n",
       " 'nine',\n",
       " 2,\n",
       " 1,\n",
       " 2]"
      ]
     },
     "execution_count": 8,
     "metadata": {},
     "output_type": "execute_result"
    }
   ],
   "source": [
    "mylist"
   ]
  },
  {
   "cell_type": "code",
   "execution_count": 9,
   "id": "c1cacca1-b032-4782-95d6-7806b8491830",
   "metadata": {},
   "outputs": [],
   "source": [
    "mylist.remove('four')"
   ]
  },
  {
   "cell_type": "code",
   "execution_count": 10,
   "id": "4c63f0a4-4f52-43a7-b224-f3418585ca64",
   "metadata": {},
   "outputs": [
    {
     "data": {
      "text/plain": [
       "['one',\n",
       " 'two',\n",
       " 'three',\n",
       " 'ten',\n",
       " 'five',\n",
       " 'six',\n",
       " 'seven',\n",
       " 'eight',\n",
       " 'nine',\n",
       " 2,\n",
       " 1,\n",
       " 2]"
      ]
     },
     "execution_count": 10,
     "metadata": {},
     "output_type": "execute_result"
    }
   ],
   "source": [
    "mylist"
   ]
  },
  {
   "cell_type": "code",
   "execution_count": 11,
   "id": "118c13e0-d5a9-4eaf-aa61-9ae739c30e25",
   "metadata": {},
   "outputs": [],
   "source": [
    "mylist.clear()"
   ]
  },
  {
   "cell_type": "code",
   "execution_count": 12,
   "id": "a4b7a568-52a9-4273-b261-febaa8947f80",
   "metadata": {},
   "outputs": [
    {
     "data": {
      "text/plain": [
       "[]"
      ]
     },
     "execution_count": 12,
     "metadata": {},
     "output_type": "execute_result"
    }
   ],
   "source": [
    "mylist"
   ]
  },
  {
   "cell_type": "code",
   "execution_count": 13,
   "id": "ccd41615-dac3-4be3-b91a-b95a3ee47090",
   "metadata": {},
   "outputs": [],
   "source": [
    "del mylist"
   ]
  },
  {
   "cell_type": "code",
   "execution_count": 14,
   "id": "8c9127f0-f6bf-41ac-b258-dae881679aba",
   "metadata": {},
   "outputs": [
    {
     "ename": "NameError",
     "evalue": "name 'mylist' is not defined",
     "output_type": "error",
     "traceback": [
      "\u001b[1;31m---------------------------------------------------------------------------\u001b[0m",
      "\u001b[1;31mNameError\u001b[0m                                 Traceback (most recent call last)",
      "Cell \u001b[1;32mIn[14], line 1\u001b[0m\n\u001b[1;32m----> 1\u001b[0m mylist\n",
      "\u001b[1;31mNameError\u001b[0m: name 'mylist' is not defined"
     ]
    }
   ],
   "source": [
    "mylist"
   ]
  },
  {
   "cell_type": "code",
   "execution_count": 22,
   "id": "b9a4dde1-551f-478d-bfcf-58838a6a7de8",
   "metadata": {},
   "outputs": [],
   "source": [
    "l1=['one','two','three','four']\n",
    "l2=['five','six','seven','eight']"
   ]
  },
  {
   "cell_type": "code",
   "execution_count": 28,
   "id": "f66cfb27-1174-4fdf-90e9-0983221d8765",
   "metadata": {},
   "outputs": [
    {
     "data": {
      "text/plain": [
       "['one', 'two', 'three', 'four', 'five', 'six', 'seven', 'eight']"
      ]
     },
     "execution_count": 28,
     "metadata": {},
     "output_type": "execute_result"
    }
   ],
   "source": [
    "l3=l1+l2\n",
    "l3"
   ]
  },
  {
   "cell_type": "code",
   "execution_count": 29,
   "id": "51a225bc-546d-42e0-a60a-d41ffe06b065",
   "metadata": {},
   "outputs": [],
   "source": [
    "L=[1,2,3,4,5,6,7,8]"
   ]
  },
  {
   "cell_type": "code",
   "execution_count": 30,
   "id": "23ec0498-2221-4cd3-b35b-09548d4cead3",
   "metadata": {},
   "outputs": [
    {
     "data": {
      "text/plain": [
       "True"
      ]
     },
     "execution_count": 30,
     "metadata": {},
     "output_type": "execute_result"
    }
   ],
   "source": [
    "5 in L"
   ]
  },
  {
   "cell_type": "code",
   "execution_count": 31,
   "id": "d73a604c-7040-43f3-b40d-79c7c288c811",
   "metadata": {},
   "outputs": [
    {
     "data": {
      "text/plain": [
       "False"
      ]
     },
     "execution_count": 31,
     "metadata": {},
     "output_type": "execute_result"
    }
   ],
   "source": [
    "5.5 in L"
   ]
  },
  {
   "cell_type": "code",
   "execution_count": 39,
   "id": "4e67933c-0038-468e-91cf-a8782afeaf4f",
   "metadata": {},
   "outputs": [],
   "source": [
    "l=[5,7,2,9,1,0,42]"
   ]
  },
  {
   "cell_type": "code",
   "execution_count": 40,
   "id": "e461db67-6e32-47a1-9f05-eb1c944fd2cf",
   "metadata": {},
   "outputs": [],
   "source": [
    "l.reverse()"
   ]
  },
  {
   "cell_type": "code",
   "execution_count": 41,
   "id": "e3b8060d-5182-4120-8f79-332ad0bcd59d",
   "metadata": {},
   "outputs": [
    {
     "data": {
      "text/plain": [
       "[42, 0, 1, 9, 2, 7, 5]"
      ]
     },
     "execution_count": 41,
     "metadata": {},
     "output_type": "execute_result"
    }
   ],
   "source": [
    "l"
   ]
  },
  {
   "cell_type": "code",
   "execution_count": 42,
   "id": "65fe62fc-8df3-4a83-b901-59a06f1bc1fe",
   "metadata": {},
   "outputs": [],
   "source": [
    "l.sort()"
   ]
  },
  {
   "cell_type": "code",
   "execution_count": 43,
   "id": "7843c3ea-1550-4525-8f7c-11d063a7871f",
   "metadata": {},
   "outputs": [
    {
     "data": {
      "text/plain": [
       "[0, 1, 2, 5, 7, 9, 42]"
      ]
     },
     "execution_count": 43,
     "metadata": {},
     "output_type": "execute_result"
    }
   ],
   "source": [
    "l"
   ]
  },
  {
   "cell_type": "code",
   "execution_count": 44,
   "id": "5b4bead5-1fb4-4eb7-a1a2-99f5608b4bf1",
   "metadata": {},
   "outputs": [],
   "source": [
    "l.sort(reverse=True)"
   ]
  },
  {
   "cell_type": "code",
   "execution_count": 45,
   "id": "453e73a4-445e-42bd-bffd-2e9f396f09f9",
   "metadata": {},
   "outputs": [
    {
     "data": {
      "text/plain": [
       "[42, 9, 7, 5, 2, 1, 0]"
      ]
     },
     "execution_count": 45,
     "metadata": {},
     "output_type": "execute_result"
    }
   ],
   "source": [
    "l"
   ]
  },
  {
   "cell_type": "code",
   "execution_count": 46,
   "id": "a1057aff-8f63-4e07-9061-64a8bebbaa64",
   "metadata": {},
   "outputs": [],
   "source": [
    "l1=[1,2,3,4,6]\n",
    "l3=[1,2,3,4,0]"
   ]
  },
  {
   "cell_type": "code",
   "execution_count": 47,
   "id": "58b0f96e-7953-40a8-8911-3721fff624d2",
   "metadata": {},
   "outputs": [
    {
     "name": "stdout",
     "output_type": "stream",
     "text": [
      "True\n",
      "True\n"
     ]
    }
   ],
   "source": [
    "print(all(l1))\n",
    "print(any(l1))"
   ]
  },
  {
   "cell_type": "code",
   "execution_count": 48,
   "id": "69926fc5-78ca-49cb-a573-60b1ca592618",
   "metadata": {},
   "outputs": [
    {
     "name": "stdout",
     "output_type": "stream",
     "text": [
      "False\n",
      "True\n"
     ]
    }
   ],
   "source": [
    "print(all(l3))\n",
    "print(any(l3))"
   ]
  },
  {
   "cell_type": "code",
   "execution_count": 49,
   "id": "c9670fec-1e2d-4d74-b842-f159fd968d2d",
   "metadata": {},
   "outputs": [],
   "source": [
    "l2=['a','c','d']"
   ]
  },
  {
   "cell_type": "code",
   "execution_count": 50,
   "id": "3c188bd3-957a-4e1a-96ad-11063b03cccc",
   "metadata": {},
   "outputs": [
    {
     "name": "stdout",
     "output_type": "stream",
     "text": [
      "True\n",
      "True\n"
     ]
    }
   ],
   "source": [
    "print(any(l2))\n",
    "print(all(l2))"
   ]
  },
  {
   "cell_type": "markdown",
   "id": "8ac032e8-831c-4d51-99dc-f480bcb933c9",
   "metadata": {},
   "source": [
    "# 26th June "
   ]
  },
  {
   "cell_type": "markdown",
   "id": "b89ce6d7-4a7a-4690-9856-7627085be2ed",
   "metadata": {},
   "source": [
    "## Tuple"
   ]
  },
  {
   "cell_type": "code",
   "execution_count": 2,
   "id": "d631de6d-da86-48bd-9ebd-99a08b81c121",
   "metadata": {},
   "outputs": [],
   "source": [
    "t = (1,2,'Data', 2.34, True)"
   ]
  },
  {
   "cell_type": "code",
   "execution_count": 3,
   "id": "1f3b6daf-e4d7-41dc-a0ab-c81a172a5df7",
   "metadata": {},
   "outputs": [],
   "source": [
    "t1=1,2,3,4"
   ]
  },
  {
   "cell_type": "code",
   "execution_count": 4,
   "id": "48ef1553-2197-41fb-851e-a9d6f3b5f3fb",
   "metadata": {},
   "outputs": [
    {
     "data": {
      "text/plain": [
       "(1, 2, 3, 4)"
      ]
     },
     "execution_count": 4,
     "metadata": {},
     "output_type": "execute_result"
    }
   ],
   "source": [
    "t1"
   ]
  },
  {
   "cell_type": "code",
   "execution_count": 5,
   "id": "3b318336-48e5-4834-ae9d-2758741fe721",
   "metadata": {},
   "outputs": [
    {
     "data": {
      "text/plain": [
       "tuple"
      ]
     },
     "execution_count": 5,
     "metadata": {},
     "output_type": "execute_result"
    }
   ],
   "source": [
    "type(t1)"
   ]
  },
  {
   "cell_type": "code",
   "execution_count": 7,
   "id": "785dd779-2c44-40fd-91cf-908c34b51bf8",
   "metadata": {},
   "outputs": [
    {
     "ename": "TypeError",
     "evalue": "'tuple' object does not support item assignment",
     "output_type": "error",
     "traceback": [
      "\u001b[1;31m---------------------------------------------------------------------------\u001b[0m",
      "\u001b[1;31mTypeError\u001b[0m                                 Traceback (most recent call last)",
      "Cell \u001b[1;32mIn[7], line 1\u001b[0m\n\u001b[1;32m----> 1\u001b[0m t1[\u001b[38;5;241m2\u001b[39m] \u001b[38;5;241m=\u001b[39m \u001b[38;5;241m99\u001b[39m\n",
      "\u001b[1;31mTypeError\u001b[0m: 'tuple' object does not support item assignment"
     ]
    }
   ],
   "source": [
    "t1[2] = 99"
   ]
  },
  {
   "cell_type": "code",
   "execution_count": 8,
   "id": "fcb875d8-2a7e-4a23-8e95-a866353502be",
   "metadata": {},
   "outputs": [],
   "source": [
    "# write from python essentials 2"
   ]
  },
  {
   "cell_type": "code",
   "execution_count": null,
   "id": "d6764af1-fb46-4cff-bb86-741964b92a83",
   "metadata": {},
   "outputs": [],
   "source": []
  },
  {
   "cell_type": "markdown",
   "id": "0cd913be-7287-45e3-8af1-07a8262a9880",
   "metadata": {},
   "source": [
    "## Practice of tuple and list"
   ]
  },
  {
   "cell_type": "code",
   "execution_count": 37,
   "id": "352b5470-b605-49d3-9673-10268a858b87",
   "metadata": {},
   "outputs": [],
   "source": [
    "l = [13,(11,2,[8,(5,4,[1,(2,3)],6,7),9,10])] # write this in notebook"
   ]
  },
  {
   "cell_type": "code",
   "execution_count": 38,
   "id": "996a8fa0-b433-409b-b3fe-78a7d7081873",
   "metadata": {},
   "outputs": [
    {
     "data": {
      "text/plain": [
       "3"
      ]
     },
     "execution_count": 38,
     "metadata": {},
     "output_type": "execute_result"
    }
   ],
   "source": [
    "l[1][2][1][2][1][1]"
   ]
  },
  {
   "cell_type": "markdown",
   "id": "66a1a466-bc31-4248-b336-0cdd39e3bdb4",
   "metadata": {},
   "source": [
    "## Set"
   ]
  },
  {
   "cell_type": "code",
   "execution_count": 9,
   "id": "33486e12-fc96-4c9b-a14d-e26e1c6e0314",
   "metadata": {},
   "outputs": [],
   "source": [
    "# write from python essentials 2"
   ]
  },
  {
   "cell_type": "code",
   "execution_count": 32,
   "id": "d06831a4-6df8-48b1-ab6c-7426efded359",
   "metadata": {},
   "outputs": [
    {
     "data": {
      "text/plain": [
       "{1, 2, 3, 4, 5, 6}"
      ]
     },
     "execution_count": 32,
     "metadata": {},
     "output_type": "execute_result"
    }
   ],
   "source": [
    "s1={1,2,3,4,5,6}\n",
    "s1"
   ]
  },
  {
   "cell_type": "code",
   "execution_count": 31,
   "id": "03204a05-f283-4a70-9c3f-5e55f5d9a45d",
   "metadata": {},
   "outputs": [
    {
     "data": {
      "text/plain": [
       "{11, 22, 33, 44}"
      ]
     },
     "execution_count": 31,
     "metadata": {},
     "output_type": "execute_result"
    }
   ],
   "source": [
    "s2={11,22,33,44,33,22}\n",
    "s2"
   ]
  },
  {
   "cell_type": "code",
   "execution_count": 33,
   "id": "a84754c9-be10-4f9f-89b6-f51a414c828e",
   "metadata": {},
   "outputs": [],
   "source": [
    "s = {}"
   ]
  },
  {
   "cell_type": "code",
   "execution_count": 34,
   "id": "d9d30c3e-5460-425d-a33f-fdf8b16fd2b5",
   "metadata": {},
   "outputs": [
    {
     "data": {
      "text/plain": [
       "dict"
      ]
     },
     "execution_count": 34,
     "metadata": {},
     "output_type": "execute_result"
    }
   ],
   "source": [
    "type(s)"
   ]
  },
  {
   "cell_type": "code",
   "execution_count": 36,
   "id": "21b833a0-e09d-47b9-bd90-d8457303aa86",
   "metadata": {},
   "outputs": [
    {
     "data": {
      "text/plain": [
       "set"
      ]
     },
     "execution_count": 36,
     "metadata": {},
     "output_type": "execute_result"
    }
   ],
   "source": [
    "s=set()\n",
    "type(s)"
   ]
  },
  {
   "cell_type": "code",
   "execution_count": 12,
   "id": "24f8e44b-8582-4c96-b26c-409bd56473a7",
   "metadata": {},
   "outputs": [
    {
     "data": {
      "text/plain": [
       "{11, 22, 33, 44}"
      ]
     },
     "execution_count": 12,
     "metadata": {},
     "output_type": "execute_result"
    }
   ],
   "source": [
    "s2"
   ]
  },
  {
   "cell_type": "code",
   "execution_count": 13,
   "id": "37760241-76d0-4859-a50c-73701b76464d",
   "metadata": {},
   "outputs": [
    {
     "ename": "TypeError",
     "evalue": "'set' object is not subscriptable",
     "output_type": "error",
     "traceback": [
      "\u001b[1;31m---------------------------------------------------------------------------\u001b[0m",
      "\u001b[1;31mTypeError\u001b[0m                                 Traceback (most recent call last)",
      "Cell \u001b[1;32mIn[13], line 1\u001b[0m\n\u001b[1;32m----> 1\u001b[0m s2[\u001b[38;5;241m0\u001b[39m]\n",
      "\u001b[1;31mTypeError\u001b[0m: 'set' object is not subscriptable"
     ]
    }
   ],
   "source": [
    "s2[0]"
   ]
  },
  {
   "cell_type": "code",
   "execution_count": 16,
   "id": "0e2e671a-2e21-4fa1-b3c1-11fcca27166d",
   "metadata": {},
   "outputs": [],
   "source": [
    "s = (5,7,8,[9,10,11],12,13)"
   ]
  },
  {
   "cell_type": "code",
   "execution_count": 18,
   "id": "a5d2b43f-c71c-4260-a4dc-8687cdfb1c6e",
   "metadata": {},
   "outputs": [
    {
     "data": {
      "text/plain": [
       "(5, 7, 8, [9, 10, 11], 12, 13)"
      ]
     },
     "execution_count": 18,
     "metadata": {},
     "output_type": "execute_result"
    }
   ],
   "source": [
    "s"
   ]
  },
  {
   "cell_type": "code",
   "execution_count": 25,
   "id": "d98f02b8-4600-4dd6-a440-e34d62d61bd9",
   "metadata": {},
   "outputs": [],
   "source": [
    "s[3][1]='ten'"
   ]
  },
  {
   "cell_type": "code",
   "execution_count": 26,
   "id": "3b51ae11-635d-43f5-9bf9-ee2f23a5e231",
   "metadata": {},
   "outputs": [
    {
     "data": {
      "text/plain": [
       "(5, 7, 8, [9, 'ten', 11], 12, 13)"
      ]
     },
     "execution_count": 26,
     "metadata": {},
     "output_type": "execute_result"
    }
   ],
   "source": [
    "s"
   ]
  },
  {
   "cell_type": "markdown",
   "id": "c5099516-2a59-429e-9e1a-a79a6145ba6f",
   "metadata": {},
   "source": [
    "## Dictionary"
   ]
  },
  {
   "cell_type": "code",
   "execution_count": 39,
   "id": "82199518-9f82-4c15-a2d0-5153f1c427ee",
   "metadata": {},
   "outputs": [],
   "source": [
    "d = {}"
   ]
  },
  {
   "cell_type": "code",
   "execution_count": 40,
   "id": "af93df81-d13f-4d2d-aa4a-7390ab4c0a44",
   "metadata": {},
   "outputs": [
    {
     "data": {
      "text/plain": [
       "dict"
      ]
     },
     "execution_count": 40,
     "metadata": {},
     "output_type": "execute_result"
    }
   ],
   "source": [
    "type(d)"
   ]
  },
  {
   "cell_type": "code",
   "execution_count": 1,
   "id": "dc4d109d-e5df-47ba-b1ce-f524c5de7db6",
   "metadata": {},
   "outputs": [],
   "source": [
    "d={'id':1, 'name':'swarali', 'loc':'Surendranagar'}"
   ]
  },
  {
   "cell_type": "code",
   "execution_count": 42,
   "id": "a098b2c7-f91a-424e-b8f0-723025caa358",
   "metadata": {},
   "outputs": [
    {
     "data": {
      "text/plain": [
       "{'id': 1, 'name': 'swarali', 'loc': 'Surendranagar'}"
      ]
     },
     "execution_count": 42,
     "metadata": {},
     "output_type": "execute_result"
    }
   ],
   "source": [
    "d"
   ]
  },
  {
   "cell_type": "code",
   "execution_count": 43,
   "id": "0f619fdc-c713-4bfe-b5c1-f60076317085",
   "metadata": {},
   "outputs": [
    {
     "data": {
      "text/plain": [
       "dict_keys(['id', 'name', 'loc'])"
      ]
     },
     "execution_count": 43,
     "metadata": {},
     "output_type": "execute_result"
    }
   ],
   "source": [
    "d.keys()"
   ]
  },
  {
   "cell_type": "code",
   "execution_count": 44,
   "id": "d7f5124f-602f-4f2b-9744-eb6c455d2aa4",
   "metadata": {},
   "outputs": [
    {
     "data": {
      "text/plain": [
       "dict_values([1, 'swarali', 'Surendranagar'])"
      ]
     },
     "execution_count": 44,
     "metadata": {},
     "output_type": "execute_result"
    }
   ],
   "source": [
    "d.values()"
   ]
  },
  {
   "cell_type": "code",
   "execution_count": 45,
   "id": "d77cc3c7-59b3-4df9-bfcb-fd77dde37860",
   "metadata": {},
   "outputs": [
    {
     "ename": "KeyError",
     "evalue": "0",
     "output_type": "error",
     "traceback": [
      "\u001b[1;31m---------------------------------------------------------------------------\u001b[0m",
      "\u001b[1;31mKeyError\u001b[0m                                  Traceback (most recent call last)",
      "Cell \u001b[1;32mIn[45], line 1\u001b[0m\n\u001b[1;32m----> 1\u001b[0m d[\u001b[38;5;241m0\u001b[39m]\n",
      "\u001b[1;31mKeyError\u001b[0m: 0"
     ]
    }
   ],
   "source": [
    "d[0]"
   ]
  },
  {
   "cell_type": "code",
   "execution_count": 6,
   "id": "f5778b2c-7757-4936-a322-e18b520b7999",
   "metadata": {},
   "outputs": [],
   "source": [
    "d['id'] = 1"
   ]
  },
  {
   "cell_type": "code",
   "execution_count": 47,
   "id": "d5187027-9ca9-4f59-b2a3-4657d3187251",
   "metadata": {},
   "outputs": [
    {
     "data": {
      "text/plain": [
       "'swarali'"
      ]
     },
     "execution_count": 47,
     "metadata": {},
     "output_type": "execute_result"
    }
   ],
   "source": [
    "d['name']"
   ]
  },
  {
   "cell_type": "code",
   "execution_count": 8,
   "id": "2a17de36-cab5-42c5-bbb8-fd247e42d1bf",
   "metadata": {},
   "outputs": [],
   "source": [
    "d['name'] = 'Swarali'"
   ]
  },
  {
   "cell_type": "code",
   "execution_count": 9,
   "id": "53c31bdf-219b-4465-96a0-f8fdf074f542",
   "metadata": {},
   "outputs": [
    {
     "data": {
      "text/plain": [
       "{'id': 1, 'name': 'Swarali', 'loc': 'Surendranagar'}"
      ]
     },
     "execution_count": 9,
     "metadata": {},
     "output_type": "execute_result"
    }
   ],
   "source": [
    "d"
   ]
  },
  {
   "cell_type": "code",
   "execution_count": 12,
   "id": "bd0468b6-e938-4aba-bb23-af1eff7fa3a6",
   "metadata": {},
   "outputs": [],
   "source": [
    "d['friend_name'] = 'Anuj'"
   ]
  },
  {
   "cell_type": "code",
   "execution_count": 13,
   "id": "e86cd63a-2050-4e23-9266-c7e1c1ceb9f8",
   "metadata": {},
   "outputs": [
    {
     "data": {
      "text/plain": [
       "{'id': 1, 'name': 'Swarali', 'loc': 'Surendranagar', 'friend_name': 'Anuj'}"
      ]
     },
     "execution_count": 13,
     "metadata": {},
     "output_type": "execute_result"
    }
   ],
   "source": [
    "d"
   ]
  },
  {
   "cell_type": "code",
   "execution_count": 14,
   "id": "4e238d3e-ff0e-4f9e-838a-82b84c321f3d",
   "metadata": {},
   "outputs": [
    {
     "data": {
      "text/plain": [
       "dict_items([('id', 1), ('name', 'Swarali'), ('loc', 'Surendranagar'), ('friend_name', 'Anuj')])"
      ]
     },
     "execution_count": 14,
     "metadata": {},
     "output_type": "execute_result"
    }
   ],
   "source": [
    "d.items() #list of tuple "
   ]
  },
  {
   "cell_type": "code",
   "execution_count": 70,
   "id": "ebdd1954-388e-409d-a424-099417b49453",
   "metadata": {},
   "outputs": [],
   "source": [
    "d.update({'place':'MP'})"
   ]
  },
  {
   "cell_type": "code",
   "execution_count": 71,
   "id": "8d66c17b-cf72-41af-9ded-e268d587e62b",
   "metadata": {},
   "outputs": [
    {
     "data": {
      "text/plain": [
       "{'id': 1, 'name': 'Swarali', 'loc': 'Surendranagar', 'place': 'MP'}"
      ]
     },
     "execution_count": 71,
     "metadata": {},
     "output_type": "execute_result"
    }
   ],
   "source": [
    "d"
   ]
  },
  {
   "cell_type": "code",
   "execution_count": 72,
   "id": "3835823d-9c66-4d9f-836c-846fc75b09f8",
   "metadata": {},
   "outputs": [
    {
     "data": {
      "text/plain": [
       "'MP'"
      ]
     },
     "execution_count": 72,
     "metadata": {},
     "output_type": "execute_result"
    }
   ],
   "source": [
    "d.pop('place')"
   ]
  },
  {
   "cell_type": "code",
   "execution_count": 73,
   "id": "a501bba7-5f7a-4e5c-8e47-e309a4c1a03d",
   "metadata": {},
   "outputs": [
    {
     "data": {
      "text/plain": [
       "{'id': 1, 'name': 'Swarali', 'loc': 'Surendranagar'}"
      ]
     },
     "execution_count": 73,
     "metadata": {},
     "output_type": "execute_result"
    }
   ],
   "source": [
    "d"
   ]
  },
  {
   "cell_type": "code",
   "execution_count": 82,
   "id": "bbda8650-4b60-433a-a3c8-0fe77fa8bde4",
   "metadata": {},
   "outputs": [],
   "source": [
    "# Practice\n",
    "v=[0,1,2,3,[8,{5:[67,89,(90,{'area':'Kudlu','city':'Bangalore'})]}]]"
   ]
  },
  {
   "cell_type": "code",
   "execution_count": 83,
   "id": "9353c157-fdd1-4704-838c-584eedc3d2e6",
   "metadata": {},
   "outputs": [
    {
     "data": {
      "text/plain": [
       "'Bangalore'"
      ]
     },
     "execution_count": 83,
     "metadata": {},
     "output_type": "execute_result"
    }
   ],
   "source": [
    "v[4][1][5][2][1]['city']"
   ]
  }
 ],
 "metadata": {
  "kernelspec": {
   "display_name": "Python 3 (ipykernel)",
   "language": "python",
   "name": "python3"
  },
  "language_info": {
   "codemirror_mode": {
    "name": "ipython",
    "version": 3
   },
   "file_extension": ".py",
   "mimetype": "text/x-python",
   "name": "python",
   "nbconvert_exporter": "python",
   "pygments_lexer": "ipython3",
   "version": "3.12.7"
  }
 },
 "nbformat": 4,
 "nbformat_minor": 5
}
