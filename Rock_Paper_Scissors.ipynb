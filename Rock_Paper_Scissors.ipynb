{
 "cells": [
  {
   "cell_type": "code",
   "execution_count": 5,
   "id": "a1898b37-a8bb-4239-bf32-ee781189c530",
   "metadata": {},
   "outputs": [
    {
     "name": "stdin",
     "output_type": "stream",
     "text": [
      "Enter your choice (Rock/Paper/Scissors): Scissors\n"
     ]
    },
    {
     "name": "stdout",
     "output_type": "stream",
     "text": [
      "Your choice: Scissors \n",
      "Computer's choice: Paper\n",
      "Scissors beat paper\n",
      "You win\n"
     ]
    }
   ],
   "source": [
    "import random\n",
    "\n",
    "item = ['Rock', 'Paper', 'Scissors']\n",
    "user = input(\"Enter your choice (Rock/Paper/Scissors):\")\n",
    "comp = random.choice(item)\n",
    "\n",
    "print(f\"Your choice: {user} \\nComputer's choice: {comp}\")\n",
    "\n",
    "if user == comp: \n",
    "    print(\"Match tie\")\n",
    "    print(\"Try again\")\n",
    "elif user == item[0] and comp == item[1]: \n",
    "    print('Paper covers Rock')\n",
    "    print(\"You lose\")\n",
    "elif user == item[0] and comp == item[2]: \n",
    "    print(\"Rock beats Scissors\")\n",
    "    print(\"You win\")\n",
    "elif user == item[1] and comp == item[0]: \n",
    "    print('Paper covers Rock')\n",
    "    print(\"You win\")\n",
    "elif user == item[1] and comp == item[2]: \n",
    "    print(\"Scissors beat paper\")\n",
    "    print(\"You lose\")\n",
    "elif user == item[2] and comp == item[0]: \n",
    "    print(\"Rock beats scissors\")\n",
    "    print(\"You lose\")\n",
    "elif user == item[2] and comp == item[1]:\n",
    "    print(\"Scissors beat paper\")\n",
    "    print(\"You win\")\n",
    "else: \n",
    "    print(\"Enter valid choice\")"
   ]
  },
  {
   "cell_type": "code",
   "execution_count": null,
   "id": "992a5272-33ed-4984-96e1-141a53c568bb",
   "metadata": {},
   "outputs": [],
   "source": []
  }
 ],
 "metadata": {
  "kernelspec": {
   "display_name": "Python 3 (ipykernel)",
   "language": "python",
   "name": "python3"
  },
  "language_info": {
   "codemirror_mode": {
    "name": "ipython",
    "version": 3
   },
   "file_extension": ".py",
   "mimetype": "text/x-python",
   "name": "python",
   "nbconvert_exporter": "python",
   "pygments_lexer": "ipython3",
   "version": "3.12.7"
  }
 },
 "nbformat": 4,
 "nbformat_minor": 5
}
