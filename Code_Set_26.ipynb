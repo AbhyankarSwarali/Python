{
 "cells": [
  {
   "cell_type": "code",
   "execution_count": 2,
   "id": "7161a8c8-0991-492a-8ac0-b62bcc094b64",
   "metadata": {},
   "outputs": [
    {
     "name": "stdout",
     "output_type": "stream",
     "text": [
      "[1]\n",
      "[1, 1]\n",
      "[1, 2, 1]\n",
      "[1, 3, 3, 1]\n",
      "[1, 4, 6, 4, 1]\n",
      "[1, 5, 10, 10, 5, 1]\n"
     ]
    }
   ],
   "source": [
    "# 114. Pascal's Triangle\n",
    "def pascal(n): \n",
    "    r = [1]\n",
    "\n",
    "    for i in range(n): \n",
    "        print(r)\n",
    "        tr = [0] + r\n",
    "        r = r + [0]\n",
    "        nr = [x+y for x,y in zip(r, tr)]\n",
    "        r = nr\n",
    "\n",
    "pascal(6)"
   ]
  },
  {
   "cell_type": "code",
   "execution_count": 3,
   "id": "d4387008-4862-4775-9345-e5bcaaeb75b4",
   "metadata": {},
   "outputs": [
    {
     "name": "stdout",
     "output_type": "stream",
     "text": [
      "1 2 3 4 5\n"
     ]
    }
   ],
   "source": [
    "# 115. Flattening Nested List\n",
    "def flatten(L): \n",
    "    for x in L: \n",
    "        if hasattr(x, '__iter__'): \n",
    "            yield from flatten(x)\n",
    "        else: \n",
    "            yield x\n",
    "\n",
    "f = flatten([1,2,[3,4,[5,6],7],8])\n",
    "print(next(f), end=' ')\n",
    "print(next(f), end=' ')\n",
    "print(next(f), end=' ')\n",
    "print(next(f), end=' ')\n",
    "print(next(f))"
   ]
  }
 ],
 "metadata": {
  "kernelspec": {
   "display_name": "Python [conda env:base] *",
   "language": "python",
   "name": "conda-base-py"
  },
  "language_info": {
   "codemirror_mode": {
    "name": "ipython",
    "version": 3
   },
   "file_extension": ".py",
   "mimetype": "text/x-python",
   "name": "python",
   "nbconvert_exporter": "python",
   "pygments_lexer": "ipython3",
   "version": "3.12.7"
  }
 },
 "nbformat": 4,
 "nbformat_minor": 5
}
