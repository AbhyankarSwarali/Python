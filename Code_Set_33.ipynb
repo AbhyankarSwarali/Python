{
 "cells": [
  {
   "cell_type": "code",
   "execution_count": null,
   "id": "dfc92172-478b-4cd3-9aa5-b89d4f73c14c",
   "metadata": {},
   "outputs": [],
   "source": [
    "# 134. Student \n",
    "class Student: \n",
    "    def __init__(self, roll, name, dept): \n",
    "        self.roll = roll\n",
    "        self.name = name\n",
    "        self.dept = dept\n",
    "\n",
    "    def display(self): \n",
    "        print(f'Name: {self.name} \\nRoll no: {self.roll} \\n Department: {self.dept} \\n')"
   ]
  },
  {
   "cell_type": "code",
   "execution_count": null,
   "id": "28519a26-7f44-4f01-a8fd-833687fcf358",
   "metadata": {},
   "outputs": [],
   "source": [
    "# 135. Storing data \n",
    "import Student, pickle\n",
    "\n",
    "studs = [Student.Student(1, 'Alex', 'Physics'),\n",
    "         Student.Student(2, 'Bob', 'Maths'),\n",
    "         Student.Student(3, 'Charlie', 'CSE')]\n",
    "\n",
    "with open('Student.data', 'wb') as f: \n",
    "    for s in studs: \n",
    "        pickle.dump(s,f)"
   ]
  },
  {
   "cell_type": "code",
   "execution_count": null,
   "id": "e7b0d08e-215c-4006-9a40-42b95964e198",
   "metadata": {},
   "outputs": [],
   "source": [
    "# 136. Reading data \n",
    "import Student, pickle\n",
    "\n",
    "with open('Students.data', 'rb') as f: \n",
    "    for i in range(3): \n",
    "        s = pickle.load(f)\n",
    "        s.display()"
   ]
  }
 ],
 "metadata": {
  "kernelspec": {
   "display_name": "Python [conda env:base] *",
   "language": "python",
   "name": "conda-base-py"
  },
  "language_info": {
   "codemirror_mode": {
    "name": "ipython",
    "version": 3
   },
   "file_extension": ".py",
   "mimetype": "text/x-python",
   "name": "python",
   "nbconvert_exporter": "python",
   "pygments_lexer": "ipython3",
   "version": "3.12.7"
  }
 },
 "nbformat": 4,
 "nbformat_minor": 5
}
