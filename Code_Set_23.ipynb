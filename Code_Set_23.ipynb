{
 "cells": [
  {
   "cell_type": "code",
   "execution_count": 1,
   "id": "dfdf5b8d-7705-4b5e-aa4e-af974aa2934f",
   "metadata": {},
   "outputs": [
    {
     "name": "stdout",
     "output_type": "stream",
     "text": [
      "Result: (201, 67.0, 'Pass')\n",
      "Result: (198, 66.0, 'Pass')\n"
     ]
    }
   ],
   "source": [
    "# 105. Students Result\n",
    "def result(mark1, mark2, mark3): \n",
    "    total = mark1 + mark2 + mark3\n",
    "    average = total / 3\n",
    "\n",
    "    if average >= 45: \n",
    "        grade = 'Pass'\n",
    "    else: \n",
    "        grade = 'Fail'\n",
    "\n",
    "    return total, average, grade\n",
    "\n",
    "s1 = result(55, 67, 79)\n",
    "s2 = result(76, 34, 88)\n",
    "print(\"Result:\", s1)\n",
    "print(\"Result:\", s2)"
   ]
  },
  {
   "cell_type": "code",
   "execution_count": 4,
   "id": "784b2d5b-442b-48f7-82bf-a7cb7bc7dd85",
   "metadata": {},
   "outputs": [
    {
     "name": "stdin",
     "output_type": "stream",
     "text": [
      "Enter a number: 5\n"
     ]
    },
    {
     "name": "stdout",
     "output_type": "stream",
     "text": [
      "5! = 120\n"
     ]
    }
   ],
   "source": [
    "# 106. Recursive Function \n",
    "def fact(n): \n",
    "    if n>0: \n",
    "        return n*fact(n-1)\n",
    "    else: \n",
    "        return 1\n",
    "\n",
    "digit = int(input(\"Enter a number:\"))\n",
    "f = fact(digit)\n",
    "print(str(digit) + '!', '=', f)"
   ]
  }
 ],
 "metadata": {
  "kernelspec": {
   "display_name": "Python [conda env:base] *",
   "language": "python",
   "name": "conda-base-py"
  },
  "language_info": {
   "codemirror_mode": {
    "name": "ipython",
    "version": 3
   },
   "file_extension": ".py",
   "mimetype": "text/x-python",
   "name": "python",
   "nbconvert_exporter": "python",
   "pygments_lexer": "ipython3",
   "version": "3.12.7"
  }
 },
 "nbformat": 4,
 "nbformat_minor": 5
}
