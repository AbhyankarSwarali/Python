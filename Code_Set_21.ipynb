{
 "cells": [
  {
   "cell_type": "code",
   "execution_count": 1,
   "id": "e8939669-5967-4107-8ebc-aeed8a5a49cb",
   "metadata": {},
   "outputs": [
    {
     "name": "stdout",
     "output_type": "stream",
     "text": [
      "5 6 7\n",
      "(8, 9, 10)\n"
     ]
    }
   ],
   "source": [
    "# 99. Multiple Return Values\n",
    "def multi_ret(a,b,c): \n",
    "    return a+1, b+1, c+1\n",
    "\n",
    "x, y, z = multi_ret(4,5,6)\n",
    "r = multi_ret(7,8,9)\n",
    "\n",
    "print(x,y,z)\n",
    "print(r)"
   ]
  },
  {
   "cell_type": "code",
   "execution_count": 2,
   "id": "31bb58ff-b5e9-473c-8d20-f08266f47298",
   "metadata": {},
   "outputs": [
    {
     "name": "stdout",
     "output_type": "stream",
     "text": [
      "10\n"
     ]
    }
   ],
   "source": [
    "# 100. Variable Length Keyword Argument\n",
    "def vlka(**kwargs): \n",
    "    for item in kwargs.items(): \n",
    "        if item[0] == 'b': \n",
    "            print(item[1])\n",
    "\n",
    "vlka(a=5, b=10, c=15)"
   ]
  },
  {
   "cell_type": "code",
   "execution_count": 4,
   "id": "7ae7fc93-6f8d-4e72-874f-251185c634da",
   "metadata": {},
   "outputs": [
    {
     "name": "stdout",
     "output_type": "stream",
     "text": [
      "Apple Banana Cherry\n"
     ]
    }
   ],
   "source": [
    "# 101. Iterator Function\n",
    "L = ['Apple', 'Banana', 'Cherry']\n",
    "it = iter(L)\n",
    "A = next(it)\n",
    "B = next(it)\n",
    "C = next(it)\n",
    "print(A,B,C)"
   ]
  }
 ],
 "metadata": {
  "kernelspec": {
   "display_name": "Python [conda env:base] *",
   "language": "python",
   "name": "conda-base-py"
  },
  "language_info": {
   "codemirror_mode": {
    "name": "ipython",
    "version": 3
   },
   "file_extension": ".py",
   "mimetype": "text/x-python",
   "name": "python",
   "nbconvert_exporter": "python",
   "pygments_lexer": "ipython3",
   "version": "3.12.7"
  }
 },
 "nbformat": 4,
 "nbformat_minor": 5
}
