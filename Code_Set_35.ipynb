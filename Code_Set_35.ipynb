{
 "cells": [
  {
   "cell_type": "code",
   "execution_count": 2,
   "id": "9bd86747-d7c8-482f-a9fb-99430793ef86",
   "metadata": {},
   "outputs": [
    {
     "name": "stdout",
     "output_type": "stream",
     "text": [
      "Inner Data\n"
     ]
    }
   ],
   "source": [
    "# 140. Nested Class \n",
    "class Outer: \n",
    "    def __init__(self): \n",
    "        self.in_obj = self.Inner()\n",
    "\n",
    "    def show(self): \n",
    "        self.in_obj.display()\n",
    "\n",
    "    class Inner: \n",
    "        def __init__(self): \n",
    "            self.data = 'Inner Data'\n",
    "\n",
    "        def display(self): \n",
    "            print(self.data)\n",
    "\n",
    "o = Outer()\n",
    "o.show()"
   ]
  },
  {
   "cell_type": "code",
   "execution_count": 3,
   "id": "4aa2f8bc-622b-4aed-a9a6-56a938ca0e97",
   "metadata": {},
   "outputs": [
    {
     "name": "stdout",
     "output_type": "stream",
     "text": [
      "15\n",
      "5.4\n",
      "HelloWorld\n",
      "(6+8j)\n"
     ]
    }
   ],
   "source": [
    "# 141. Method Overloading 1 \n",
    "def Add(a,b): \n",
    "    return a+b\n",
    "\n",
    "s1 = Add(10,5)\n",
    "print(s1)\n",
    "\n",
    "s2 = Add(2.3, 3.1)\n",
    "print(s2)\n",
    "\n",
    "s3 = Add('Hello', 'World')\n",
    "print(s3)\n",
    "\n",
    "s4 = Add((2+3j), (4+5j))\n",
    "print(s4)"
   ]
  },
  {
   "cell_type": "code",
   "execution_count": 6,
   "id": "4fc8657e-c033-4fb1-8890-aa19c02005a0",
   "metadata": {},
   "outputs": [
    {
     "name": "stdout",
     "output_type": "stream",
     "text": [
      "33\n"
     ]
    }
   ],
   "source": [
    "# 142. Method Overloading 2 \n",
    "def Addn(x,y): \n",
    "    return a+b\n",
    "\n",
    "def Addn(x,y,z): \n",
    "    return x+y+z\n",
    "\n",
    "print(Addn(10,11,12))"
   ]
  }
 ],
 "metadata": {
  "kernelspec": {
   "display_name": "Python [conda env:base] *",
   "language": "python",
   "name": "conda-base-py"
  },
  "language_info": {
   "codemirror_mode": {
    "name": "ipython",
    "version": 3
   },
   "file_extension": ".py",
   "mimetype": "text/x-python",
   "name": "python",
   "nbconvert_exporter": "python",
   "pygments_lexer": "ipython3",
   "version": "3.12.7"
  }
 },
 "nbformat": 4,
 "nbformat_minor": 5
}
