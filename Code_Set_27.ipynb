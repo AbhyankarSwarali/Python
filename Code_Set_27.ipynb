{
 "cells": [
  {
   "cell_type": "code",
   "execution_count": 2,
   "id": "65665ae2-06ed-4e3c-84ca-b3d10815218b",
   "metadata": {},
   "outputs": [
    {
     "name": "stdout",
     "output_type": "stream",
     "text": [
      "Ouetr\n",
      "Inner\n"
     ]
    },
    {
     "ename": "NameError",
     "evalue": "name 'Inner' is not defined",
     "output_type": "error",
     "traceback": [
      "\u001b[1;31m---------------------------------------------------------------------------\u001b[0m",
      "\u001b[1;31mNameError\u001b[0m                                 Traceback (most recent call last)",
      "Cell \u001b[1;32mIn[2], line 9\u001b[0m\n\u001b[0;32m      6\u001b[0m     Inner()\n\u001b[0;32m      8\u001b[0m Outer()\n\u001b[1;32m----> 9\u001b[0m Inner()\n",
      "\u001b[1;31mNameError\u001b[0m: name 'Inner' is not defined"
     ]
    }
   ],
   "source": [
    "# 116. Nested Function\n",
    "def Outer(): \n",
    "    def Inner(): \n",
    "        print('Inner')\n",
    "    print('Ouetr')\n",
    "    Inner()\n",
    "\n",
    "Outer()\n",
    "Inner() # because Inner() can only be called inside the Outer() function"
   ]
  },
  {
   "cell_type": "code",
   "execution_count": 4,
   "id": "9769a35c-bdb3-4dc2-b379-c6c5ca589766",
   "metadata": {},
   "outputs": [
    {
     "name": "stdout",
     "output_type": "stream",
     "text": [
      "Welcome\n"
     ]
    }
   ],
   "source": [
    "# 117. Function as parameter\n",
    "def welcome(): \n",
    "    print('Welcome')\n",
    "\n",
    "def fun(f): \n",
    "    f() # paramter works as function\n",
    "\n",
    "fun(welcome) # function works as parameter"
   ]
  },
  {
   "cell_type": "code",
   "execution_count": 5,
   "id": "b28344dd-a910-497d-bf71-a2ce6f4d6ca1",
   "metadata": {},
   "outputs": [
    {
     "name": "stdout",
     "output_type": "stream",
     "text": [
      "Welcome\n"
     ]
    }
   ],
   "source": [
    "# 118. Returning a function \n",
    "def Outer(): \n",
    "    def Inner(): \n",
    "        print('Welcome')\n",
    "\n",
    "    return Inner\n",
    "\n",
    "f = Outer()\n",
    "f()"
   ]
  }
 ],
 "metadata": {
  "kernelspec": {
   "display_name": "Python [conda env:base] *",
   "language": "python",
   "name": "conda-base-py"
  },
  "language_info": {
   "codemirror_mode": {
    "name": "ipython",
    "version": 3
   },
   "file_extension": ".py",
   "mimetype": "text/x-python",
   "name": "python",
   "nbconvert_exporter": "python",
   "pygments_lexer": "ipython3",
   "version": "3.12.7"
  }
 },
 "nbformat": 4,
 "nbformat_minor": 5
}
