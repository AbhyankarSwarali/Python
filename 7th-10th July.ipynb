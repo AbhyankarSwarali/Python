{
 "cells": [
  {
   "cell_type": "markdown",
   "id": "74bc4df4-d465-40d7-bdf7-64cd1c66ae09",
   "metadata": {},
   "source": [
    "# 7th July"
   ]
  },
  {
   "cell_type": "markdown",
   "id": "4bf002ec-c8cd-4099-8ab5-08d92234c870",
   "metadata": {},
   "source": [
    "# SQL Database"
   ]
  },
  {
   "cell_type": "code",
   "execution_count": 1,
   "id": "2dbda17f-28ec-465b-b0ff-d1a054dc9f2a",
   "metadata": {},
   "outputs": [],
   "source": [
    "# Installing MySQL Workbench "
   ]
  },
  {
   "cell_type": "code",
   "execution_count": null,
   "id": "8dc2b2d6-7359-4b0f-9c5d-71ee5418099d",
   "metadata": {},
   "outputs": [],
   "source": []
  }
 ],
 "metadata": {
  "kernelspec": {
   "display_name": "Python 3 (ipykernel)",
   "language": "python",
   "name": "python3"
  },
  "language_info": {
   "codemirror_mode": {
    "name": "ipython",
    "version": 3
   },
   "file_extension": ".py",
   "mimetype": "text/x-python",
   "name": "python",
   "nbconvert_exporter": "python",
   "pygments_lexer": "ipython3",
   "version": "3.12.7"
  }
 },
 "nbformat": 4,
 "nbformat_minor": 5
}
