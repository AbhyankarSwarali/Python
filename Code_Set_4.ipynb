{
 "cells": [
  {
   "cell_type": "code",
   "execution_count": 3,
   "id": "0d40b207-150a-42fc-bce2-d283b1a64f6c",
   "metadata": {},
   "outputs": [
    {
     "name": "stdin",
     "output_type": "stream",
     "text": [
      "Enter your marks: 87\n"
     ]
    },
    {
     "name": "stdout",
     "output_type": "stream",
     "text": [
      "87.0 %\n"
     ]
    }
   ],
   "source": [
    "# 16. Marks and Percentage\n",
    "marks = int(input(\"Enter your marks:\"))\n",
    "total_mks = 100\n",
    "percentage = (marks/total_mks) * 100\n",
    "if 0<=marks<=100:\n",
    "    print(percentage,'%')\n",
    "else: \n",
    "    print(\"Enter valid marks\")"
   ]
  },
  {
   "cell_type": "code",
   "execution_count": 7,
   "id": "0960e8e3-aadb-4077-bf36-d335abad934f",
   "metadata": {},
   "outputs": [
    {
     "name": "stdin",
     "output_type": "stream",
     "text": [
      "Enter your name: David\n",
      "Enter your age: 22\n"
     ]
    },
    {
     "name": "stdout",
     "output_type": "stream",
     "text": [
      "David Eligible\n"
     ]
    }
   ],
   "source": [
    "# 17. Work Eligibility\n",
    "name = input(\"Enter your name:\")\n",
    "age = int(input(\"Enter your age:\"))\n",
    "if 18<=age<=60: \n",
    "    print(name, \"Eligible\")\n",
    "else: \n",
    "    print(name, \"Not eligible\")"
   ]
  },
  {
   "cell_type": "code",
   "execution_count": 8,
   "id": "966bc5e8-d8f8-4b15-af35-b5d9dac69e56",
   "metadata": {},
   "outputs": [
    {
     "name": "stdin",
     "output_type": "stream",
     "text": [
      "Enter username: Swarali\n"
     ]
    },
    {
     "name": "stdout",
     "output_type": "stream",
     "text": [
      "Authorised\n"
     ]
    }
   ],
   "source": [
    "# 18. Admin Access\n",
    "admin = input(\"Enter username:\")\n",
    "if admin=='Swarali' or admin=='Abhyankar': \n",
    "    print(\"Authorised\")\n",
    "else: \n",
    "    print(\"Not authorised\")"
   ]
  },
  {
   "cell_type": "code",
   "execution_count": 13,
   "id": "691c7432-fc8c-4ffe-b32a-fa9f6769f668",
   "metadata": {},
   "outputs": [
    {
     "name": "stdin",
     "output_type": "stream",
     "text": [
      "Enter a letter: S\n"
     ]
    },
    {
     "name": "stdout",
     "output_type": "stream",
     "text": [
      "Consonent\n"
     ]
    }
   ],
   "source": [
    "# 19. Vowel or Consonent \n",
    "letter = input(\"Enter a letter:\")\n",
    "if letter in 'aeiouAEIOU': \n",
    "    print(\"Vowel\")\n",
    "else: \n",
    "    print(\"Consonent\")"
   ]
  },
  {
   "cell_type": "code",
   "execution_count": 16,
   "id": "bfb7db32-0bf0-471f-827a-b6cc9486c932",
   "metadata": {},
   "outputs": [
    {
     "name": "stdin",
     "output_type": "stream",
     "text": [
      "Alex age: 45\n",
      "Brian age 47\n",
      "Casey age: 38\n"
     ]
    },
    {
     "name": "stdout",
     "output_type": "stream",
     "text": [
      "Brian is the oldest\n"
     ]
    }
   ],
   "source": [
    "# 20. Oldest one \n",
    "alex = int(input(\"Alex age:\")) \n",
    "brian = int(input(\"Brian age\"))\n",
    "casey = int(input(\"Casey age:\"))\n",
    "if alex > brian and alex > casey: \n",
    "    print(\"Alex is the oldest\")\n",
    "elif brian > casey: \n",
    "    print('Brian is the oldest')\n",
    "else: \n",
    "    print('Casey is the oldest')"
   ]
  }
 ],
 "metadata": {
  "kernelspec": {
   "display_name": "Python 3 (ipykernel)",
   "language": "python",
   "name": "python3"
  },
  "language_info": {
   "codemirror_mode": {
    "name": "ipython",
    "version": 3
   },
   "file_extension": ".py",
   "mimetype": "text/x-python",
   "name": "python",
   "nbconvert_exporter": "python",
   "pygments_lexer": "ipython3",
   "version": "3.12.7"
  }
 },
 "nbformat": 4,
 "nbformat_minor": 5
}
