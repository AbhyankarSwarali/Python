{
 "cells": [
  {
   "cell_type": "code",
   "execution_count": 1,
   "id": "741bc64f-d5ff-4f4b-ad32-35222e3bb85d",
   "metadata": {},
   "outputs": [
    {
     "name": "stdout",
     "output_type": "stream",
     "text": [
      "35689\n"
     ]
    }
   ],
   "source": [
    "# 76. Concatenate list to number\n",
    "l = [3,5,6,8,9]\n",
    "s=''\n",
    "for x in l: \n",
    "    s += str(x)\n",
    "print(s)"
   ]
  },
  {
   "cell_type": "code",
   "execution_count": 11,
   "id": "41313509-9f03-4022-965c-790761a28fb4",
   "metadata": {},
   "outputs": [
    {
     "name": "stdout",
     "output_type": "stream",
     "text": [
      "Common fav item:  pizza 2\n"
     ]
    }
   ],
   "source": [
    "# 77. Minimum index sum \n",
    "S=['pizza','burger','fries','noodles','hotdog','pasta']\n",
    "A=['fries','pasta','pizza','hotdog','noodles','burger']\n",
    "\n",
    "S_index=10\n",
    "A_index=10\n",
    "\n",
    "for i in range(len(S)):\n",
    "    common_index=A.index(S[i])      #finding matching index of same item in A\n",
    "\n",
    "    if i + common_index < S_index + A_index:\n",
    "        S_index = i\n",
    "        A_index = common_index\n",
    "\n",
    "print(\"Common fav item: \", S[S_index], S_index+A_index)"
   ]
  },
  {
   "cell_type": "code",
   "execution_count": 13,
   "id": "aef0ed4f-e22e-4d8d-8b18-5b31e4aa5d73",
   "metadata": {},
   "outputs": [
    {
     "name": "stdout",
     "output_type": "stream",
     "text": [
      "Overlapping elements: [8, 6, 4, 7, 15]\n"
     ]
    }
   ],
   "source": [
    "# 78. Overlapping elements\n",
    "l1 = [5,8,6,4,7,12,15,2]\n",
    "l2 = [3,6,7,8,1,4,15,13,28]\n",
    "l3 = []\n",
    "for l in l1: \n",
    "    if l in l2: \n",
    "        l3.append(l)\n",
    "print('Overlapping elements:', l3)"
   ]
  },
  {
   "cell_type": "code",
   "execution_count": 15,
   "id": "1ecdf811-1f5d-432a-909a-dc36ea7d5104",
   "metadata": {},
   "outputs": [
    {
     "name": "stdout",
     "output_type": "stream",
     "text": [
      "['A', 3, 'B', 2, 'C', 3, 'D', 2, 'E', 3]\n"
     ]
    }
   ],
   "source": [
    "# 79. Number of occurences \n",
    "L = ['A', 'B', 'C', 'D', 'E', 'A', 'D', 'C', 'A', 'E', 'B', 'C', 'E']\n",
    "result = []\n",
    "for k in L: \n",
    "    if k not in result: \n",
    "        result.append(k)\n",
    "        counter = L.count(k)\n",
    "        result.append(counter)\n",
    "print(result)"
   ]
  },
  {
   "cell_type": "code",
   "execution_count": 17,
   "id": "28d6d30b-ae77-4544-b3d4-43221b4732a4",
   "metadata": {},
   "outputs": [
    {
     "name": "stdout",
     "output_type": "stream",
     "text": [
      ".  .._.  __.  ._  _._.  .._.  \n"
     ]
    }
   ],
   "source": [
    "# 80. Morse Code \n",
    "codes = ['._', '_...', '_._.', '.', '.._.', '__.', '....', '..', '.___']\n",
    "text = 'deface'\n",
    "morse_code = ''\n",
    "for x in text:\n",
    "    morse_code += codes[ord(x) - ord('a')] + '  '\n",
    "print(morse_code)"
   ]
  }
 ],
 "metadata": {
  "kernelspec": {
   "display_name": "Python 3 (ipykernel)",
   "language": "python",
   "name": "python3"
  },
  "language_info": {
   "codemirror_mode": {
    "name": "ipython",
    "version": 3
   },
   "file_extension": ".py",
   "mimetype": "text/x-python",
   "name": "python",
   "nbconvert_exporter": "python",
   "pygments_lexer": "ipython3",
   "version": "3.12.7"
  }
 },
 "nbformat": 4,
 "nbformat_minor": 5
}
