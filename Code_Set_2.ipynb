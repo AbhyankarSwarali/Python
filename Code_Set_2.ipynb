{
 "cells": [
  {
   "cell_type": "code",
   "execution_count": 2,
   "id": "2e89e4c9-b1ce-4bab-92c1-aea9fe2c8c05",
   "metadata": {},
   "outputs": [
    {
     "name": "stdin",
     "output_type": "stream",
     "text": [
      "Enter radius of circle: 7\n"
     ]
    },
    {
     "name": "stdout",
     "output_type": "stream",
     "text": [
      "Area: 153.93804002589985\n"
     ]
    }
   ],
   "source": [
    "# 6. Area of Circle\n",
    "import math\n",
    "r = float(input(\"Enter radius of circle:\"))\n",
    "area = math.pi * r**2 \n",
    "print(\"Area:\", area)"
   ]
  },
  {
   "cell_type": "code",
   "execution_count": 4,
   "id": "80d0e818-fdb0-4f3e-bd51-09564c4b812c",
   "metadata": {},
   "outputs": [
    {
     "name": "stdin",
     "output_type": "stream",
     "text": [
      "Enter length: 9\n",
      "Enter breadth: 7\n",
      "Enter height: 3\n"
     ]
    },
    {
     "name": "stdout",
     "output_type": "stream",
     "text": [
      "Surface Area: 222\n"
     ]
    }
   ],
   "source": [
    "# 7. Area of cuboid \n",
    "l = int(input(\"Enter length:\"))\n",
    "b = int(input(\"Enter breadth:\"))\n",
    "h = int(input(\"Enter height:\"))\n",
    "Area = 2 * (l*b + l*h + b*h) \n",
    "print('Surface Area:', Area)"
   ]
  },
  {
   "cell_type": "code",
   "execution_count": 9,
   "id": "51cbf7dd-de6f-4eae-9ed6-68dcabfbd694",
   "metadata": {},
   "outputs": [
    {
     "name": "stdin",
     "output_type": "stream",
     "text": [
      "Enter coefficient of a: 2\n",
      "Enter coefficient of b: -12\n",
      "Enter value of constant: 10\n"
     ]
    },
    {
     "name": "stdout",
     "output_type": "stream",
     "text": [
      "Roots of equation: (5+0j) (1+0j)\n"
     ]
    }
   ],
   "source": [
    "# 8. Quadratic Equation\n",
    "import cmath    # uses cmath module instead od math module to support complex roots\n",
    "a = int(input(\"Enter coefficient of a:\"))\n",
    "b = int(input(\"Enter coefficient of b:\"))\n",
    "c = int(input(\"Enter value of constant:\"))\n",
    "r1 = (-b + cmath.sqrt(b**2 - 4*a*c)) / (2*a)\n",
    "r2 = (-b - cmath.sqrt(b**2 - 4*a*c)) / (2*a)\n",
    "print(\"Roots of equation:\", r1, r2)"
   ]
  },
  {
   "cell_type": "code",
   "execution_count": 10,
   "id": "f2ff824f-5449-444b-acc6-9e2efa6b9262",
   "metadata": {},
   "outputs": [
    {
     "name": "stdin",
     "output_type": "stream",
     "text": [
      "Enter a number: 128\n"
     ]
    },
    {
     "name": "stdout",
     "output_type": "stream",
     "text": [
      "Positive\n"
     ]
    }
   ],
   "source": [
    "# 9. Positive or Negative (If..else)\n",
    "n = int(input(\"Enter a number:\"))\n",
    "if n>0: \n",
    "    print(\"Positive\")\n",
    "else: \n",
    "    print(\"Negative\")"
   ]
  },
  {
   "cell_type": "code",
   "execution_count": 12,
   "id": "aa88bbdd-f78f-40d0-ad79-b958016b00ed",
   "metadata": {},
   "outputs": [
    {
     "name": "stdin",
     "output_type": "stream",
     "text": [
      "Enter Math marks: 89\n",
      "Enter Physics marks 87\n",
      "Enter Chemistry marks: 62\n"
     ]
    },
    {
     "name": "stdout",
     "output_type": "stream",
     "text": [
      "Pass\n"
     ]
    }
   ],
   "source": [
    "# 10. Pass or Fail (AND operator)\n",
    "maths = int(input(\"Enter Math marks:\"))\n",
    "phy = int(input(\"Enter Physics marks\"))\n",
    "chem = int(input(\"Enter Chemistry marks:\"))\n",
    "if maths>= 45 and phy>=45 and chem>=45: \n",
    "    print(\"Pass\")\n",
    "else: \n",
    "    print(\"Fail\")"
   ]
  }
 ],
 "metadata": {
  "kernelspec": {
   "display_name": "Python 3 (ipykernel)",
   "language": "python",
   "name": "python3"
  },
  "language_info": {
   "codemirror_mode": {
    "name": "ipython",
    "version": 3
   },
   "file_extension": ".py",
   "mimetype": "text/x-python",
   "name": "python",
   "nbconvert_exporter": "python",
   "pygments_lexer": "ipython3",
   "version": "3.12.7"
  }
 },
 "nbformat": 4,
 "nbformat_minor": 5
}
