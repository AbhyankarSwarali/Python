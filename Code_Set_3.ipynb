{
 "cells": [
  {
   "cell_type": "code",
   "execution_count": 2,
   "id": "5da70e83-52dd-4a9f-ab0c-5671cce3a91f",
   "metadata": {},
   "outputs": [
    {
     "name": "stdin",
     "output_type": "stream",
     "text": [
      "Enter your gender (M/F): f\n"
     ]
    },
    {
     "name": "stdout",
     "output_type": "stream",
     "text": [
      "Female\n"
     ]
    }
   ],
   "source": [
    "# 11. Gender check (OR operator)\n",
    "gender = input(\"Enter your gender (M/F):\")\n",
    "if gender == 'M' or gender == 'm': \n",
    "    print(\"Male\")\n",
    "else: \n",
    "    print(\"Female\")"
   ]
  },
  {
   "cell_type": "code",
   "execution_count": 4,
   "id": "087a8b54-7414-4bab-982d-2a2791f0a6da",
   "metadata": {},
   "outputs": [
    {
     "name": "stdin",
     "output_type": "stream",
     "text": [
      "Enter number: 12\n"
     ]
    },
    {
     "name": "stdout",
     "output_type": "stream",
     "text": [
      "Number not in range\n"
     ]
    }
   ],
   "source": [
    "# 12. Number range (NOT operator)\n",
    "x = int(input(\"Enter number:\"))\n",
    "if not (50<=x<=100): \n",
    "    print(\"Number not in range\")\n",
    "else: \n",
    "    print(x)"
   ]
  },
  {
   "cell_type": "code",
   "execution_count": 6,
   "id": "a9bc201d-0fe4-4182-a9ac-a1ac0f8a38e6",
   "metadata": {},
   "outputs": [
    {
     "name": "stdin",
     "output_type": "stream",
     "text": [
      "ENter first number: 21\n",
      "Enter second number: 39\n"
     ]
    },
    {
     "name": "stdout",
     "output_type": "stream",
     "text": [
      "18\n"
     ]
    }
   ],
   "source": [
    "# 13. Number Difference\n",
    "x = int(input(\"ENter first number:\"))\n",
    "y = int(input(\"Enter second number:\"))\n",
    "if x-y>0: \n",
    "    print(x-y)\n",
    "else: \n",
    "    print(y-x)"
   ]
  },
  {
   "cell_type": "code",
   "execution_count": 7,
   "id": "21bdc0cc-e36f-4856-9ef2-36e8d3f4ce03",
   "metadata": {},
   "outputs": [
    {
     "name": "stdin",
     "output_type": "stream",
     "text": [
      "Enter a number: 15\n"
     ]
    },
    {
     "name": "stdout",
     "output_type": "stream",
     "text": [
      "Odd\n"
     ]
    }
   ],
   "source": [
    "# 14. Odd Even number\n",
    "n = int(input(\"Enter a number:\"))\n",
    "if n%2==0: \n",
    "    print(\"Even\")\n",
    "else: \n",
    "    print(\"Odd\")"
   ]
  },
  {
   "cell_type": "code",
   "execution_count": 11,
   "id": "4981fcd3-7904-4882-8f0a-c83da5c68115",
   "metadata": {},
   "outputs": [
    {
     "name": "stdin",
     "output_type": "stream",
     "text": [
      "Enter your age: 22\n"
     ]
    },
    {
     "name": "stdout",
     "output_type": "stream",
     "text": [
      "Eligible\n"
     ]
    }
   ],
   "source": [
    "# 15. Vote Eligibility \n",
    "age = int(input(\"Enter your age:\"))\n",
    "if age>=18: \n",
    "    print('Eligible')\n",
    "else: \n",
    "    print(\"Not eligible\")"
   ]
  }
 ],
 "metadata": {
  "kernelspec": {
   "display_name": "Python 3 (ipykernel)",
   "language": "python",
   "name": "python3"
  },
  "language_info": {
   "codemirror_mode": {
    "name": "ipython",
    "version": 3
   },
   "file_extension": ".py",
   "mimetype": "text/x-python",
   "name": "python",
   "nbconvert_exporter": "python",
   "pygments_lexer": "ipython3",
   "version": "3.12.7"
  }
 },
 "nbformat": 4,
 "nbformat_minor": 5
}
