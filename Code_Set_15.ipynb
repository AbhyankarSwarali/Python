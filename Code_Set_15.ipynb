{
 "cells": [
  {
   "cell_type": "code",
   "execution_count": 1,
   "id": "22cedeb6-c53c-487d-972c-530d6cce1019",
   "metadata": {},
   "outputs": [
    {
     "name": "stdin",
     "output_type": "stream",
     "text": [
      "Enter a string: abc@#rt$%^123\n"
     ]
    },
    {
     "name": "stdout",
     "output_type": "stream",
     "text": [
      "Modified string: abcrt123\n"
     ]
    }
   ],
   "source": [
    "# 71. Punctuation \n",
    "s = input(\"Enter a string:\")\n",
    "S = ''\n",
    "punct = '''!@#$%^&*()_+-=[]{}|;'':\"\"~`,./<>?'''\n",
    "for x in s: \n",
    "    if x not in punct: \n",
    "        S += x\n",
    "print(\"Modified string:\", S)"
   ]
  },
  {
   "cell_type": "code",
   "execution_count": 4,
   "id": "76eada4a-c711-4638-abb4-ebef23a74dee",
   "metadata": {},
   "outputs": [
    {
     "name": "stdout",
     "output_type": "stream",
     "text": [
      "[[10, 10, 10], [10, 10, 10], [10, 10, 10]]\n"
     ]
    }
   ],
   "source": [
    "# 72. Nested list \n",
    "a = [[1,2,3], [4,5,6], [7,8,9]]\n",
    "b = [[9,8,7], [6,5,4], [3,2,1]]\n",
    "c = []\n",
    "for x in range(len(a)):\n",
    "    d = []\n",
    "    for y in range(len(a[0])):\n",
    "        d.append(a[x][y] + b[x][y])\n",
    "    c.append(d)\n",
    "print(c)"
   ]
  },
  {
   "cell_type": "code",
   "execution_count": 6,
   "id": "30f88f8c-a1a2-4efb-aa0f-838073115a64",
   "metadata": {},
   "outputs": [
    {
     "name": "stdin",
     "output_type": "stream",
     "text": [
      "Enter weekly working hours: 10 11 10 5 8 12 11\n",
      "Enter hourly wages 500\n"
     ]
    },
    {
     "name": "stdout",
     "output_type": "stream",
     "text": [
      "Salary: 33500\n"
     ]
    }
   ],
   "source": [
    "# 73. Calculating salary\n",
    "work_hours = [int(x) for x in input(\"Enter weekly working hours:\").split()]\n",
    "hourly_wages = int(input(\"Enter hourly wages\"))\n",
    "weekly_working_hours = sum(work_hours)\n",
    "salary = hourly_wages * weekly_working_hours\n",
    "print(\"Salary:\", salary)"
   ]
  },
  {
   "cell_type": "code",
   "execution_count": 8,
   "id": "a122eca6-177b-4c49-afab-38ab8ff2ae26",
   "metadata": {},
   "outputs": [
    {
     "name": "stdout",
     "output_type": "stream",
     "text": [
      "[2, 3, 4, 5, 6, 7, 8]\n"
     ]
    }
   ],
   "source": [
    "# 74. Removing Duplicates\n",
    "l = [3,6,3,4,3,2,5,4,7,5,3,6,5,4,8,5,6,2,5]\n",
    "L = []\n",
    "for t in l: \n",
    "    if t not in L:\n",
    "        L.append(t)\n",
    "print(sorted(L))"
   ]
  },
  {
   "cell_type": "code",
   "execution_count": 11,
   "id": "4fc90725-2227-47d1-b9e1-1bddbdd6946a",
   "metadata": {},
   "outputs": [
    {
     "name": "stdout",
     "output_type": "stream",
     "text": [
      "[2, 3, 4, 5, 6, 7, 8]\n"
     ]
    }
   ],
   "source": [
    "# 75. Deleting duplicates \n",
    "l = [3,6,3,4,3,2,5,4,7,5,3,6,5,4,8,5,6,2,5]\n",
    "for s in range(len(l)-1, -1, -1): \n",
    "    if l[s] in l[:s]: \n",
    "        l.pop(s)\n",
    "print(sorted(l))"
   ]
  }
 ],
 "metadata": {
  "kernelspec": {
   "display_name": "Python 3 (ipykernel)",
   "language": "python",
   "name": "python3"
  },
  "language_info": {
   "codemirror_mode": {
    "name": "ipython",
    "version": 3
   },
   "file_extension": ".py",
   "mimetype": "text/x-python",
   "name": "python",
   "nbconvert_exporter": "python",
   "pygments_lexer": "ipython3",
   "version": "3.12.7"
  }
 },
 "nbformat": 4,
 "nbformat_minor": 5
}
