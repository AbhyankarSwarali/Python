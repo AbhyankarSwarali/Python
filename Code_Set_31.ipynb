{
 "cells": [
  {
   "cell_type": "code",
   "execution_count": 1,
   "id": "bd61f30c-f8ca-46ac-a1cb-305cbfdcdafd",
   "metadata": {},
   "outputs": [
    {
     "name": "stdout",
     "output_type": "stream",
     "text": [
      "End of program\n",
      "128\n"
     ]
    }
   ],
   "source": [
    "# 128. try-except finally\n",
    "def f(): \n",
    "    try: \n",
    "        x = '128'\n",
    "        return x\n",
    "    except Exception as e: \n",
    "        raise e\n",
    "    finally: \n",
    "        print('End of program')\n",
    "\n",
    "res = f()\n",
    "print(res)"
   ]
  },
  {
   "cell_type": "code",
   "execution_count": 3,
   "id": "0d6d82e4-ea8e-4805-a933-c3971493ad01",
   "metadata": {},
   "outputs": [
    {
     "name": "stdout",
     "output_type": "stream",
     "text": [
      "Area: 35\n"
     ]
    },
    {
     "ename": "NegativeDimensionError",
     "evalue": "Dimensions you entered are negative",
     "output_type": "error",
     "traceback": [
      "\u001b[1;31m---------------------------------------------------------------------------\u001b[0m",
      "\u001b[1;31mNegativeDimensionError\u001b[0m                    Traceback (most recent call last)",
      "Cell \u001b[1;32mIn[3], line 13\u001b[0m\n\u001b[0;32m     10\u001b[0m         \u001b[38;5;28;01mraise\u001b[39;00m NegativeDimensionError(\u001b[38;5;124m\"\u001b[39m\u001b[38;5;124mDimensions you entered are negative\u001b[39m\u001b[38;5;124m\"\u001b[39m)\n\u001b[0;32m     12\u001b[0m \u001b[38;5;28mprint\u001b[39m(\u001b[38;5;124m\"\u001b[39m\u001b[38;5;124mArea:\u001b[39m\u001b[38;5;124m\"\u001b[39m, area(\u001b[38;5;241m5\u001b[39m,\u001b[38;5;241m7\u001b[39m))\n\u001b[1;32m---> 13\u001b[0m \u001b[38;5;28mprint\u001b[39m(\u001b[38;5;124m\"\u001b[39m\u001b[38;5;124mArea:\u001b[39m\u001b[38;5;124m\"\u001b[39m, area(\u001b[38;5;241m10\u001b[39m,\u001b[38;5;241m-\u001b[39m\u001b[38;5;241m3\u001b[39m))\n",
      "Cell \u001b[1;32mIn[3], line 10\u001b[0m, in \u001b[0;36marea\u001b[1;34m(length, breadth)\u001b[0m\n\u001b[0;32m      8\u001b[0m     \u001b[38;5;28;01mreturn\u001b[39;00m a\n\u001b[0;32m      9\u001b[0m \u001b[38;5;28;01melse\u001b[39;00m: \n\u001b[1;32m---> 10\u001b[0m     \u001b[38;5;28;01mraise\u001b[39;00m NegativeDimensionError(\u001b[38;5;124m\"\u001b[39m\u001b[38;5;124mDimensions you entered are negative\u001b[39m\u001b[38;5;124m\"\u001b[39m)\n",
      "\u001b[1;31mNegativeDimensionError\u001b[0m: Dimensions you entered are negative"
     ]
    }
   ],
   "source": [
    "# 129. User defined exceptions\n",
    "class NegativeDimensionError(Exception): \n",
    "    pass \n",
    "\n",
    "def area(length, breadth): \n",
    "    if length > 0 and breadth > 0: \n",
    "        a = length * breadth\n",
    "        return a\n",
    "    else: \n",
    "        raise NegativeDimensionError(\"Dimensions you entered are negative\")\n",
    "\n",
    "print(\"Area:\", area(5,7))\n",
    "print(\"Area:\", area(10,-3))"
   ]
  },
  {
   "cell_type": "code",
   "execution_count": 6,
   "id": "a4097c18-33a5-42a5-b5f4-f4bcdff930c3",
   "metadata": {},
   "outputs": [
    {
     "name": "stdin",
     "output_type": "stream",
     "text": [
      "Enter index no.: d\n"
     ]
    },
    {
     "name": "stdout",
     "output_type": "stream",
     "text": [
      "ValueError: invalid literal for int() with base 10: 'd'\n"
     ]
    }
   ],
   "source": [
    "# 130. Nested try-except\n",
    "l = [1,2,3,4,5]\n",
    "\n",
    "try: \n",
    "    try: \n",
    "        index = int(input(\"Enter index no.:\"))\n",
    "        print(l[index])\n",
    "    except ValueError as v: \n",
    "        print('ValueError:', v)\n",
    "except IndexError as i: \n",
    "    print('IndexError:', i)\n",
    "except Exception as e: \n",
    "    print(e)"
   ]
  }
 ],
 "metadata": {
  "kernelspec": {
   "display_name": "Python [conda env:base] *",
   "language": "python",
   "name": "conda-base-py"
  },
  "language_info": {
   "codemirror_mode": {
    "name": "ipython",
    "version": 3
   },
   "file_extension": ".py",
   "mimetype": "text/x-python",
   "name": "python",
   "nbconvert_exporter": "python",
   "pygments_lexer": "ipython3",
   "version": "3.12.7"
  }
 },
 "nbformat": 4,
 "nbformat_minor": 5
}
