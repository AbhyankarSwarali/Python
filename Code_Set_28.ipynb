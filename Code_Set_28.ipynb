{
 "cells": [
  {
   "cell_type": "code",
   "execution_count": 2,
   "id": "ccdaee97-461b-42be-8c08-6649d891578c",
   "metadata": {},
   "outputs": [
    {
     "name": "stdout",
     "output_type": "stream",
     "text": [
      "**********\n",
      "Welcome\n",
      "**********\n"
     ]
    }
   ],
   "source": [
    "# 119. Closure function \n",
    "def Outer(msg): \n",
    "    def Inner(): \n",
    "        print('*' * 10)\n",
    "        print(msg)\n",
    "        print('*' * 10)\n",
    "\n",
    "    return Inner\n",
    "\n",
    "f = Outer('Welcome')\n",
    "f()"
   ]
  },
  {
   "cell_type": "code",
   "execution_count": 3,
   "id": "9a0e2479-57fd-48cc-a1f7-a83198ff43cd",
   "metadata": {},
   "outputs": [
    {
     "name": "stdout",
     "output_type": "stream",
     "text": [
      "1 2 3\n",
      "1 2 3\n"
     ]
    }
   ],
   "source": [
    "# 120. Counter Closure function \n",
    "def get_counter(): \n",
    "    count = 0\n",
    "\n",
    "    def counter(): \n",
    "        nonlocal count\n",
    "        count += 1\n",
    "        return count\n",
    "\n",
    "    return counter\n",
    "\n",
    "c1 = get_counter()\n",
    "c2 = get_counter() \n",
    "\n",
    "print(c1(), c1(), c1())\n",
    "print(c2(), c2(), c2())"
   ]
  },
  {
   "cell_type": "code",
   "execution_count": 4,
   "id": "71374de2-674f-4502-a23f-66250a03ab27",
   "metadata": {},
   "outputs": [
    {
     "name": "stdout",
     "output_type": "stream",
     "text": [
      "**********\n",
      "Welcome\n",
      "**********\n"
     ]
    }
   ],
   "source": [
    "# 121. Decorator function \n",
    "def decorator(f):\n",
    "    def message(): \n",
    "        print('*' * 10)\n",
    "        f()\n",
    "        print('*' * 10)\n",
    "\n",
    "    return message\n",
    "\n",
    "@decorator\n",
    "def display(): \n",
    "    print('Welcome')\n",
    "\n",
    "display()"
   ]
  }
 ],
 "metadata": {
  "kernelspec": {
   "display_name": "Python [conda env:base] *",
   "language": "python",
   "name": "conda-base-py"
  },
  "language_info": {
   "codemirror_mode": {
    "name": "ipython",
    "version": 3
   },
   "file_extension": ".py",
   "mimetype": "text/x-python",
   "name": "python",
   "nbconvert_exporter": "python",
   "pygments_lexer": "ipython3",
   "version": "3.12.7"
  }
 },
 "nbformat": 4,
 "nbformat_minor": 5
}
