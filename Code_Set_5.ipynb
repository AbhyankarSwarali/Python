{
 "cells": [
  {
   "cell_type": "code",
   "execution_count": 3,
   "id": "1ed7faa9-4a76-4bc8-b81d-b0192f2e00c6",
   "metadata": {},
   "outputs": [
    {
     "name": "stdin",
     "output_type": "stream",
     "text": [
      "Enter bill amount: 4658.32\n"
     ]
    },
    {
     "name": "stdout",
     "output_type": "stream",
     "text": [
      "Discount: 931.664\n",
      "Total bill: 3726.656\n"
     ]
    }
   ],
   "source": [
    "# 21. Discount Amount\n",
    "amt = float(input(\"Enter bill amount:\"))\n",
    "if amt <= 0: \n",
    "    print(\"Enter valid amount\")\n",
    "elif amt <= 1000: \n",
    "    discount = amt * 10/100\n",
    "    print(\"Discount:\", discount)\n",
    "elif 100 < amt <= 5000: \n",
    "    discount = amt * 20/100\n",
    "    print(\"Discount:\", discount) \n",
    "elif 5000 < amt <=10000: \n",
    "    discount = amt * 30/100\n",
    "    print(\"Discount:\", discount) \n",
    "else: \n",
    "    discount = amt * 50/100\n",
    "    print(\"Discount:\", discount) \n",
    "payable_amt = amt - discount\n",
    "print(\"Total bill:\", payable_amt)"
   ]
  },
  {
   "cell_type": "code",
   "execution_count": 7,
   "id": "e4cb1bbd-e565-43e1-adf9-81165846439f",
   "metadata": {},
   "outputs": [
    {
     "name": "stdin",
     "output_type": "stream",
     "text": [
      "Enter day number: 4\n"
     ]
    },
    {
     "name": "stdout",
     "output_type": "stream",
     "text": [
      "Thursday\n"
     ]
    }
   ],
   "source": [
    "# 22. Week Day \n",
    "day = int(input(\"Enter day number:\"))\n",
    "if day==1: \n",
    "    print(\"Monday\")\n",
    "elif day==2: \n",
    "    print(\"Tuesday\")\n",
    "elif day==3: \n",
    "    print(\"Wednesday\")\n",
    "elif day==4: \n",
    "    print(\"Thursday\")\n",
    "elif day==5: \n",
    "    print(\"Friday\")\n",
    "elif day==6: \n",
    "    print(\"Saturday\")\n",
    "elif day==7: \n",
    "    print(\"Sunday\")\n",
    "else: \n",
    "    print(\"Enter valid day number\")"
   ]
  },
  {
   "cell_type": "code",
   "execution_count": 15,
   "id": "e30db1b1-c443-4a5d-8b33-eb618885dd38",
   "metadata": {},
   "outputs": [
    {
     "name": "stdin",
     "output_type": "stream",
     "text": [
      "Enter an year: 2020\n"
     ]
    },
    {
     "name": "stdout",
     "output_type": "stream",
     "text": [
      "Leap Year\n"
     ]
    }
   ],
   "source": [
    "# 23. Leap year \n",
    "year = int(input(\"Enter an year:\"))\n",
    "if year%100 == 0 and year%400 == 0: \n",
    "    print(\"Leap Year\")\n",
    "elif year%4 == 0 and year%100 != 0: \n",
    "    print(\"Leap Year\")\n",
    "else: \n",
    "    print(\"Not a leap year\")"
   ]
  },
  {
   "cell_type": "code",
   "execution_count": 16,
   "id": "6c1eb16e-90a6-40c0-9fc6-d2b901c4b985",
   "metadata": {},
   "outputs": [
    {
     "name": "stdout",
     "output_type": "stream",
     "text": [
      "Hello\n",
      "Hello\n",
      "Hello\n",
      "Hello\n",
      "Hello\n",
      "Hello\n"
     ]
    }
   ],
   "source": [
    "# 24. 'Hello' using While Loop\n",
    "count = 0\n",
    "while count <= 5: \n",
    "    print('Hello')\n",
    "    count += 1"
   ]
  },
  {
   "cell_type": "code",
   "execution_count": 18,
   "id": "33070169-3524-4b3c-8801-2358d7f320bd",
   "metadata": {},
   "outputs": [
    {
     "name": "stdin",
     "output_type": "stream",
     "text": [
      "Enter a number: 445236157\n"
     ]
    },
    {
     "name": "stdout",
     "output_type": "stream",
     "text": [
      "7 5 1 6 3 2 5 4 4 "
     ]
    }
   ],
   "source": [
    "# 25. Printing digits\n",
    "n = int(input(\"Enter a number:\"))\n",
    "while n>0: \n",
    "    r = n%10\n",
    "    n=n//10\n",
    "    print(r, end=' ')"
   ]
  }
 ],
 "metadata": {
  "kernelspec": {
   "display_name": "Python 3 (ipykernel)",
   "language": "python",
   "name": "python3"
  },
  "language_info": {
   "codemirror_mode": {
    "name": "ipython",
    "version": 3
   },
   "file_extension": ".py",
   "mimetype": "text/x-python",
   "name": "python",
   "nbconvert_exporter": "python",
   "pygments_lexer": "ipython3",
   "version": "3.12.7"
  }
 },
 "nbformat": 4,
 "nbformat_minor": 5
}
