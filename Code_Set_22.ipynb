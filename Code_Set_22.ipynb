{
 "cells": [
  {
   "cell_type": "code",
   "execution_count": 13,
   "id": "0379f79c-f14a-445c-a283-8e2bc28d8f82",
   "metadata": {},
   "outputs": [
    {
     "name": "stdout",
     "output_type": "stream",
     "text": [
      "0\n",
      "1\n",
      "2\n",
      "3\n",
      "4\n"
     ]
    }
   ],
   "source": [
    "# 102. Generator Function \n",
    "def myrange(n): \n",
    "    i = 0\n",
    "    while i < n: \n",
    "        yield i\n",
    "        i += 1\n",
    "        \n",
    "m = myrange(5)\n",
    "print(next(m))\n",
    "print(next(m))\n",
    "print(next(m))\n",
    "print(next(m))\n",
    "print(next(m))\n",
    "# print(next(m))"
   ]
  },
  {
   "cell_type": "code",
   "execution_count": 14,
   "id": "6eb284b7-bc76-4299-a096-e52d3a703d7a",
   "metadata": {},
   "outputs": [
    {
     "name": "stdout",
     "output_type": "stream",
     "text": [
      "Mon\n",
      "Tue\n",
      "Wed\n"
     ]
    }
   ],
   "source": [
    "# 103. Week days for Gen function\n",
    "def weekdays(): \n",
    "    days = ['Mon', 'Tue', 'Wed', 'Thu', 'Fri', 'Sat', 'Sun']\n",
    "    i = 0\n",
    "\n",
    "    while True:\n",
    "        yield days[i]\n",
    "        i = (i+1) % 7\n",
    "\n",
    "d = weekdays()\n",
    "print(next(d))\n",
    "print(next(d))\n",
    "print(next(d))"
   ]
  },
  {
   "cell_type": "code",
   "execution_count": 15,
   "id": "165b74e4-2d53-4915-b7b6-215b232bdc2b",
   "metadata": {},
   "outputs": [
    {
     "name": "stdout",
     "output_type": "stream",
     "text": [
      "Outside: 3.14\n",
      "Local: 128\n",
      "Global: 3.14\n"
     ]
    }
   ],
   "source": [
    "# 104. Local and Global variables\n",
    "pi = 3.14\n",
    "print(\"Outside:\", pi)\n",
    "\n",
    "def loc_glo(): \n",
    "    a = 128\n",
    "    print(\"Local:\", a)\n",
    "    print(\"Global:\", pi)\n",
    "\n",
    "loc_glo()"
   ]
  }
 ],
 "metadata": {
  "kernelspec": {
   "display_name": "Python [conda env:base] *",
   "language": "python",
   "name": "conda-base-py"
  },
  "language_info": {
   "codemirror_mode": {
    "name": "ipython",
    "version": 3
   },
   "file_extension": ".py",
   "mimetype": "text/x-python",
   "name": "python",
   "nbconvert_exporter": "python",
   "pygments_lexer": "ipython3",
   "version": "3.12.7"
  }
 },
 "nbformat": 4,
 "nbformat_minor": 5
}
